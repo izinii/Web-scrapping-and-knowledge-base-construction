{
 "cells": [
  {
   "cell_type": "markdown",
   "metadata": {},
   "source": [
    "**Project: Web scrapping, knowledge base construction**\n",
    "\n",
    "\n",
    "- Wendy DUONG\n",
    "- Ilan ZINI\n",
    "\n",
    "DIA6"
   ]
  },
  {
   "cell_type": "markdown",
   "metadata": {},
   "source": [
    "**Part 2: Knowledge Graph Embedding**"
   ]
  },
  {
   "cell_type": "markdown",
   "metadata": {},
   "source": [
    "# **Step 1 - Installation de l’environnement PyKEEN**"
   ]
  },
  {
   "cell_type": "code",
   "execution_count": 1,
   "metadata": {},
   "outputs": [
    {
     "name": "stdout",
     "output_type": "stream",
     "text": [
      "Requirement already satisfied: pykeen in c:\\users\\zinii\\anaconda3\\envs\\pykeen_env\\lib\\site-packages (1.11.0)Note: you may need to restart the kernel to use updated packages.\n",
      "\n",
      "Requirement already satisfied: torch in c:\\users\\zinii\\anaconda3\\envs\\pykeen_env\\lib\\site-packages (2.6.0)\n",
      "Requirement already satisfied: dataclasses-json in c:\\users\\zinii\\anaconda3\\envs\\pykeen_env\\lib\\site-packages (from pykeen) (0.6.7)\n",
      "Requirement already satisfied: numpy in c:\\users\\zinii\\anaconda3\\envs\\pykeen_env\\lib\\site-packages (from pykeen) (2.2.4)\n",
      "Requirement already satisfied: scipy>=1.7.0 in c:\\users\\zinii\\anaconda3\\envs\\pykeen_env\\lib\\site-packages (from pykeen) (1.15.2)\n",
      "Requirement already satisfied: click in c:\\users\\zinii\\anaconda3\\envs\\pykeen_env\\lib\\site-packages (from pykeen) (8.1.8)\n",
      "Requirement already satisfied: click-default-group in c:\\users\\zinii\\anaconda3\\envs\\pykeen_env\\lib\\site-packages (from pykeen) (1.2.4)\n",
      "Requirement already satisfied: scikit-learn in c:\\users\\zinii\\anaconda3\\envs\\pykeen_env\\lib\\site-packages (from pykeen) (1.6.1)\n",
      "Requirement already satisfied: tqdm in c:\\users\\zinii\\anaconda3\\envs\\pykeen_env\\lib\\site-packages (from pykeen) (4.67.1)\n",
      "Requirement already satisfied: requests in c:\\users\\zinii\\anaconda3\\envs\\pykeen_env\\lib\\site-packages (from pykeen) (2.32.3)\n",
      "Requirement already satisfied: optuna>=2.0.0 in c:\\users\\zinii\\anaconda3\\envs\\pykeen_env\\lib\\site-packages (from pykeen) (4.2.1)\n",
      "Requirement already satisfied: pandas>=1.0.0 in c:\\users\\zinii\\anaconda3\\envs\\pykeen_env\\lib\\site-packages (from pykeen) (2.2.3)\n",
      "Requirement already satisfied: tabulate in c:\\users\\zinii\\anaconda3\\envs\\pykeen_env\\lib\\site-packages (from pykeen) (0.9.0)\n",
      "Requirement already satisfied: more-click in c:\\users\\zinii\\anaconda3\\envs\\pykeen_env\\lib\\site-packages (from pykeen) (0.1.2)\n",
      "Requirement already satisfied: more-itertools in c:\\users\\zinii\\anaconda3\\envs\\pykeen_env\\lib\\site-packages (from pykeen) (10.6.0)\n",
      "Requirement already satisfied: pystow>=0.4.3 in c:\\users\\zinii\\anaconda3\\envs\\pykeen_env\\lib\\site-packages (from pykeen) (0.7.0)\n",
      "Requirement already satisfied: docdata in c:\\users\\zinii\\anaconda3\\envs\\pykeen_env\\lib\\site-packages (from pykeen) (0.0.4)\n",
      "Requirement already satisfied: class-resolver>=0.5.1 in c:\\users\\zinii\\anaconda3\\envs\\pykeen_env\\lib\\site-packages (from pykeen) (0.5.4)\n",
      "Requirement already satisfied: pyyaml in c:\\users\\zinii\\anaconda3\\envs\\pykeen_env\\lib\\site-packages (from pykeen) (6.0.2)\n",
      "Requirement already satisfied: torch-max-mem>=0.1.1 in c:\\users\\zinii\\anaconda3\\envs\\pykeen_env\\lib\\site-packages (from pykeen) (0.1.3)\n",
      "Requirement already satisfied: torch-ppr>=0.0.7 in c:\\users\\zinii\\anaconda3\\envs\\pykeen_env\\lib\\site-packages (from pykeen) (0.0.8)\n",
      "Requirement already satisfied: typing-extensions in c:\\users\\zinii\\anaconda3\\envs\\pykeen_env\\lib\\site-packages (from pykeen) (4.13.0)\n",
      "Requirement already satisfied: filelock in c:\\users\\zinii\\anaconda3\\envs\\pykeen_env\\lib\\site-packages (from torch) (3.18.0)\n",
      "Requirement already satisfied: networkx in c:\\users\\zinii\\anaconda3\\envs\\pykeen_env\\lib\\site-packages (from torch) (3.4.2)\n",
      "Requirement already satisfied: jinja2 in c:\\users\\zinii\\anaconda3\\envs\\pykeen_env\\lib\\site-packages (from torch) (3.1.6)\n",
      "Requirement already satisfied: fsspec in c:\\users\\zinii\\anaconda3\\envs\\pykeen_env\\lib\\site-packages (from torch) (2025.3.0)\n",
      "Requirement already satisfied: sympy==1.13.1 in c:\\users\\zinii\\anaconda3\\envs\\pykeen_env\\lib\\site-packages (from torch) (1.13.1)\n",
      "Requirement already satisfied: mpmath<1.4,>=1.1.0 in c:\\users\\zinii\\anaconda3\\envs\\pykeen_env\\lib\\site-packages (from sympy==1.13.1->torch) (1.3.0)\n",
      "Requirement already satisfied: alembic>=1.5.0 in c:\\users\\zinii\\anaconda3\\envs\\pykeen_env\\lib\\site-packages (from optuna>=2.0.0->pykeen) (1.15.1)\n",
      "Requirement already satisfied: colorlog in c:\\users\\zinii\\anaconda3\\envs\\pykeen_env\\lib\\site-packages (from optuna>=2.0.0->pykeen) (6.9.0)\n",
      "Requirement already satisfied: packaging>=20.0 in c:\\users\\zinii\\anaconda3\\envs\\pykeen_env\\lib\\site-packages (from optuna>=2.0.0->pykeen) (24.2)\n",
      "Requirement already satisfied: sqlalchemy>=1.4.2 in c:\\users\\zinii\\anaconda3\\envs\\pykeen_env\\lib\\site-packages (from optuna>=2.0.0->pykeen) (2.0.39)\n",
      "Requirement already satisfied: python-dateutil>=2.8.2 in c:\\users\\zinii\\anaconda3\\envs\\pykeen_env\\lib\\site-packages (from pandas>=1.0.0->pykeen) (2.9.0.post0)\n",
      "Requirement already satisfied: pytz>=2020.1 in c:\\users\\zinii\\anaconda3\\envs\\pykeen_env\\lib\\site-packages (from pandas>=1.0.0->pykeen) (2025.2)\n",
      "Requirement already satisfied: tzdata>=2022.7 in c:\\users\\zinii\\anaconda3\\envs\\pykeen_env\\lib\\site-packages (from pandas>=1.0.0->pykeen) (2025.2)\n",
      "Requirement already satisfied: colorama in c:\\users\\zinii\\anaconda3\\envs\\pykeen_env\\lib\\site-packages (from click->pykeen) (0.4.6)\n",
      "Requirement already satisfied: marshmallow<4.0.0,>=3.18.0 in c:\\users\\zinii\\anaconda3\\envs\\pykeen_env\\lib\\site-packages (from dataclasses-json->pykeen) (3.26.1)\n",
      "Requirement already satisfied: typing-inspect<1,>=0.4.0 in c:\\users\\zinii\\anaconda3\\envs\\pykeen_env\\lib\\site-packages (from dataclasses-json->pykeen) (0.9.0)\n",
      "Requirement already satisfied: MarkupSafe>=2.0 in c:\\users\\zinii\\anaconda3\\envs\\pykeen_env\\lib\\site-packages (from jinja2->torch) (3.0.2)\n",
      "Requirement already satisfied: charset-normalizer<4,>=2 in c:\\users\\zinii\\anaconda3\\envs\\pykeen_env\\lib\\site-packages (from requests->pykeen) (3.4.1)\n",
      "Requirement already satisfied: idna<4,>=2.5 in c:\\users\\zinii\\anaconda3\\envs\\pykeen_env\\lib\\site-packages (from requests->pykeen) (3.10)\n",
      "Requirement already satisfied: urllib3<3,>=1.21.1 in c:\\users\\zinii\\anaconda3\\envs\\pykeen_env\\lib\\site-packages (from requests->pykeen) (2.3.0)\n",
      "Requirement already satisfied: certifi>=2017.4.17 in c:\\users\\zinii\\anaconda3\\envs\\pykeen_env\\lib\\site-packages (from requests->pykeen) (2025.1.31)\n",
      "Requirement already satisfied: joblib>=1.2.0 in c:\\users\\zinii\\anaconda3\\envs\\pykeen_env\\lib\\site-packages (from scikit-learn->pykeen) (1.4.2)\n",
      "Requirement already satisfied: threadpoolctl>=3.1.0 in c:\\users\\zinii\\anaconda3\\envs\\pykeen_env\\lib\\site-packages (from scikit-learn->pykeen) (3.6.0)\n",
      "Requirement already satisfied: Mako in c:\\users\\zinii\\anaconda3\\envs\\pykeen_env\\lib\\site-packages (from alembic>=1.5.0->optuna>=2.0.0->pykeen) (1.3.9)\n",
      "Requirement already satisfied: six>=1.5 in c:\\users\\zinii\\anaconda3\\envs\\pykeen_env\\lib\\site-packages (from python-dateutil>=2.8.2->pandas>=1.0.0->pykeen) (1.17.0)\n",
      "Requirement already satisfied: greenlet!=0.4.17 in c:\\users\\zinii\\anaconda3\\envs\\pykeen_env\\lib\\site-packages (from sqlalchemy>=1.4.2->optuna>=2.0.0->pykeen) (3.1.1)\n",
      "Requirement already satisfied: mypy-extensions>=0.3.0 in c:\\users\\zinii\\anaconda3\\envs\\pykeen_env\\lib\\site-packages (from typing-inspect<1,>=0.4.0->dataclasses-json->pykeen) (1.0.0)\n"
     ]
    }
   ],
   "source": [
    "pip install pykeen torch"
   ]
  },
  {
   "cell_type": "markdown",
   "metadata": {},
   "source": [
    "# **Step 2 - Convertir le graphe RDF en format PyKEEN**"
   ]
  },
  {
   "cell_type": "code",
   "execution_count": 2,
   "metadata": {},
   "outputs": [
    {
     "name": "stderr",
     "output_type": "stream",
     "text": [
      "\n",
      "A module that was compiled using NumPy 1.x cannot be run in\n",
      "NumPy 2.2.4 as it may crash. To support both 1.x and 2.x\n",
      "versions of NumPy, modules must be compiled with NumPy 2.0.\n",
      "Some module may need to rebuild instead e.g. with 'pybind11>=2.12'.\n",
      "\n",
      "If you are a user of the module, the easiest solution will be to\n",
      "downgrade to 'numpy<2' or try to upgrade the affected module.\n",
      "We expect that some modules will need time to support NumPy 2.\n",
      "\n",
      "Traceback (most recent call last):  File \"c:\\Users\\zinii\\anaconda3\\envs\\pykeen_env\\lib\\runpy.py\", line 196, in _run_module_as_main\n",
      "    return _run_code(code, main_globals, None,\n",
      "  File \"c:\\Users\\zinii\\anaconda3\\envs\\pykeen_env\\lib\\runpy.py\", line 86, in _run_code\n",
      "    exec(code, run_globals)\n",
      "  File \"c:\\Users\\zinii\\anaconda3\\envs\\pykeen_env\\lib\\site-packages\\ipykernel_launcher.py\", line 18, in <module>\n",
      "    app.launch_new_instance()\n",
      "  File \"c:\\Users\\zinii\\anaconda3\\envs\\pykeen_env\\lib\\site-packages\\traitlets\\config\\application.py\", line 1075, in launch_instance\n",
      "    app.start()\n",
      "  File \"c:\\Users\\zinii\\anaconda3\\envs\\pykeen_env\\lib\\site-packages\\ipykernel\\kernelapp.py\", line 739, in start\n",
      "    self.io_loop.start()\n",
      "  File \"c:\\Users\\zinii\\anaconda3\\envs\\pykeen_env\\lib\\site-packages\\tornado\\platform\\asyncio.py\", line 205, in start\n",
      "    self.asyncio_loop.run_forever()\n",
      "  File \"c:\\Users\\zinii\\anaconda3\\envs\\pykeen_env\\lib\\asyncio\\base_events.py\", line 603, in run_forever\n",
      "    self._run_once()\n",
      "  File \"c:\\Users\\zinii\\anaconda3\\envs\\pykeen_env\\lib\\asyncio\\base_events.py\", line 1909, in _run_once\n",
      "    handle._run()\n",
      "  File \"c:\\Users\\zinii\\anaconda3\\envs\\pykeen_env\\lib\\asyncio\\events.py\", line 80, in _run\n",
      "    self._context.run(self._callback, *self._args)\n",
      "  File \"c:\\Users\\zinii\\anaconda3\\envs\\pykeen_env\\lib\\site-packages\\ipykernel\\kernelbase.py\", line 545, in dispatch_queue\n",
      "    await self.process_one()\n",
      "  File \"c:\\Users\\zinii\\anaconda3\\envs\\pykeen_env\\lib\\site-packages\\ipykernel\\kernelbase.py\", line 534, in process_one\n",
      "    await dispatch(*args)\n",
      "  File \"c:\\Users\\zinii\\anaconda3\\envs\\pykeen_env\\lib\\site-packages\\ipykernel\\kernelbase.py\", line 437, in dispatch_shell\n",
      "    await result\n",
      "  File \"c:\\Users\\zinii\\anaconda3\\envs\\pykeen_env\\lib\\site-packages\\ipykernel\\ipkernel.py\", line 362, in execute_request\n",
      "    await super().execute_request(stream, ident, parent)\n",
      "  File \"c:\\Users\\zinii\\anaconda3\\envs\\pykeen_env\\lib\\site-packages\\ipykernel\\kernelbase.py\", line 778, in execute_request\n",
      "    reply_content = await reply_content\n",
      "  File \"c:\\Users\\zinii\\anaconda3\\envs\\pykeen_env\\lib\\site-packages\\ipykernel\\ipkernel.py\", line 449, in do_execute\n",
      "    res = shell.run_cell(\n",
      "  File \"c:\\Users\\zinii\\anaconda3\\envs\\pykeen_env\\lib\\site-packages\\ipykernel\\zmqshell.py\", line 549, in run_cell\n",
      "    return super().run_cell(*args, **kwargs)\n",
      "  File \"c:\\Users\\zinii\\anaconda3\\envs\\pykeen_env\\lib\\site-packages\\IPython\\core\\interactiveshell.py\", line 3077, in run_cell\n",
      "    result = self._run_cell(\n",
      "  File \"c:\\Users\\zinii\\anaconda3\\envs\\pykeen_env\\lib\\site-packages\\IPython\\core\\interactiveshell.py\", line 3132, in _run_cell\n",
      "    result = runner(coro)\n",
      "  File \"c:\\Users\\zinii\\anaconda3\\envs\\pykeen_env\\lib\\site-packages\\IPython\\core\\async_helpers.py\", line 128, in _pseudo_sync_runner\n",
      "    coro.send(None)\n",
      "  File \"c:\\Users\\zinii\\anaconda3\\envs\\pykeen_env\\lib\\site-packages\\IPython\\core\\interactiveshell.py\", line 3336, in run_cell_async\n",
      "    has_raised = await self.run_ast_nodes(code_ast.body, cell_name,\n",
      "  File \"c:\\Users\\zinii\\anaconda3\\envs\\pykeen_env\\lib\\site-packages\\IPython\\core\\interactiveshell.py\", line 3519, in run_ast_nodes\n",
      "    if await self.run_code(code, result, async_=asy):\n",
      "  File \"c:\\Users\\zinii\\anaconda3\\envs\\pykeen_env\\lib\\site-packages\\IPython\\core\\interactiveshell.py\", line 3579, in run_code\n",
      "    exec(code_obj, self.user_global_ns, self.user_ns)\n",
      "  File \"C:\\Users\\zinii\\AppData\\Local\\Temp\\ipykernel_21888\\4085537842.py\", line 2, in <module>\n",
      "    from pykeen.triples import TriplesFactory\n",
      "  File \"c:\\Users\\zinii\\anaconda3\\envs\\pykeen_env\\lib\\site-packages\\pykeen\\triples\\__init__.py\", line 65, in <module>\n",
      "    from .instances import Instances, LCWAInstances, SLCWAInstances\n",
      "  File \"c:\\Users\\zinii\\anaconda3\\envs\\pykeen_env\\lib\\site-packages\\pykeen\\triples\\instances.py\", line 15, in <module>\n",
      "    from .utils import compute_compressed_adjacency_list\n",
      "  File \"c:\\Users\\zinii\\anaconda3\\envs\\pykeen_env\\lib\\site-packages\\pykeen\\triples\\utils.py\", line 8, in <module>\n",
      "    import pandas\n",
      "  File \"c:\\Users\\zinii\\anaconda3\\envs\\pykeen_env\\lib\\site-packages\\pandas\\__init__.py\", line 39, in <module>\n",
      "    from pandas.compat import (\n",
      "  File \"c:\\Users\\zinii\\anaconda3\\envs\\pykeen_env\\lib\\site-packages\\pandas\\compat\\__init__.py\", line 27, in <module>\n",
      "    from pandas.compat.pyarrow import (\n",
      "  File \"c:\\Users\\zinii\\anaconda3\\envs\\pykeen_env\\lib\\site-packages\\pandas\\compat\\pyarrow.py\", line 8, in <module>\n",
      "    import pyarrow as pa\n",
      "  File \"c:\\Users\\zinii\\anaconda3\\envs\\pykeen_env\\lib\\site-packages\\pyarrow\\__init__.py\", line 65, in <module>\n",
      "    import pyarrow.lib as _lib\n"
     ]
    },
    {
     "ename": "AttributeError",
     "evalue": "_ARRAY_API not found",
     "output_type": "error",
     "traceback": [
      "\u001b[1;31m---------------------------------------------------------------------------\u001b[0m",
      "\u001b[1;31mAttributeError\u001b[0m                            Traceback (most recent call last)",
      "\u001b[1;31mAttributeError\u001b[0m: _ARRAY_API not found"
     ]
    },
    {
     "name": "stderr",
     "output_type": "stream",
     "text": [
      "\n",
      "A module that was compiled using NumPy 1.x cannot be run in\n",
      "NumPy 2.2.4 as it may crash. To support both 1.x and 2.x\n",
      "versions of NumPy, modules must be compiled with NumPy 2.0.\n",
      "Some module may need to rebuild instead e.g. with 'pybind11>=2.12'.\n",
      "\n",
      "If you are a user of the module, the easiest solution will be to\n",
      "downgrade to 'numpy<2' or try to upgrade the affected module.\n",
      "We expect that some modules will need time to support NumPy 2.\n",
      "\n",
      "Traceback (most recent call last):  File \"c:\\Users\\zinii\\anaconda3\\envs\\pykeen_env\\lib\\runpy.py\", line 196, in _run_module_as_main\n",
      "    return _run_code(code, main_globals, None,\n",
      "  File \"c:\\Users\\zinii\\anaconda3\\envs\\pykeen_env\\lib\\runpy.py\", line 86, in _run_code\n",
      "    exec(code, run_globals)\n",
      "  File \"c:\\Users\\zinii\\anaconda3\\envs\\pykeen_env\\lib\\site-packages\\ipykernel_launcher.py\", line 18, in <module>\n",
      "    app.launch_new_instance()\n",
      "  File \"c:\\Users\\zinii\\anaconda3\\envs\\pykeen_env\\lib\\site-packages\\traitlets\\config\\application.py\", line 1075, in launch_instance\n",
      "    app.start()\n",
      "  File \"c:\\Users\\zinii\\anaconda3\\envs\\pykeen_env\\lib\\site-packages\\ipykernel\\kernelapp.py\", line 739, in start\n",
      "    self.io_loop.start()\n",
      "  File \"c:\\Users\\zinii\\anaconda3\\envs\\pykeen_env\\lib\\site-packages\\tornado\\platform\\asyncio.py\", line 205, in start\n",
      "    self.asyncio_loop.run_forever()\n",
      "  File \"c:\\Users\\zinii\\anaconda3\\envs\\pykeen_env\\lib\\asyncio\\base_events.py\", line 603, in run_forever\n",
      "    self._run_once()\n",
      "  File \"c:\\Users\\zinii\\anaconda3\\envs\\pykeen_env\\lib\\asyncio\\base_events.py\", line 1909, in _run_once\n",
      "    handle._run()\n",
      "  File \"c:\\Users\\zinii\\anaconda3\\envs\\pykeen_env\\lib\\asyncio\\events.py\", line 80, in _run\n",
      "    self._context.run(self._callback, *self._args)\n",
      "  File \"c:\\Users\\zinii\\anaconda3\\envs\\pykeen_env\\lib\\site-packages\\ipykernel\\kernelbase.py\", line 545, in dispatch_queue\n",
      "    await self.process_one()\n",
      "  File \"c:\\Users\\zinii\\anaconda3\\envs\\pykeen_env\\lib\\site-packages\\ipykernel\\kernelbase.py\", line 534, in process_one\n",
      "    await dispatch(*args)\n",
      "  File \"c:\\Users\\zinii\\anaconda3\\envs\\pykeen_env\\lib\\site-packages\\ipykernel\\kernelbase.py\", line 437, in dispatch_shell\n",
      "    await result\n",
      "  File \"c:\\Users\\zinii\\anaconda3\\envs\\pykeen_env\\lib\\site-packages\\ipykernel\\ipkernel.py\", line 362, in execute_request\n",
      "    await super().execute_request(stream, ident, parent)\n",
      "  File \"c:\\Users\\zinii\\anaconda3\\envs\\pykeen_env\\lib\\site-packages\\ipykernel\\kernelbase.py\", line 778, in execute_request\n",
      "    reply_content = await reply_content\n",
      "  File \"c:\\Users\\zinii\\anaconda3\\envs\\pykeen_env\\lib\\site-packages\\ipykernel\\ipkernel.py\", line 449, in do_execute\n",
      "    res = shell.run_cell(\n",
      "  File \"c:\\Users\\zinii\\anaconda3\\envs\\pykeen_env\\lib\\site-packages\\ipykernel\\zmqshell.py\", line 549, in run_cell\n",
      "    return super().run_cell(*args, **kwargs)\n",
      "  File \"c:\\Users\\zinii\\anaconda3\\envs\\pykeen_env\\lib\\site-packages\\IPython\\core\\interactiveshell.py\", line 3077, in run_cell\n",
      "    result = self._run_cell(\n",
      "  File \"c:\\Users\\zinii\\anaconda3\\envs\\pykeen_env\\lib\\site-packages\\IPython\\core\\interactiveshell.py\", line 3132, in _run_cell\n",
      "    result = runner(coro)\n",
      "  File \"c:\\Users\\zinii\\anaconda3\\envs\\pykeen_env\\lib\\site-packages\\IPython\\core\\async_helpers.py\", line 128, in _pseudo_sync_runner\n",
      "    coro.send(None)\n",
      "  File \"c:\\Users\\zinii\\anaconda3\\envs\\pykeen_env\\lib\\site-packages\\IPython\\core\\interactiveshell.py\", line 3336, in run_cell_async\n",
      "    has_raised = await self.run_ast_nodes(code_ast.body, cell_name,\n",
      "  File \"c:\\Users\\zinii\\anaconda3\\envs\\pykeen_env\\lib\\site-packages\\IPython\\core\\interactiveshell.py\", line 3519, in run_ast_nodes\n",
      "    if await self.run_code(code, result, async_=asy):\n",
      "  File \"c:\\Users\\zinii\\anaconda3\\envs\\pykeen_env\\lib\\site-packages\\IPython\\core\\interactiveshell.py\", line 3579, in run_code\n",
      "    exec(code_obj, self.user_global_ns, self.user_ns)\n",
      "  File \"C:\\Users\\zinii\\AppData\\Local\\Temp\\ipykernel_21888\\4085537842.py\", line 2, in <module>\n",
      "    from pykeen.triples import TriplesFactory\n",
      "  File \"c:\\Users\\zinii\\anaconda3\\envs\\pykeen_env\\lib\\site-packages\\pykeen\\triples\\__init__.py\", line 65, in <module>\n",
      "    from .instances import Instances, LCWAInstances, SLCWAInstances\n",
      "  File \"c:\\Users\\zinii\\anaconda3\\envs\\pykeen_env\\lib\\site-packages\\pykeen\\triples\\instances.py\", line 15, in <module>\n",
      "    from .utils import compute_compressed_adjacency_list\n",
      "  File \"c:\\Users\\zinii\\anaconda3\\envs\\pykeen_env\\lib\\site-packages\\pykeen\\triples\\utils.py\", line 8, in <module>\n",
      "    import pandas\n",
      "  File \"c:\\Users\\zinii\\anaconda3\\envs\\pykeen_env\\lib\\site-packages\\pandas\\__init__.py\", line 62, in <module>\n",
      "    from pandas.core.api import (\n",
      "  File \"c:\\Users\\zinii\\anaconda3\\envs\\pykeen_env\\lib\\site-packages\\pandas\\core\\api.py\", line 9, in <module>\n",
      "    from pandas.core.dtypes.dtypes import (\n",
      "  File \"c:\\Users\\zinii\\anaconda3\\envs\\pykeen_env\\lib\\site-packages\\pandas\\core\\dtypes\\dtypes.py\", line 24, in <module>\n",
      "    from pandas._libs import (\n",
      "  File \"c:\\Users\\zinii\\anaconda3\\envs\\pykeen_env\\lib\\site-packages\\pyarrow\\__init__.py\", line 65, in <module>\n",
      "    import pyarrow.lib as _lib\n"
     ]
    },
    {
     "ename": "AttributeError",
     "evalue": "_ARRAY_API not found",
     "output_type": "error",
     "traceback": [
      "\u001b[1;31m---------------------------------------------------------------------------\u001b[0m",
      "\u001b[1;31mAttributeError\u001b[0m                            Traceback (most recent call last)",
      "\u001b[1;31mAttributeError\u001b[0m: _ARRAY_API not found"
     ]
    },
    {
     "name": "stderr",
     "output_type": "stream",
     "text": [
      "c:\\Users\\zinii\\anaconda3\\envs\\pykeen_env\\lib\\site-packages\\tqdm\\auto.py:21: TqdmWarning: IProgress not found. Please update jupyter and ipywidgets. See https://ipywidgets.readthedocs.io/en/stable/user_install.html\n",
      "  from .autonotebook import tqdm as notebook_tqdm\n",
      "Reconstructing all label-based triples. This is expensive and rarely needed.\n"
     ]
    },
    {
     "name": "stdout",
     "output_type": "stream",
     "text": [
      "Nombre de triplets : 3\n",
      "Quelques triplets :\n",
      "[['http://example.org/Jobs' 'http://example.org/found'\n",
      "  'http://example.org/Apple']\n",
      " ['http://example.org/Musk' 'http://example.org/work_at'\n",
      "  'http://example.org/SpaceX']\n",
      " ['http://example.org/Pichai' 'http://example.org/ceo_of'\n",
      "  'http://example.org/Google']]\n"
     ]
    }
   ],
   "source": [
    "from rdflib import Graph\n",
    "from pykeen.triples import TriplesFactory\n",
    "import numpy as np\n",
    "\n",
    "# Charger le graphe RDF\n",
    "g = Graph()\n",
    "g.parse(\"knowledge_graph.rdf\", format=\"xml\")\n",
    "\n",
    "# Extraire les triplets et convertir en array numpy\n",
    "triples = [(str(s), str(p), str(o)) for s, p, o in g]\n",
    "triples_array = np.array(triples)\n",
    "\n",
    "# Créer le TriplesFactory\n",
    "tf = TriplesFactory.from_labeled_triples(triples_array)\n",
    "\n",
    "# Vérification\n",
    "print(f\"Nombre de triplets : {tf.num_triples}\")\n",
    "print(\"Quelques triplets :\")\n",
    "print(tf.triples)"
   ]
  },
  {
   "cell_type": "markdown",
   "metadata": {},
   "source": [
    "# **Step 3 - Entraînement du modèle TransE avec PyKEEN**"
   ]
  },
  {
   "cell_type": "markdown",
   "metadata": {},
   "source": [
    "## 3.1 On enrichi notre graphe RDF"
   ]
  },
  {
   "cell_type": "markdown",
   "metadata": {},
   "source": [
    "Le graphe extrait automatiquement dans la Part 1 comportait un nombre limité de triplets. Afin d’entraîner efficacement un modèle d'embedding dans la Part 2, nous avons enrichi manuellement le graphe RDF avec des entités et relations connues. Cette stratégie permet de contourner les limitations liées à la taille du jeu de données. "
   ]
  },
  {
   "cell_type": "markdown",
   "metadata": {},
   "source": [
    "Le but est d'augmenter le nombre de relations."
   ]
  },
  {
   "cell_type": "code",
   "execution_count": 3,
   "metadata": {},
   "outputs": [
    {
     "data": {
      "text/plain": [
       "<Graph identifier=N49bb0f04303c42018808510df596d8bb (<class 'rdflib.graph.Graph'>)>"
      ]
     },
     "execution_count": 3,
     "metadata": {},
     "output_type": "execute_result"
    }
   ],
   "source": [
    "from rdflib import Graph, Namespace, URIRef, Literal, RDF\n",
    "\n",
    "# Nouveau graphe enrichi\n",
    "relations = [\n",
    "    (\"Jobs\", \"found\", \"Apple\"),\n",
    "    (\"Musk\", \"work_at\", \"SpaceX\"),\n",
    "    (\"Pichai\", \"ceo_of\", \"Google\"),\n",
    "    (\"Bezos\", \"found\", \"Amazon\"),\n",
    "    (\"Brin\", \"found\", \"Google\"),\n",
    "    (\"Zuckerberg\", \"ceo_of\", \"Meta\"),\n",
    "    (\"Cook\", \"ceo_of\", \"Apple\"),\n",
    "    (\"Nadella\", \"ceo_of\", \"Microsoft\"),\n",
    "    (\"Musk\", \"ceo_of\", \"Tesla\"),\n",
    "    (\"Bezos\", \"ceo_of\", \"Amazon\"),\n",
    "    (\"Brin\", \"work_at\", \"Alphabet\"),\n",
    "    (\"Page\", \"found\", \"Google\"),\n",
    "    (\"Page\", \"work_at\", \"Alphabet\"),\n",
    "    (\"Cook\", \"work_at\", \"Apple\"),\n",
    "    (\"Zuckerberg\", \"found\", \"Facebook\"),\n",
    "]\n",
    "\n",
    "# Création du graphe RDF\n",
    "g = Graph()\n",
    "EX = Namespace(\"http://example.org/\")\n",
    "g.bind(\"ex\", EX)\n",
    "\n",
    "for head, rel, tail in relations:\n",
    "    g.add((URIRef(EX[head]), URIRef(EX[rel]), URIRef(EX[tail])))\n",
    "\n",
    "# Export\n",
    "g.serialize(destination=\"knowledge_graph_enrished.rdf\", format=\"xml\")"
   ]
  },
  {
   "cell_type": "markdown",
   "metadata": {},
   "source": [
    "## 3.2 On relance le Step 2"
   ]
  },
  {
   "cell_type": "code",
   "execution_count": 4,
   "metadata": {},
   "outputs": [
    {
     "name": "stderr",
     "output_type": "stream",
     "text": [
      "Reconstructing all label-based triples. This is expensive and rarely needed.\n"
     ]
    },
    {
     "name": "stdout",
     "output_type": "stream",
     "text": [
      "Nombre de triplets : 15\n",
      "Quelques triplets :\n",
      "[['http://example.org/Bezos' 'http://example.org/ceo_of'\n",
      "  'http://example.org/Amazon']\n",
      " ['http://example.org/Bezos' 'http://example.org/found'\n",
      "  'http://example.org/Amazon']\n",
      " ['http://example.org/Brin' 'http://example.org/found'\n",
      "  'http://example.org/Google']\n",
      " ['http://example.org/Brin' 'http://example.org/work_at'\n",
      "  'http://example.org/Alphabet']\n",
      " ['http://example.org/Cook' 'http://example.org/ceo_of'\n",
      "  'http://example.org/Apple']\n",
      " ['http://example.org/Cook' 'http://example.org/work_at'\n",
      "  'http://example.org/Apple']\n",
      " ['http://example.org/Jobs' 'http://example.org/found'\n",
      "  'http://example.org/Apple']\n",
      " ['http://example.org/Musk' 'http://example.org/ceo_of'\n",
      "  'http://example.org/Tesla']\n",
      " ['http://example.org/Musk' 'http://example.org/work_at'\n",
      "  'http://example.org/SpaceX']\n",
      " ['http://example.org/Nadella' 'http://example.org/ceo_of'\n",
      "  'http://example.org/Microsoft']\n",
      " ['http://example.org/Page' 'http://example.org/found'\n",
      "  'http://example.org/Google']\n",
      " ['http://example.org/Page' 'http://example.org/work_at'\n",
      "  'http://example.org/Alphabet']\n",
      " ['http://example.org/Pichai' 'http://example.org/ceo_of'\n",
      "  'http://example.org/Google']\n",
      " ['http://example.org/Zuckerberg' 'http://example.org/ceo_of'\n",
      "  'http://example.org/Meta']\n",
      " ['http://example.org/Zuckerberg' 'http://example.org/found'\n",
      "  'http://example.org/Facebook']]\n"
     ]
    }
   ],
   "source": [
    "from rdflib import Graph\n",
    "from pykeen.triples import TriplesFactory\n",
    "import numpy as np\n",
    "\n",
    "# Charger le graphe RDF\n",
    "g = Graph()\n",
    "g.parse(\"knowledge_graph_enrished.rdf\", format=\"xml\")\n",
    "\n",
    "# Extraire les triplets et convertir en array numpy\n",
    "triples = [(str(s), str(p), str(o)) for s, p, o in g]\n",
    "triples_array = np.array(triples)\n",
    "\n",
    "# Créer le TriplesFactory\n",
    "tf = TriplesFactory.from_labeled_triples(triples_array)\n",
    "\n",
    "# Vérification\n",
    "print(f\"Nombre de triplets : {tf.num_triples}\")\n",
    "print(\"Quelques triplets :\")\n",
    "print(tf.triples)"
   ]
  },
  {
   "cell_type": "markdown",
   "metadata": {},
   "source": [
    "On a augmenté notre nombre de triplets de 3 à 15. "
   ]
  },
  {
   "cell_type": "markdown",
   "metadata": {},
   "source": [
    "## 3.3 Split en training / validation / test"
   ]
  },
  {
   "cell_type": "markdown",
   "metadata": {},
   "source": [
    "On décide de faire un split 80/10/10. "
   ]
  },
  {
   "cell_type": "code",
   "execution_count": 5,
   "metadata": {},
   "outputs": [
    {
     "name": "stderr",
     "output_type": "stream",
     "text": [
      "using automatically assigned random_state=1509934720\n"
     ]
    },
    {
     "name": "stdout",
     "output_type": "stream",
     "text": [
      "Training: 12\n",
      "Validation: 1\n",
      "Testing: 2\n"
     ]
    }
   ],
   "source": [
    "training, validation, testing = tf.split([0.8, 0.1, 0.1])\n",
    "\n",
    "print(f\"Training: {training.num_triples}\")\n",
    "print(f\"Validation: {validation.num_triples}\")\n",
    "print(f\"Testing: {testing.num_triples}\")"
   ]
  },
  {
   "cell_type": "markdown",
   "metadata": {},
   "source": [
    "## 3.4 Entraînement du modèle TransE"
   ]
  },
  {
   "cell_type": "code",
   "execution_count": 6,
   "metadata": {},
   "outputs": [
    {
     "name": "stderr",
     "output_type": "stream",
     "text": [
      "No cuda devices were available. The model runs on CPU\n",
      "Training epochs on cpu: 100%|██████████| 100/100 [00:15<00:00,  6.51epoch/s, loss=0.129, prev_loss=0.586] \n",
      "WARNING:pykeen.utils:Using automatic batch size on device.type='cpu' can cause unexplained out-of-memory crashes. Therefore, we use a conservative small batch_size=32. Performance may be improved by explicitly specifying a larger batch size.\n",
      "Evaluating on cpu:   0%|          | 0.00/2.00 [00:00<?, ?triple/s]WARNING:torch_max_mem.api:Encountered tensors on device_types={'cpu'} while only ['cuda'] are considered safe for automatic memory utilization maximization. This may lead to undocumented crashes (but can be safe, too).\n",
      "Evaluating on cpu: 100%|██████████| 2.00/2.00 [00:00<00:00, 44.6triple/s]\n",
      "INFO:pykeen.evaluation.evaluator:Evaluation took 0.05s seconds\n"
     ]
    }
   ],
   "source": [
    "from pykeen.pipeline import pipeline\n",
    "\n",
    "results = pipeline(\n",
    "    training=training,\n",
    "    validation=validation,\n",
    "    testing=testing,\n",
    "    model='TransE',\n",
    "    model_kwargs=dict(embedding_dim=50),\n",
    "    training_kwargs=dict(batch_size=16),\n",
    "    epochs=100,\n",
    "    random_seed=42,\n",
    ")"
   ]
  },
  {
   "cell_type": "markdown",
   "metadata": {},
   "source": [
    "# **Step 4 - Evaluation et exploration**"
   ]
  },
  {
   "attachments": {
    "image.png": {
     "image/png": "[encoded data removed]"
    }
   },
   "cell_type": "markdown",
   "metadata": {},
   "source": [
    "![image.png](attachment:image.png)"
   ]
  },
  {
   "cell_type": "markdown",
   "metadata": {},
   "source": [
    "## 4.1 Similarité entre entités (cosine similarity)"
   ]
  },
  {
   "cell_type": "markdown",
   "metadata": {},
   "source": [
    "Cette étape compare les vecteurs d’entités pour trouver celles qui sont les plus proches dans l’espace vectoriel (après entraînement)."
   ]
  },
  {
   "cell_type": "code",
   "execution_count": 7,
   "metadata": {},
   "outputs": [
    {
     "name": "stdout",
     "output_type": "stream",
     "text": [
      "\n",
      "Entités les plus similaires à http://example.org/Apple :\n",
      "- http://example.org/Microsoft\n",
      "- http://example.org/Facebook\n",
      "- http://example.org/Brin\n",
      "- http://example.org/Jobs\n",
      "- http://example.org/Cook\n"
     ]
    }
   ],
   "source": [
    "# ✅ Récupération compatible des embeddings\n",
    "entity_embeddings = results.model.entity_representations[0]().detach().cpu().numpy()\n",
    "entity_labels = results.training.entity_labeling.label_to_id  # Pour s'assurer de la compatibilité\n",
    "\n",
    "# 🔍 Fonction pour similarité\n",
    "from sklearn.metrics.pairwise import cosine_similarity\n",
    "import numpy as np\n",
    "\n",
    "def find_similar_entities(entity_id, entity_embeddings, top_k=5):\n",
    "    entity_vector = entity_embeddings[entity_id].reshape(1, -1)\n",
    "    similarities = cosine_similarity(entity_vector, entity_embeddings)\n",
    "    most_similar = np.argsort(similarities[0])[-top_k-1:-1][::-1]\n",
    "    return most_similar\n",
    "\n",
    "# 💡 Exemple : entité cible\n",
    "target_entity = \"http://example.org/Apple\"\n",
    "\n",
    "if target_entity in results.training.entity_labeling.label_to_id:\n",
    "    entity_id = results.training.entity_labeling.label_to_id[target_entity]\n",
    "    similar_ids = find_similar_entities(entity_id, entity_embeddings)\n",
    "\n",
    "    print(f\"\\nEntités les plus similaires à {target_entity} :\")\n",
    "    for idx in similar_ids:\n",
    "        label = list(results.training.entity_labeling.label_to_id.keys())[list(results.training.entity_labeling.label_to_id.values()).index(idx)]\n",
    "        print(f\"- {label}\")\n",
    "else:\n",
    "    print(f\"L'entité {target_entity} n'est pas présente dans le graphe.\")"
   ]
  },
  {
   "cell_type": "markdown",
   "metadata": {},
   "source": [
    "Notre modèle a compris que :\n",
    "\n",
    "- Apple, Microsoft, Facebook sont proches (toutes des grosses techs),\n",
    "\n",
    "- Cook et Jobs sont aussi liés à Apple,\n",
    "\n",
    "- Brin (cofondateur de Google) est dans le même univers."
   ]
  },
  {
   "cell_type": "markdown",
   "metadata": {},
   "source": [
    "Remplace \"http://example.org/Apple\" par une autre entité si tu veux tester avec d’autres."
   ]
  },
  {
   "cell_type": "markdown",
   "metadata": {},
   "source": [
    "## 4.2 \tLink prediction"
   ]
  },
  {
   "cell_type": "markdown",
   "metadata": {},
   "source": [
    "### 4.2.1 Évaluation automatique"
   ]
  },
  {
   "cell_type": "markdown",
   "metadata": {},
   "source": [
    "Cette étape permet de dire si notre modèle est bon ou pas."
   ]
  },
  {
   "cell_type": "markdown",
   "metadata": {},
   "source": [
    "On utilise les métriques: \n",
    "- **Mean Rank**: Rang moyen du bon triplet parmi toutes les prédictions (plus c’est bas, mieux)\n",
    "- **MRR**: Moyenne de l’inverse du rang (plus c’est haut, mieux)\n",
    "- **Hits@k**: % de fois où la bonne réponse est dans le top-k résultats\n",
    "\n",
    "Ex : Hits@10 = 0.90 → le modèle trouve la bonne entité cible dans le top 10 90% du temps"
   ]
  },
  {
   "cell_type": "markdown",
   "metadata": {},
   "source": [
    "Quand on entraîne un modèle d’embedding sur un graphe (comme TransE), on veut vérifier :\n",
    "\n",
    "- S’il est capable de reconstruire les liens du graphe (ceux qu’on a appris),\n",
    "- S’il peut prédire des liens manquants, ce qu’on appelle Link Prediction.\n",
    "\n",
    "PyKEEN fait cette évaluation automatiquement via les métriques standards citées ci-dessus. "
   ]
  },
  {
   "cell_type": "code",
   "execution_count": 8,
   "metadata": {},
   "outputs": [
    {
     "name": "stdout",
     "output_type": "stream",
     "text": [
      "Clés disponibles dans metrics['both'] :\n",
      "dict_keys(['optimistic', 'realistic', 'pessimistic'])\n",
      "{'both': {'optimistic': {'adjusted_arithmetic_mean_rank': 0.918918918918919,\n",
      "                         'adjusted_arithmetic_mean_rank_index': 0.09090909090909105,\n",
      "                         'adjusted_geometric_mean_rank_index': 0.041147830479279834,\n",
      "                         'adjusted_hits_at_k': 0.41603053435114523,\n",
      "                         'adjusted_inverse_harmonic_mean_rank': -0.06389250113989789,\n",
      "                         'arithmetic_mean_rank': 8.5,\n",
      "                         'count': 4.0,\n",
      "                         'geometric_mean_rank': 7.613508191678642,\n",
      "                         'harmonic_mean_rank': 6.801619433198382,\n",
      "                         'hits_at_1': 0.0,\n",
      "                         'hits_at_10': 0.75,\n",
      "                         'hits_at_3': 0.0,\n",
      "                         'hits_at_5': 0.25,\n",
      "                         'inverse_arithmetic_mean_rank': 0.11764705882352941,\n",
      "                         'inverse_geometric_mean_rank': 0.13134549472120788,\n",
      "                         'inverse_harmonic_mean_rank': 0.1470238095238095,\n",
      "                         'inverse_median_rank': 0.125,\n",
      "                         'median_absolute_deviation': 4.447806655516806,\n",
      "                         'median_rank': 8.0,\n",
      "                         'standard_deviation': 3.840572873934304,\n",
      "                         'variance': 14.75,\n",
      "                         'z_arithmetic_mean_rank': 0.29728724392577277,\n",
      "                         'z_geometric_mean_rank': 0.10017796989958905,\n",
      "                         'z_hits_at_k': 0.7202922744960483,\n",
      "                         'z_inverse_harmonic_mean_rank': -0.4511401766595553},\n",
      "          'pessimistic': {'adjusted_arithmetic_mean_rank': 0.918918918918919,\n",
      "                          'adjusted_arithmetic_mean_rank_index': 0.09090909090909105,\n",
      "                          'adjusted_geometric_mean_rank_index': 0.041147830479279834,\n",
      "                          'adjusted_hits_at_k': 0.41603053435114523,\n",
      "                          'adjusted_inverse_harmonic_mean_rank': -0.06389250113989789,\n",
      "                          'arithmetic_mean_rank': 8.5,\n",
      "                          'count': 4.0,\n",
      "                          'geometric_mean_rank': 7.613508191678642,\n",
      "                          'harmonic_mean_rank': 6.801619433198382,\n",
      "                          'hits_at_1': 0.0,\n",
      "                          'hits_at_10': 0.75,\n",
      "                          'hits_at_3': 0.0,\n",
      "                          'hits_at_5': 0.25,\n",
      "                          'inverse_arithmetic_mean_rank': 0.11764705882352941,\n",
      "                          'inverse_geometric_mean_rank': 0.13134549472120788,\n",
      "                          'inverse_harmonic_mean_rank': 0.1470238095238095,\n",
      "                          'inverse_median_rank': 0.125,\n",
      "                          'median_absolute_deviation': 4.447806655516806,\n",
      "                          'median_rank': 8.0,\n",
      "                          'standard_deviation': 3.840572873934304,\n",
      "                          'variance': 14.75,\n",
      "                          'z_arithmetic_mean_rank': 0.29728724392577277,\n",
      "                          'z_geometric_mean_rank': 0.10017796989958905,\n",
      "                          'z_hits_at_k': 0.7202922744960483,\n",
      "                          'z_inverse_harmonic_mean_rank': -0.4511401766595553},\n",
      "          'realistic': {'adjusted_arithmetic_mean_rank': 0.918918918918919,\n",
      "                        'adjusted_arithmetic_mean_rank_index': 0.09090909090909105,\n",
      "                        'adjusted_geometric_mean_rank_index': 0.041147756588844286,\n",
      "                        'adjusted_hits_at_k': 0.41603053435114523,\n",
      "                        'adjusted_inverse_harmonic_mean_rank': -0.06389249813077047,\n",
      "                        'arithmetic_mean_rank': 8.5,\n",
      "                        'count': 4.0,\n",
      "                        'geometric_mean_rank': 7.613508701324463,\n",
      "                        'harmonic_mean_rank': 6.801619529724121,\n",
      "                        'hits_at_1': 0.0,\n",
      "                        'hits_at_10': 0.75,\n",
      "                        'hits_at_3': 0.0,\n",
      "                        'hits_at_5': 0.25,\n",
      "                        'inverse_arithmetic_mean_rank': 0.11764705926179886,\n",
      "                        'inverse_geometric_mean_rank': 0.1313454806804657,\n",
      "                        'inverse_harmonic_mean_rank': 0.14702381193637848,\n",
      "                        'inverse_median_rank': 0.125,\n",
      "                        'median_absolute_deviation': 4.4478068351745605,\n",
      "                        'median_rank': 8.0,\n",
      "                        'standard_deviation': 3.8405728340148926,\n",
      "                        'variance': 14.75,\n",
      "                        'z_arithmetic_mean_rank': 0.29728724392577277,\n",
      "                        'z_geometric_mean_rank': 0.10017779000690119,\n",
      "                        'z_hits_at_k': 0.7202922744960483,\n",
      "                        'z_inverse_harmonic_mean_rank': -0.45114015541233154}},\n",
      " 'head': {'optimistic': {'adjusted_arithmetic_mean_rank': 0.8888888888888888,\n",
      "                         'adjusted_arithmetic_mean_rank_index': 0.125,\n",
      "                         'adjusted_geometric_mean_rank_index': 0.05917708768237695,\n",
      "                         'adjusted_hits_at_k': 1.0,\n",
      "                         'adjusted_inverse_harmonic_mean_rank': -0.08649315282053652,\n",
      "                         'arithmetic_mean_rank': 8.0,\n",
      "                         'count': 2.0,\n",
      "                         'geometric_mean_rank': 7.745966692414836,\n",
      "                         'harmonic_mean_rank': 7.5,\n",
      "                         'hits_at_1': 0.0,\n",
      "                         'hits_at_10': 1.0,\n",
      "                         'hits_at_3': 0.0,\n",
      "                         'hits_at_5': 0.0,\n",
      "                         'inverse_arithmetic_mean_rank': 0.125,\n",
      "                         'inverse_geometric_mean_rank': 0.12909944487358052,\n",
      "                         'inverse_harmonic_mean_rank': 0.13333333333333333,\n",
      "                         'inverse_median_rank': 0.125,\n",
      "                         'median_absolute_deviation': 2.965204437011204,\n",
      "                         'median_rank': 8.0,\n",
      "                         'standard_deviation': 2.0,\n",
      "                         'variance': 4.0,\n",
      "                         'z_arithmetic_mean_rank': 0.2886751345948131,\n",
      "                         'z_geometric_mean_rank': 0.1124180936357786,\n",
      "                         'z_hits_at_k': 1.1832159566199232,\n",
      "                         'z_inverse_harmonic_mean_rank': -0.42598051677657134},\n",
      "          'pessimistic': {'adjusted_arithmetic_mean_rank': 0.8888888888888888,\n",
      "                          'adjusted_arithmetic_mean_rank_index': 0.125,\n",
      "                          'adjusted_geometric_mean_rank_index': 0.05917708768237695,\n",
      "                          'adjusted_hits_at_k': 1.0,\n",
      "                          'adjusted_inverse_harmonic_mean_rank': -0.08649315282053652,\n",
      "                          'arithmetic_mean_rank': 8.0,\n",
      "                          'count': 2.0,\n",
      "                          'geometric_mean_rank': 7.745966692414836,\n",
      "                          'harmonic_mean_rank': 7.5,\n",
      "                          'hits_at_1': 0.0,\n",
      "                          'hits_at_10': 1.0,\n",
      "                          'hits_at_3': 0.0,\n",
      "                          'hits_at_5': 0.0,\n",
      "                          'inverse_arithmetic_mean_rank': 0.125,\n",
      "                          'inverse_geometric_mean_rank': 0.12909944487358052,\n",
      "                          'inverse_harmonic_mean_rank': 0.13333333333333333,\n",
      "                          'inverse_median_rank': 0.125,\n",
      "                          'median_absolute_deviation': 2.965204437011204,\n",
      "                          'median_rank': 8.0,\n",
      "                          'standard_deviation': 2.0,\n",
      "                          'variance': 4.0,\n",
      "                          'z_arithmetic_mean_rank': 0.2886751345948131,\n",
      "                          'z_geometric_mean_rank': 0.1124180936357786,\n",
      "                          'z_hits_at_k': 1.1832159566199232,\n",
      "                          'z_inverse_harmonic_mean_rank': -0.42598051677657134},\n",
      "          'realistic': {'adjusted_arithmetic_mean_rank': 0.8888888888888888,\n",
      "                        'adjusted_arithmetic_mean_rank_index': 0.125,\n",
      "                        'adjusted_geometric_mean_rank_index': 0.05917705715344557,\n",
      "                        'adjusted_hits_at_k': 1.0,\n",
      "                        'adjusted_inverse_harmonic_mean_rank': -0.08649314410283904,\n",
      "                        'arithmetic_mean_rank': 8.0,\n",
      "                        'count': 2.0,\n",
      "                        'geometric_mean_rank': 7.745966911315918,\n",
      "                        'harmonic_mean_rank': 7.499999523162842,\n",
      "                        'hits_at_1': 0.0,\n",
      "                        'hits_at_10': 1.0,\n",
      "                        'hits_at_3': 0.0,\n",
      "                        'hits_at_5': 0.0,\n",
      "                        'inverse_arithmetic_mean_rank': 0.125,\n",
      "                        'inverse_geometric_mean_rank': 0.12909944355487823,\n",
      "                        'inverse_harmonic_mean_rank': 0.13333334028720856,\n",
      "                        'inverse_median_rank': 0.125,\n",
      "                        'median_absolute_deviation': 2.9652044773101807,\n",
      "                        'median_rank': 8.0,\n",
      "                        'standard_deviation': 2.0,\n",
      "                        'variance': 4.0,\n",
      "                        'z_arithmetic_mean_rank': 0.2886751345948131,\n",
      "                        'z_geometric_mean_rank': 0.11241803564028752,\n",
      "                        'z_hits_at_k': 1.1832159566199232,\n",
      "                        'z_inverse_harmonic_mean_rank': -0.425980473841736}},\n",
      " 'tail': {'optimistic': {'adjusted_arithmetic_mean_rank': 0.9473684210526315,\n",
      "                         'adjusted_arithmetic_mean_rank_index': 0.05882352941176472,\n",
      "                         'adjusted_geometric_mean_rank_index': 0.14870620767716258,\n",
      "                         'adjusted_hits_at_k': -0.125,\n",
      "                         'adjusted_inverse_harmonic_mean_rank': -0.041520539317764255,\n",
      "                         'arithmetic_mean_rank': 9.0,\n",
      "                         'count': 2.0,\n",
      "                         'geometric_mean_rank': 7.483314773547881,\n",
      "                         'harmonic_mean_rank': 6.222222222222223,\n",
      "                         'hits_at_1': 0.0,\n",
      "                         'hits_at_10': 0.5,\n",
      "                         'hits_at_3': 0.0,\n",
      "                         'hits_at_5': 0.5,\n",
      "                         'inverse_arithmetic_mean_rank': 0.1111111111111111,\n",
      "                         'inverse_geometric_mean_rank': 0.13363062095621223,\n",
      "                         'inverse_harmonic_mean_rank': 0.1607142857142857,\n",
      "                         'inverse_median_rank': 0.1111111111111111,\n",
      "                         'median_absolute_deviation': 7.41301109252801,\n",
      "                         'median_rank': 9.0,\n",
      "                         'standard_deviation': 5.0,\n",
      "                         'variance': 25.0,\n",
      "                         'z_arithmetic_mean_rank': 0.1362932551272764,\n",
      "                         'z_geometric_mean_rank': 0.2829771525755469,\n",
      "                         'z_hits_at_k': -0.158113883008419,\n",
      "                         'z_inverse_harmonic_mean_rank': -0.21018512853965077},\n",
      "          'pessimistic': {'adjusted_arithmetic_mean_rank': 0.9473684210526315,\n",
      "                          'adjusted_arithmetic_mean_rank_index': 0.05882352941176472,\n",
      "                          'adjusted_geometric_mean_rank_index': 0.14870620767716258,\n",
      "                          'adjusted_hits_at_k': -0.125,\n",
      "                          'adjusted_inverse_harmonic_mean_rank': -0.041520539317764255,\n",
      "                          'arithmetic_mean_rank': 9.0,\n",
      "                          'count': 2.0,\n",
      "                          'geometric_mean_rank': 7.483314773547881,\n",
      "                          'harmonic_mean_rank': 6.222222222222223,\n",
      "                          'hits_at_1': 0.0,\n",
      "                          'hits_at_10': 0.5,\n",
      "                          'hits_at_3': 0.0,\n",
      "                          'hits_at_5': 0.5,\n",
      "                          'inverse_arithmetic_mean_rank': 0.1111111111111111,\n",
      "                          'inverse_geometric_mean_rank': 0.13363062095621223,\n",
      "                          'inverse_harmonic_mean_rank': 0.1607142857142857,\n",
      "                          'inverse_median_rank': 0.1111111111111111,\n",
      "                          'median_absolute_deviation': 7.41301109252801,\n",
      "                          'median_rank': 9.0,\n",
      "                          'standard_deviation': 5.0,\n",
      "                          'variance': 25.0,\n",
      "                          'z_arithmetic_mean_rank': 0.1362932551272764,\n",
      "                          'z_geometric_mean_rank': 0.2829771525755469,\n",
      "                          'z_hits_at_k': -0.158113883008419,\n",
      "                          'z_inverse_harmonic_mean_rank': -0.21018512853965077},\n",
      "          'realistic': {'adjusted_arithmetic_mean_rank': 0.9473684210526315,\n",
      "                        'adjusted_arithmetic_mean_rank_index': 0.05882352941176472,\n",
      "                        'adjusted_geometric_mean_rank_index': 0.1487063043474146,\n",
      "                        'adjusted_hits_at_k': -0.125,\n",
      "                        'adjusted_inverse_harmonic_mean_rank': -0.041520541959443436,\n",
      "                        'arithmetic_mean_rank': 9.0,\n",
      "                        'count': 2.0,\n",
      "                        'geometric_mean_rank': 7.483314037322998,\n",
      "                        'harmonic_mean_rank': 6.222222328186035,\n",
      "                        'hits_at_1': 0.0,\n",
      "                        'hits_at_10': 0.5,\n",
      "                        'hits_at_3': 0.0,\n",
      "                        'hits_at_5': 0.5,\n",
      "                        'inverse_arithmetic_mean_rank': 0.1111111119389534,\n",
      "                        'inverse_geometric_mean_rank': 0.133630633354187,\n",
      "                        'inverse_harmonic_mean_rank': 0.1607142835855484,\n",
      "                        'inverse_median_rank': 0.1111111119389534,\n",
      "                        'median_absolute_deviation': 7.413011074066162,\n",
      "                        'median_rank': 9.0,\n",
      "                        'standard_deviation': 5.0,\n",
      "                        'variance': 25.0,\n",
      "                        'z_arithmetic_mean_rank': 0.1362932551272764,\n",
      "                        'z_geometric_mean_rank': 0.28297733653204116,\n",
      "                        'z_hits_at_k': -0.158113883008419,\n",
      "                        'z_inverse_harmonic_mean_rank': -0.21018514191234994}}}\n"
     ]
    }
   ],
   "source": [
    "metrics = results.metric_results.to_dict()\n",
    "print(\"Clés disponibles dans metrics['both'] :\")\n",
    "print(metrics.get(\"both\", {}).keys())\n",
    "\n",
    "# Ou afficher tout le dictionnaire complet\n",
    "import pprint\n",
    "pprint.pprint(metrics)"
   ]
  },
  {
   "cell_type": "code",
   "execution_count": 9,
   "metadata": {},
   "outputs": [
    {
     "name": "stdout",
     "output_type": "stream",
     "text": [
      "\n",
      "📊 Résultats pour le modèle TransE (réalistes) :\n",
      "- Mean Rank: 8.50\n",
      "- Mean Reciprocal Rank (MRR): 0.1176\n",
      "- Hits@1: 0.0000\n",
      "- Hits@3: 0.0000\n",
      "- Hits@10: 0.7500\n"
     ]
    }
   ],
   "source": [
    "def evaluate_model_realistic(results, model_name=\"TransE\"):\n",
    "    metrics = results.metric_results.to_dict()\n",
    "    realistic = metrics[\"both\"][\"realistic\"]\n",
    "\n",
    "    print(f\"\\n📊 Résultats pour le modèle {model_name} (réalistes) :\")\n",
    "    print(f\"- Mean Rank: {realistic['arithmetic_mean_rank']:.2f}\")\n",
    "    print(f\"- Mean Reciprocal Rank (MRR): {realistic['inverse_arithmetic_mean_rank']:.4f}\")\n",
    "    print(f\"- Hits@1: {realistic['hits_at_1']:.4f}\")\n",
    "    print(f\"- Hits@3: {realistic.get('hits_at_3', 0.0):.4f}\")\n",
    "    print(f\"- Hits@10: {realistic['hits_at_10']:.4f}\")\n",
    "\n",
    "evaluate_model_realistic(results)"
   ]
  },
  {
   "cell_type": "markdown",
   "metadata": {},
   "source": [
    "Notre modèle **TransE** a une précision modérée. Il classe en moyenne la bonne entité à la 8e ou 9e position, ce qui est plutôt loin dans la liste. Le MRR de 0.1176 confirme que le modèle ne place pas souvent la bonne réponse dans les premiers résultats. En revanche, il réussit à inclure la bonne entité dans le top 10 dans 75 % des cas, ce qui montre qu’il capte quand même certaines structures du graphe malgré sa petite taille."
   ]
  },
  {
   "cell_type": "markdown",
   "metadata": {},
   "source": [
    "### 4.2.2 Link Prediction personnalisée"
   ]
  },
  {
   "cell_type": "markdown",
   "metadata": {},
   "source": [
    "C’est une étape super intéressante où tu choisis un head et une relation, et le modèle prédit les entités les plus probables comme tail."
   ]
  },
  {
   "cell_type": "code",
   "execution_count": 10,
   "metadata": {},
   "outputs": [
    {
     "name": "stdout",
     "output_type": "stream",
     "text": [
      "\n",
      "Prédictions pour (http://example.org/Cook, http://example.org/ceo_of, ?):\n"
     ]
    },
    {
     "data": {
      "text/html": [
       "<div>\n",
       "<style scoped>\n",
       "    .dataframe tbody tr th:only-of-type {\n",
       "        vertical-align: middle;\n",
       "    }\n",
       "\n",
       "    .dataframe tbody tr th {\n",
       "        vertical-align: top;\n",
       "    }\n",
       "\n",
       "    .dataframe thead th {\n",
       "        text-align: right;\n",
       "    }\n",
       "</style>\n",
       "<table border=\"1\" class=\"dataframe\">\n",
       "  <thead>\n",
       "    <tr style=\"text-align: right;\">\n",
       "      <th></th>\n",
       "      <th>tail_id</th>\n",
       "      <th>score</th>\n",
       "      <th>tail_label</th>\n",
       "    </tr>\n",
       "  </thead>\n",
       "  <tbody>\n",
       "    <tr>\n",
       "      <th>5</th>\n",
       "      <td>5</td>\n",
       "      <td>-6.509653</td>\n",
       "      <td>http://example.org/Cook</td>\n",
       "    </tr>\n",
       "    <tr>\n",
       "      <th>2</th>\n",
       "      <td>2</td>\n",
       "      <td>-8.061328</td>\n",
       "      <td>http://example.org/Apple</td>\n",
       "    </tr>\n",
       "    <tr>\n",
       "      <th>1</th>\n",
       "      <td>1</td>\n",
       "      <td>-8.477637</td>\n",
       "      <td>http://example.org/Amazon</td>\n",
       "    </tr>\n",
       "    <tr>\n",
       "      <th>10</th>\n",
       "      <td>10</td>\n",
       "      <td>-8.657492</td>\n",
       "      <td>http://example.org/Microsoft</td>\n",
       "    </tr>\n",
       "    <tr>\n",
       "      <th>3</th>\n",
       "      <td>3</td>\n",
       "      <td>-8.771769</td>\n",
       "      <td>http://example.org/Bezos</td>\n",
       "    </tr>\n",
       "    <tr>\n",
       "      <th>9</th>\n",
       "      <td>9</td>\n",
       "      <td>-8.967565</td>\n",
       "      <td>http://example.org/Meta</td>\n",
       "    </tr>\n",
       "    <tr>\n",
       "      <th>4</th>\n",
       "      <td>4</td>\n",
       "      <td>-9.052823</td>\n",
       "      <td>http://example.org/Brin</td>\n",
       "    </tr>\n",
       "    <tr>\n",
       "      <th>12</th>\n",
       "      <td>12</td>\n",
       "      <td>-9.091928</td>\n",
       "      <td>http://example.org/Nadella</td>\n",
       "    </tr>\n",
       "    <tr>\n",
       "      <th>11</th>\n",
       "      <td>11</td>\n",
       "      <td>-9.214025</td>\n",
       "      <td>http://example.org/Musk</td>\n",
       "    </tr>\n",
       "    <tr>\n",
       "      <th>0</th>\n",
       "      <td>0</td>\n",
       "      <td>-9.272349</td>\n",
       "      <td>http://example.org/Alphabet</td>\n",
       "    </tr>\n",
       "    <tr>\n",
       "      <th>16</th>\n",
       "      <td>16</td>\n",
       "      <td>-9.323896</td>\n",
       "      <td>http://example.org/Tesla</td>\n",
       "    </tr>\n",
       "    <tr>\n",
       "      <th>7</th>\n",
       "      <td>7</td>\n",
       "      <td>-9.855076</td>\n",
       "      <td>http://example.org/Google</td>\n",
       "    </tr>\n",
       "    <tr>\n",
       "      <th>6</th>\n",
       "      <td>6</td>\n",
       "      <td>-9.863765</td>\n",
       "      <td>http://example.org/Facebook</td>\n",
       "    </tr>\n",
       "    <tr>\n",
       "      <th>13</th>\n",
       "      <td>13</td>\n",
       "      <td>-9.961115</td>\n",
       "      <td>http://example.org/Page</td>\n",
       "    </tr>\n",
       "    <tr>\n",
       "      <th>14</th>\n",
       "      <td>14</td>\n",
       "      <td>-9.972253</td>\n",
       "      <td>http://example.org/Pichai</td>\n",
       "    </tr>\n",
       "    <tr>\n",
       "      <th>8</th>\n",
       "      <td>8</td>\n",
       "      <td>-10.088512</td>\n",
       "      <td>http://example.org/Jobs</td>\n",
       "    </tr>\n",
       "    <tr>\n",
       "      <th>17</th>\n",
       "      <td>17</td>\n",
       "      <td>-10.475860</td>\n",
       "      <td>http://example.org/Zuckerberg</td>\n",
       "    </tr>\n",
       "    <tr>\n",
       "      <th>15</th>\n",
       "      <td>15</td>\n",
       "      <td>-10.938764</td>\n",
       "      <td>http://example.org/SpaceX</td>\n",
       "    </tr>\n",
       "  </tbody>\n",
       "</table>\n",
       "</div>"
      ],
      "text/plain": [
       "    tail_id      score                     tail_label\n",
       "5         5  -6.509653        http://example.org/Cook\n",
       "2         2  -8.061328       http://example.org/Apple\n",
       "1         1  -8.477637      http://example.org/Amazon\n",
       "10       10  -8.657492   http://example.org/Microsoft\n",
       "3         3  -8.771769       http://example.org/Bezos\n",
       "9         9  -8.967565        http://example.org/Meta\n",
       "4         4  -9.052823        http://example.org/Brin\n",
       "12       12  -9.091928     http://example.org/Nadella\n",
       "11       11  -9.214025        http://example.org/Musk\n",
       "0         0  -9.272349    http://example.org/Alphabet\n",
       "16       16  -9.323896       http://example.org/Tesla\n",
       "7         7  -9.855076      http://example.org/Google\n",
       "6         6  -9.863765    http://example.org/Facebook\n",
       "13       13  -9.961115        http://example.org/Page\n",
       "14       14  -9.972253      http://example.org/Pichai\n",
       "8         8 -10.088512        http://example.org/Jobs\n",
       "17       17 -10.475860  http://example.org/Zuckerberg\n",
       "15       15 -10.938764      http://example.org/SpaceX"
      ]
     },
     "execution_count": 10,
     "metadata": {},
     "output_type": "execute_result"
    }
   ],
   "source": [
    "from pykeen.predict import predict_target\n",
    "\n",
    "# ✏️ Exemple : prédire les entités tail pour (Cook, ceo_of, ?)\n",
    "head_label = \"http://example.org/Cook\"\n",
    "rel_label = \"http://example.org/ceo_of\"\n",
    "\n",
    "# Lancer la prédiction\n",
    "predictions = predict_target(\n",
    "    model=results.model,\n",
    "    head=head_label,\n",
    "    relation=rel_label,\n",
    "    triples_factory=results.training\n",
    ")\n",
    "\n",
    "# 🔄 Extraire les résultats sous forme de DataFrame\n",
    "df = predictions.df\n",
    "\n",
    "# 📊 Afficher les 5 meilleures prédictions\n",
    "print(f\"\\nPrédictions pour ({head_label}, {rel_label}, ?):\")\n",
    "df"
   ]
  },
  {
   "cell_type": "markdown",
   "metadata": {},
   "source": [
    "La prédiction de liens a été réalisée à l'aide de la méthode predict_target introduite dans PyKEEN 1.11.0. Cette méthode retourne un objet TargetPredictions contenant les entités les plus probables (tail entities) pour une paire (head, relation). Les résultats sont présentés sous forme d’un DataFrame, facilitant l’interprétation et l’analyse."
   ]
  },
  {
   "cell_type": "markdown",
   "metadata": {},
   "source": [
    "Le modèle prédit qu’il est très probable que Cook soit le CEO d’Apple, ce qui est cohérent. Il associe aussi Cook à d’autres entreprises tech comme Amazon, Microsoft, Tesla ou Meta, ainsi qu’à des personnalités connues comme Bezos, Musk, Brin ou Zuckerberg. Cela montre qu’il a appris des liens entre les grandes figures de la tech et leurs entreprises, malgré la taille réduite du graphe."
   ]
  },
  {
   "cell_type": "markdown",
   "metadata": {},
   "source": [
    "## 4.3 Visualisation des embeddings avec t-SNE"
   ]
  },
  {
   "cell_type": "markdown",
   "metadata": {},
   "source": [
    "Cette étape consiste à :\n",
    "\n",
    "- Extraire les vecteurs d’embedding des entités du modèle TransE,\n",
    "\n",
    "- Les projeter en 2D avec t-SNE,\n",
    "\n",
    "- Et les afficher sur un graphe avec leur nom."
   ]
  },
  {
   "cell_type": "code",
   "execution_count": 11,
   "metadata": {},
   "outputs": [
    {
     "name": "stdout",
     "output_type": "stream",
     "text": [
      "Requirement already satisfied: matplotlib in c:\\users\\zinii\\anaconda3\\envs\\pykeen_env\\lib\\site-packages (3.10.1)\n",
      "Requirement already satisfied: scikit-learn in c:\\users\\zinii\\anaconda3\\envs\\pykeen_env\\lib\\site-packages (1.6.1)\n",
      "Requirement already satisfied: contourpy>=1.0.1 in c:\\users\\zinii\\anaconda3\\envs\\pykeen_env\\lib\\site-packages (from matplotlib) (1.3.1)\n",
      "Requirement already satisfied: cycler>=0.10 in c:\\users\\zinii\\anaconda3\\envs\\pykeen_env\\lib\\site-packages (from matplotlib) (0.12.1)\n",
      "Requirement already satisfied: fonttools>=4.22.0 in c:\\users\\zinii\\anaconda3\\envs\\pykeen_env\\lib\\site-packages (from matplotlib) (4.56.0)\n",
      "Requirement already satisfied: kiwisolver>=1.3.1 in c:\\users\\zinii\\anaconda3\\envs\\pykeen_env\\lib\\site-packages (from matplotlib) (1.4.8)\n",
      "Requirement already satisfied: numpy>=1.23 in c:\\users\\zinii\\anaconda3\\envs\\pykeen_env\\lib\\site-packages (from matplotlib) (2.2.4)\n",
      "Requirement already satisfied: packaging>=20.0 in c:\\users\\zinii\\anaconda3\\envs\\pykeen_env\\lib\\site-packages (from matplotlib) (24.2)\n",
      "Requirement already satisfied: pillow>=8 in c:\\users\\zinii\\anaconda3\\envs\\pykeen_env\\lib\\site-packages (from matplotlib) (11.1.0)\n",
      "Requirement already satisfied: pyparsing>=2.3.1 in c:\\users\\zinii\\anaconda3\\envs\\pykeen_env\\lib\\site-packages (from matplotlib) (3.2.3)\n",
      "Requirement already satisfied: python-dateutil>=2.7 in c:\\users\\zinii\\anaconda3\\envs\\pykeen_env\\lib\\site-packages (from matplotlib) (2.9.0.post0)\n",
      "Requirement already satisfied: scipy>=1.6.0 in c:\\users\\zinii\\anaconda3\\envs\\pykeen_env\\lib\\site-packages (from scikit-learn) (1.15.2)\n",
      "Requirement already satisfied: joblib>=1.2.0 in c:\\users\\zinii\\anaconda3\\envs\\pykeen_env\\lib\\site-packages (from scikit-learn) (1.4.2)\n",
      "Requirement already satisfied: threadpoolctl>=3.1.0 in c:\\users\\zinii\\anaconda3\\envs\\pykeen_env\\lib\\site-packages (from scikit-learn) (3.6.0)\n",
      "Requirement already satisfied: six>=1.5 in c:\\users\\zinii\\anaconda3\\envs\\pykeen_env\\lib\\site-packages (from python-dateutil>=2.7->matplotlib) (1.17.0)\n",
      "Note: you may need to restart the kernel to use updated packages.\n"
     ]
    }
   ],
   "source": [
    "pip install matplotlib scikit-learn"
   ]
  },
  {
   "cell_type": "code",
   "execution_count": 12,
   "metadata": {},
   "outputs": [
    {
     "data": {
      "image/png": "[encoded data removed]",
      "text/plain": [
       "<Figure size 1200x800 with 1 Axes>"
      ]
     },
     "metadata": {},
     "output_type": "display_data"
    }
   ],
   "source": [
    "import numpy as np\n",
    "from sklearn.manifold import TSNE\n",
    "import matplotlib.pyplot as plt\n",
    "\n",
    "# 🎯 Extraire les embeddings des entités depuis le modèle\n",
    "entity_embeddings = results.model.entity_representations[0]().detach().cpu().numpy()\n",
    "entity_labels = list(results.training.entity_to_id.keys())\n",
    "\n",
    "# 📉 Réduction de dimension à 2D avec t-SNE\n",
    "tsne = TSNE(n_components=2, random_state=42, perplexity=5)\n",
    "embeddings_2d = tsne.fit_transform(entity_embeddings)\n",
    "\n",
    "# 🎨 Visualisation avec matplotlib\n",
    "plt.figure(figsize=(12, 8))\n",
    "for i, label in enumerate(entity_labels):\n",
    "    x, y = embeddings_2d[i]\n",
    "    plt.scatter(x, y, color='blue')\n",
    "    plt.text(x + 0.1, y + 0.1, label.replace(\"http://example.org/\", \"\"), fontsize=9)\n",
    "\n",
    "plt.title(\"Visualisation des entités (t-SNE sur les embeddings)\")\n",
    "plt.grid(True)\n",
    "plt.show()"
   ]
  },
  {
   "cell_type": "markdown",
   "metadata": {},
   "source": [
    "Nous allons à présent faire exactement la même visualisation mais en version interactive avec Plotly, pour pouvoir zoomer, survoler et déplacer les points."
   ]
  },
  {
   "cell_type": "code",
   "execution_count": 13,
   "metadata": {},
   "outputs": [
    {
     "name": "stdout",
     "output_type": "stream",
     "text": [
      "Requirement already satisfied: plotly in c:\\users\\zinii\\anaconda3\\envs\\pykeen_env\\lib\\site-packages (6.0.1)\n",
      "Requirement already satisfied: narwhals>=1.15.1 in c:\\users\\zinii\\anaconda3\\envs\\pykeen_env\\lib\\site-packages (from plotly) (1.32.0)\n",
      "Requirement already satisfied: packaging in c:\\users\\zinii\\anaconda3\\envs\\pykeen_env\\lib\\site-packages (from plotly) (24.2)\n",
      "Note: you may need to restart the kernel to use updated packages.\n"
     ]
    }
   ],
   "source": [
    "pip install plotly"
   ]
  },
  {
   "cell_type": "code",
   "execution_count": null,
   "metadata": {},
   "outputs": [
    {
     "data": {
      "application/vnd.plotly.v1+json": {
       "config": {
        "plotlyServerURL": "https://plot.ly"
       },
       "data": [
        {
         "hovertemplate": "x=%{x}<br>y=%{y}<br>label=%{text}<extra></extra>",
         "legendgroup": "",
         "marker": {
          "color": "#636efa",
          "symbol": "circle"
         },
         "mode": "markers+text",
         "name": "",
         "orientation": "v",
         "showlegend": false,
         "text": [
          "Alphabet",
          "Amazon",
          "Apple",
          "Bezos",
          "Brin",
          "Cook",
          "Facebook",
          "Google",
          "Jobs",
          "Meta",
          "Microsoft",
          "Musk",
          "Nadella",
          "Page",
          "Pichai",
          "SpaceX",
          "Tesla",
          "Zuckerberg"
         ],
         "textposition": "top center",
         "type": "scatter",
         "x": {
          "bdata": "r6j6Qdh7VMJ6Yts+lI6GwvKFDkJJcR7CkpUCwZNBR0At0RRBba0rwlmE78BsqnZCjaaHwe+700BoPwtBawZSQtrO+EHX58jB",
          "dtype": "f4"
         },
         "xaxis": "x",
         "y": {
          "bdata": "gp6FQR5HVMKPASZCAFhEwgOH80Hij4XC4DDNQPBNG8LvFJ7CZ9IIQVz3WEJI/kHCLkwbwgfefMJKjabBtsZvwsm+QsGGWMtA",
          "dtype": "f4"
         },
         "yaxis": "y"
        }
       ],
       "layout": {
        "height": 700,
        "legend": {
         "tracegroupgap": 0
        },
        "showlegend": false,
        "template": {
         "data": {
          "bar": [
           {
            "error_x": {
             "color": "#2a3f5f"
            },
            "error_y": {
             "color": "#2a3f5f"
            },
            "marker": {
             "line": {
              "color": "#E5ECF6",
              "width": 0.5
             },
             "pattern": {
              "fillmode": "overlay",
              "size": 10,
              "solidity": 0.2
             }
            },
            "type": "bar"
           }
          ],
          "barpolar": [
           {
            "marker": {
             "line": {
              "color": "#E5ECF6",
              "width": 0.5
             },
             "pattern": {
              "fillmode": "overlay",
              "size": 10,
              "solidity": 0.2
             }
            },
            "type": "barpolar"
           }
          ],
          "carpet": [
           {
            "aaxis": {
             "endlinecolor": "#2a3f5f",
             "gridcolor": "white",
             "linecolor": "white",
             "minorgridcolor": "white",
             "startlinecolor": "#2a3f5f"
            },
            "baxis": {
             "endlinecolor": "#2a3f5f",
             "gridcolor": "white",
             "linecolor": "white",
             "minorgridcolor": "white",
             "startlinecolor": "#2a3f5f"
            },
            "type": "carpet"
           }
          ],
          "choropleth": [
           {
            "colorbar": {
             "outlinewidth": 0,
             "ticks": ""
            },
            "type": "choropleth"
           }
          ],
          "contour": [
           {
            "colorbar": {
             "outlinewidth": 0,
             "ticks": ""
            },
            "colorscale": [
             [
              0,
              "#0d0887"
             ],
             [
              0.1111111111111111,
              "#46039f"
             ],
             [
              0.2222222222222222,
              "#7201a8"
             ],
             [
              0.3333333333333333,
              "#9c179e"
             ],
             [
              0.4444444444444444,
              "#bd3786"
             ],
             [
              0.5555555555555556,
              "#d8576b"
             ],
             [
              0.6666666666666666,
              "#ed7953"
             ],
             [
              0.7777777777777778,
              "#fb9f3a"
             ],
             [
              0.8888888888888888,
              "#fdca26"
             ],
             [
              1,
              "#f0f921"
             ]
            ],
            "type": "contour"
           }
          ],
          "contourcarpet": [
           {
            "colorbar": {
             "outlinewidth": 0,
             "ticks": ""
            },
            "type": "contourcarpet"
           }
          ],
          "heatmap": [
           {
            "colorbar": {
             "outlinewidth": 0,
             "ticks": ""
            },
            "colorscale": [
             [
              0,
              "#0d0887"
             ],
             [
              0.1111111111111111,
              "#46039f"
             ],
             [
              0.2222222222222222,
              "#7201a8"
             ],
             [
              0.3333333333333333,
              "#9c179e"
             ],
             [
              0.4444444444444444,
              "#bd3786"
             ],
             [
              0.5555555555555556,
              "#d8576b"
             ],
             [
              0.6666666666666666,
              "#ed7953"
             ],
             [
              0.7777777777777778,
              "#fb9f3a"
             ],
             [
              0.8888888888888888,
              "#fdca26"
             ],
             [
              1,
              "#f0f921"
             ]
            ],
            "type": "heatmap"
           }
          ],
          "histogram": [
           {
            "marker": {
             "pattern": {
              "fillmode": "overlay",
              "size": 10,
              "solidity": 0.2
             }
            },
            "type": "histogram"
           }
          ],
          "histogram2d": [
           {
            "colorbar": {
             "outlinewidth": 0,
             "ticks": ""
            },
            "colorscale": [
             [
              0,
              "#0d0887"
             ],
             [
              0.1111111111111111,
              "#46039f"
             ],
             [
              0.2222222222222222,
              "#7201a8"
             ],
             [
              0.3333333333333333,
              "#9c179e"
             ],
             [
              0.4444444444444444,
              "#bd3786"
             ],
             [
              0.5555555555555556,
              "#d8576b"
             ],
             [
              0.6666666666666666,
              "#ed7953"
             ],
             [
              0.7777777777777778,
              "#fb9f3a"
             ],
             [
              0.8888888888888888,
              "#fdca26"
             ],
             [
              1,
              "#f0f921"
             ]
            ],
            "type": "histogram2d"
           }
          ],
          "histogram2dcontour": [
           {
            "colorbar": {
             "outlinewidth": 0,
             "ticks": ""
            },
            "colorscale": [
             [
              0,
              "#0d0887"
             ],
             [
              0.1111111111111111,
              "#46039f"
             ],
             [
              0.2222222222222222,
              "#7201a8"
             ],
             [
              0.3333333333333333,
              "#9c179e"
             ],
             [
              0.4444444444444444,
              "#bd3786"
             ],
             [
              0.5555555555555556,
              "#d8576b"
             ],
             [
              0.6666666666666666,
              "#ed7953"
             ],
             [
              0.7777777777777778,
              "#fb9f3a"
             ],
             [
              0.8888888888888888,
              "#fdca26"
             ],
             [
              1,
              "#f0f921"
             ]
            ],
            "type": "histogram2dcontour"
           }
          ],
          "mesh3d": [
           {
            "colorbar": {
             "outlinewidth": 0,
             "ticks": ""
            },
            "type": "mesh3d"
           }
          ],
          "parcoords": [
           {
            "line": {
             "colorbar": {
              "outlinewidth": 0,
              "ticks": ""
             }
            },
            "type": "parcoords"
           }
          ],
          "pie": [
           {
            "automargin": true,
            "type": "pie"
           }
          ],
          "scatter": [
           {
            "fillpattern": {
             "fillmode": "overlay",
             "size": 10,
             "solidity": 0.2
            },
            "type": "scatter"
           }
          ],
          "scatter3d": [
           {
            "line": {
             "colorbar": {
              "outlinewidth": 0,
              "ticks": ""
             }
            },
            "marker": {
             "colorbar": {
              "outlinewidth": 0,
              "ticks": ""
             }
            },
            "type": "scatter3d"
           }
          ],
          "scattercarpet": [
           {
            "marker": {
             "colorbar": {
              "outlinewidth": 0,
              "ticks": ""
             }
            },
            "type": "scattercarpet"
           }
          ],
          "scattergeo": [
           {
            "marker": {
             "colorbar": {
              "outlinewidth": 0,
              "ticks": ""
             }
            },
            "type": "scattergeo"
           }
          ],
          "scattergl": [
           {
            "marker": {
             "colorbar": {
              "outlinewidth": 0,
              "ticks": ""
             }
            },
            "type": "scattergl"
           }
          ],
          "scattermap": [
           {
            "marker": {
             "colorbar": {
              "outlinewidth": 0,
              "ticks": ""
             }
            },
            "type": "scattermap"
           }
          ],
          "scattermapbox": [
           {
            "marker": {
             "colorbar": {
              "outlinewidth": 0,
              "ticks": ""
             }
            },
            "type": "scattermapbox"
           }
          ],
          "scatterpolar": [
           {
            "marker": {
             "colorbar": {
              "outlinewidth": 0,
              "ticks": ""
             }
            },
            "type": "scatterpolar"
           }
          ],
          "scatterpolargl": [
           {
            "marker": {
             "colorbar": {
              "outlinewidth": 0,
              "ticks": ""
             }
            },
            "type": "scatterpolargl"
           }
          ],
          "scatterternary": [
           {
            "marker": {
             "colorbar": {
              "outlinewidth": 0,
              "ticks": ""
             }
            },
            "type": "scatterternary"
           }
          ],
          "surface": [
           {
            "colorbar": {
             "outlinewidth": 0,
             "ticks": ""
            },
            "colorscale": [
             [
              0,
              "#0d0887"
             ],
             [
              0.1111111111111111,
              "#46039f"
             ],
             [
              0.2222222222222222,
              "#7201a8"
             ],
             [
              0.3333333333333333,
              "#9c179e"
             ],
             [
              0.4444444444444444,
              "#bd3786"
             ],
             [
              0.5555555555555556,
              "#d8576b"
             ],
             [
              0.6666666666666666,
              "#ed7953"
             ],
             [
              0.7777777777777778,
              "#fb9f3a"
             ],
             [
              0.8888888888888888,
              "#fdca26"
             ],
             [
              1,
              "#f0f921"
             ]
            ],
            "type": "surface"
           }
          ],
          "table": [
           {
            "cells": {
             "fill": {
              "color": "#EBF0F8"
             },
             "line": {
              "color": "white"
             }
            },
            "header": {
             "fill": {
              "color": "#C8D4E3"
             },
             "line": {
              "color": "white"
             }
            },
            "type": "table"
           }
          ]
         },
         "layout": {
          "annotationdefaults": {
           "arrowcolor": "#2a3f5f",
           "arrowhead": 0,
           "arrowwidth": 1
          },
          "autotypenumbers": "strict",
          "coloraxis": {
           "colorbar": {
            "outlinewidth": 0,
            "ticks": ""
           }
          },
          "colorscale": {
           "diverging": [
            [
             0,
             "#8e0152"
            ],
            [
             0.1,
             "#c51b7d"
            ],
            [
             0.2,
             "#de77ae"
            ],
            [
             0.3,
             "#f1b6da"
            ],
            [
             0.4,
             "#fde0ef"
            ],
            [
             0.5,
             "#f7f7f7"
            ],
            [
             0.6,
             "#e6f5d0"
            ],
            [
             0.7,
             "#b8e186"
            ],
            [
             0.8,
             "#7fbc41"
            ],
            [
             0.9,
             "#4d9221"
            ],
            [
             1,
             "#276419"
            ]
           ],
           "sequential": [
            [
             0,
             "#0d0887"
            ],
            [
             0.1111111111111111,
             "#46039f"
            ],
            [
             0.2222222222222222,
             "#7201a8"
            ],
            [
             0.3333333333333333,
             "#9c179e"
            ],
            [
             0.4444444444444444,
             "#bd3786"
            ],
            [
             0.5555555555555556,
             "#d8576b"
            ],
            [
             0.6666666666666666,
             "#ed7953"
            ],
            [
             0.7777777777777778,
             "#fb9f3a"
            ],
            [
             0.8888888888888888,
             "#fdca26"
            ],
            [
             1,
             "#f0f921"
            ]
           ],
           "sequentialminus": [
            [
             0,
             "#0d0887"
            ],
            [
             0.1111111111111111,
             "#46039f"
            ],
            [
             0.2222222222222222,
             "#7201a8"
            ],
            [
             0.3333333333333333,
             "#9c179e"
            ],
            [
             0.4444444444444444,
             "#bd3786"
            ],
            [
             0.5555555555555556,
             "#d8576b"
            ],
            [
             0.6666666666666666,
             "#ed7953"
            ],
            [
             0.7777777777777778,
             "#fb9f3a"
            ],
            [
             0.8888888888888888,
             "#fdca26"
            ],
            [
             1,
             "#f0f921"
            ]
           ]
          },
          "colorway": [
           "#636efa",
           "#EF553B",
           "#00cc96",
           "#ab63fa",
           "#FFA15A",
           "#19d3f3",
           "#FF6692",
           "#B6E880",
           "#FF97FF",
           "#FECB52"
          ],
          "font": {
           "color": "#2a3f5f"
          },
          "geo": {
           "bgcolor": "white",
           "lakecolor": "white",
           "landcolor": "#E5ECF6",
           "showlakes": true,
           "showland": true,
           "subunitcolor": "white"
          },
          "hoverlabel": {
           "align": "left"
          },
          "hovermode": "closest",
          "mapbox": {
           "style": "light"
          },
          "paper_bgcolor": "white",
          "plot_bgcolor": "#E5ECF6",
          "polar": {
           "angularaxis": {
            "gridcolor": "white",
            "linecolor": "white",
            "ticks": ""
           },
           "bgcolor": "#E5ECF6",
           "radialaxis": {
            "gridcolor": "white",
            "linecolor": "white",
            "ticks": ""
           }
          },
          "scene": {
           "xaxis": {
            "backgroundcolor": "#E5ECF6",
            "gridcolor": "white",
            "gridwidth": 2,
            "linecolor": "white",
            "showbackground": true,
            "ticks": "",
            "zerolinecolor": "white"
           },
           "yaxis": {
            "backgroundcolor": "#E5ECF6",
            "gridcolor": "white",
            "gridwidth": 2,
            "linecolor": "white",
            "showbackground": true,
            "ticks": "",
            "zerolinecolor": "white"
           },
           "zaxis": {
            "backgroundcolor": "#E5ECF6",
            "gridcolor": "white",
            "gridwidth": 2,
            "linecolor": "white",
            "showbackground": true,
            "ticks": "",
            "zerolinecolor": "white"
           }
          },
          "shapedefaults": {
           "line": {
            "color": "#2a3f5f"
           }
          },
          "ternary": {
           "aaxis": {
            "gridcolor": "white",
            "linecolor": "white",
            "ticks": ""
           },
           "baxis": {
            "gridcolor": "white",
            "linecolor": "white",
            "ticks": ""
           },
           "bgcolor": "#E5ECF6",
           "caxis": {
            "gridcolor": "white",
            "linecolor": "white",
            "ticks": ""
           }
          },
          "title": {
           "x": 0.05
          },
          "xaxis": {
           "automargin": true,
           "gridcolor": "white",
           "linecolor": "white",
           "ticks": "",
           "title": {
            "standoff": 15
           },
           "zerolinecolor": "white",
           "zerolinewidth": 2
          },
          "yaxis": {
           "automargin": true,
           "gridcolor": "white",
           "linecolor": "white",
           "ticks": "",
           "title": {
            "standoff": 15
           },
           "zerolinecolor": "white",
           "zerolinewidth": 2
          }
         }
        },
        "title": {
         "text": "t-SNE des entités (interactive)"
        },
        "width": 1000,
        "xaxis": {
         "anchor": "y",
         "domain": [
          0,
          1
         ],
         "title": {
          "text": "x"
         }
        },
        "yaxis": {
         "anchor": "x",
         "domain": [
          0,
          1
         ],
         "title": {
          "text": "y"
         }
        }
       }
      }
     },
     "metadata": {},
     "output_type": "display_data"
    }
   ],
   "source": [
    "import numpy as np\n",
    "from sklearn.manifold import TSNE\n",
    "import plotly.express as px\n",
    "\n",
    "# Extraire les embeddings\n",
    "entity_embeddings = results.model.entity_representations[0]().detach().cpu().numpy()\n",
    "entity_labels = list(results.training.entity_to_id.keys())\n",
    "\n",
    "# Appliquer t-SNE (réduction à 2D)\n",
    "tsne = TSNE(n_components=2, random_state=42, perplexity=5)\n",
    "embeddings_2d = tsne.fit_transform(entity_embeddings)\n",
    "\n",
    "# Créer un DataFrame pour Plotly\n",
    "import pandas as pd\n",
    "df_plot = pd.DataFrame({\n",
    "    'x': embeddings_2d[:, 0],\n",
    "    'y': embeddings_2d[:, 1],\n",
    "    'label': [label.replace(\"http://example.org/\", \"\") for label in entity_labels]\n",
    "})\n",
    "\n",
    "# Affichage interactif avec Plotly\n",
    "fig = px.scatter(df_plot, x='x', y='y', text='label', title=\"t-SNE des entités (interactive)\")\n",
    "fig.update_traces(textposition='top center')\n",
    "fig.update_layout(height=700, width=1000, showlegend=False)\n",
    "fig.show()"
   ]
  },
  {
   "cell_type": "markdown",
   "metadata": {},
   "source": [
    "Sur ce graphique, chaque point représente une entité du graphe, et leur position est calculée à partir des vecteurs appris par le modèle TransE. Les entités proches dans l’espace sont censées avoir des relations ou un contexte similaire. Par exemple, Zuckerberg, Meta et Facebook sont proches, ce qui est logique. Apple et Microsoft sont aussi regroupés, tandis que Cook est un peu plus éloigné. Cela montre que le modèle a capté certaines régularités dans les relations entre personnes et entreprises, malgré un graphe assez petit."
   ]
  }
 ],
 "metadata": {
  "kernelspec": {
   "display_name": "pykeen_env",
   "language": "python",
   "name": "python3"
  },
  "language_info": {
   "codemirror_mode": {
    "name": "ipython",
    "version": 3
   },
   "file_extension": ".py",
   "mimetype": "text/x-python",
   "name": "python",
   "nbconvert_exporter": "python",
   "pygments_lexer": "ipython3",
   "version": "3.10.16"
  }
 },
 "nbformat": 4,
 "nbformat_minor": 2
}
