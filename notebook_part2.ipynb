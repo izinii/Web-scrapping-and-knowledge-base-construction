{
 "cells": [
  {
   "cell_type": "markdown",
   "metadata": {},
   "source": [
    "**Project: Web scrapping, knowledge base construction**\n",
    "\n",
    "\n",
    "- Wendy DUONG\n",
    "- Ilan ZINI\n",
    "\n",
    "DIA6"
   ]
  },
  {
   "cell_type": "markdown",
   "metadata": {},
   "source": [
    "**Part 2: Knowledge Graph Embedding**"
   ]
  },
  {
   "cell_type": "markdown",
   "metadata": {},
   "source": [
    "# **Step 1 - Installation de l’environnement PyKEEN**"
   ]
  },
  {
   "cell_type": "code",
   "execution_count": 16,
   "metadata": {},
   "outputs": [
    {
     "name": "stdout",
     "output_type": "stream",
     "text": [
      "Requirement already satisfied: pykeen in c:\\users\\zinii\\anaconda3\\envs\\pykeen_env\\lib\\site-packages (1.11.0)\n",
      "Requirement already satisfied: torch in c:\\users\\zinii\\anaconda3\\envs\\pykeen_env\\lib\\site-packages (2.6.0)\n",
      "Requirement already satisfied: dataclasses-json in c:\\users\\zinii\\anaconda3\\envs\\pykeen_env\\lib\\site-packages (from pykeen) (0.6.7)\n",
      "Requirement already satisfied: numpy in c:\\users\\zinii\\anaconda3\\envs\\pykeen_env\\lib\\site-packages (from pykeen) (2.2.4)\n",
      "Requirement already satisfied: scipy>=1.7.0 in c:\\users\\zinii\\anaconda3\\envs\\pykeen_env\\lib\\site-packages (from pykeen) (1.15.2)\n",
      "Requirement already satisfied: click in c:\\users\\zinii\\anaconda3\\envs\\pykeen_env\\lib\\site-packages (from pykeen) (8.1.8)\n",
      "Requirement already satisfied: click-default-group in c:\\users\\zinii\\anaconda3\\envs\\pykeen_env\\lib\\site-packages (from pykeen) (1.2.4)\n",
      "Requirement already satisfied: scikit-learn in c:\\users\\zinii\\anaconda3\\envs\\pykeen_env\\lib\\site-packages (from pykeen) (1.6.1)\n",
      "Requirement already satisfied: tqdm in c:\\users\\zinii\\anaconda3\\envs\\pykeen_env\\lib\\site-packages (from pykeen) (4.67.1)\n",
      "Requirement already satisfied: requests in c:\\users\\zinii\\anaconda3\\envs\\pykeen_env\\lib\\site-packages (from pykeen) (2.32.3)\n",
      "Requirement already satisfied: optuna>=2.0.0 in c:\\users\\zinii\\anaconda3\\envs\\pykeen_env\\lib\\site-packages (from pykeen) (4.2.1)\n",
      "Requirement already satisfied: pandas>=1.0.0 in c:\\users\\zinii\\anaconda3\\envs\\pykeen_env\\lib\\site-packages (from pykeen) (2.2.3)\n",
      "Requirement already satisfied: tabulate in c:\\users\\zinii\\anaconda3\\envs\\pykeen_env\\lib\\site-packages (from pykeen) (0.9.0)\n",
      "Requirement already satisfied: more-click in c:\\users\\zinii\\anaconda3\\envs\\pykeen_env\\lib\\site-packages (from pykeen) (0.1.2)\n",
      "Requirement already satisfied: more-itertools in c:\\users\\zinii\\anaconda3\\envs\\pykeen_env\\lib\\site-packages (from pykeen) (10.6.0)\n",
      "Requirement already satisfied: pystow>=0.4.3 in c:\\users\\zinii\\anaconda3\\envs\\pykeen_env\\lib\\site-packages (from pykeen) (0.7.0)\n",
      "Requirement already satisfied: docdata in c:\\users\\zinii\\anaconda3\\envs\\pykeen_env\\lib\\site-packages (from pykeen) (0.0.4)\n",
      "Requirement already satisfied: class-resolver>=0.5.1 in c:\\users\\zinii\\anaconda3\\envs\\pykeen_env\\lib\\site-packages (from pykeen) (0.5.4)\n",
      "Requirement already satisfied: pyyaml in c:\\users\\zinii\\anaconda3\\envs\\pykeen_env\\lib\\site-packages (from pykeen) (6.0.2)\n",
      "Requirement already satisfied: torch-max-mem>=0.1.1 in c:\\users\\zinii\\anaconda3\\envs\\pykeen_env\\lib\\site-packages (from pykeen) (0.1.3)\n",
      "Requirement already satisfied: torch-ppr>=0.0.7 in c:\\users\\zinii\\anaconda3\\envs\\pykeen_env\\lib\\site-packages (from pykeen) (0.0.8)\n",
      "Requirement already satisfied: typing-extensions in c:\\users\\zinii\\anaconda3\\envs\\pykeen_env\\lib\\site-packages (from pykeen) (4.13.0)\n",
      "Requirement already satisfied: filelock in c:\\users\\zinii\\anaconda3\\envs\\pykeen_env\\lib\\site-packages (from torch) (3.18.0)\n",
      "Requirement already satisfied: networkx in c:\\users\\zinii\\anaconda3\\envs\\pykeen_env\\lib\\site-packages (from torch) (3.4.2)\n",
      "Requirement already satisfied: jinja2 in c:\\users\\zinii\\anaconda3\\envs\\pykeen_env\\lib\\site-packages (from torch) (3.1.6)\n",
      "Requirement already satisfied: fsspec in c:\\users\\zinii\\anaconda3\\envs\\pykeen_env\\lib\\site-packages (from torch) (2025.3.0)\n",
      "Requirement already satisfied: sympy==1.13.1 in c:\\users\\zinii\\anaconda3\\envs\\pykeen_env\\lib\\site-packages (from torch) (1.13.1)\n",
      "Requirement already satisfied: mpmath<1.4,>=1.1.0 in c:\\users\\zinii\\anaconda3\\envs\\pykeen_env\\lib\\site-packages (from sympy==1.13.1->torch) (1.3.0)\n",
      "Requirement already satisfied: alembic>=1.5.0 in c:\\users\\zinii\\anaconda3\\envs\\pykeen_env\\lib\\site-packages (from optuna>=2.0.0->pykeen) (1.15.1)\n",
      "Requirement already satisfied: colorlog in c:\\users\\zinii\\anaconda3\\envs\\pykeen_env\\lib\\site-packages (from optuna>=2.0.0->pykeen) (6.9.0)\n",
      "Requirement already satisfied: packaging>=20.0 in c:\\users\\zinii\\anaconda3\\envs\\pykeen_env\\lib\\site-packages (from optuna>=2.0.0->pykeen) (24.2)\n",
      "Requirement already satisfied: sqlalchemy>=1.4.2 in c:\\users\\zinii\\anaconda3\\envs\\pykeen_env\\lib\\site-packages (from optuna>=2.0.0->pykeen) (2.0.39)\n",
      "Requirement already satisfied: python-dateutil>=2.8.2 in c:\\users\\zinii\\anaconda3\\envs\\pykeen_env\\lib\\site-packages (from pandas>=1.0.0->pykeen) (2.9.0.post0)\n",
      "Requirement already satisfied: pytz>=2020.1 in c:\\users\\zinii\\anaconda3\\envs\\pykeen_env\\lib\\site-packages (from pandas>=1.0.0->pykeen) (2025.2)\n",
      "Requirement already satisfied: tzdata>=2022.7 in c:\\users\\zinii\\anaconda3\\envs\\pykeen_env\\lib\\site-packages (from pandas>=1.0.0->pykeen) (2025.2)\n",
      "Requirement already satisfied: colorama in c:\\users\\zinii\\anaconda3\\envs\\pykeen_env\\lib\\site-packages (from click->pykeen) (0.4.6)\n",
      "Requirement already satisfied: marshmallow<4.0.0,>=3.18.0 in c:\\users\\zinii\\anaconda3\\envs\\pykeen_env\\lib\\site-packages (from dataclasses-json->pykeen) (3.26.1)\n",
      "Requirement already satisfied: typing-inspect<1,>=0.4.0 in c:\\users\\zinii\\anaconda3\\envs\\pykeen_env\\lib\\site-packages (from dataclasses-json->pykeen) (0.9.0)\n",
      "Requirement already satisfied: MarkupSafe>=2.0 in c:\\users\\zinii\\anaconda3\\envs\\pykeen_env\\lib\\site-packages (from jinja2->torch) (3.0.2)\n",
      "Requirement already satisfied: charset-normalizer<4,>=2 in c:\\users\\zinii\\anaconda3\\envs\\pykeen_env\\lib\\site-packages (from requests->pykeen) (3.4.1)\n",
      "Requirement already satisfied: idna<4,>=2.5 in c:\\users\\zinii\\anaconda3\\envs\\pykeen_env\\lib\\site-packages (from requests->pykeen) (3.10)\n",
      "Requirement already satisfied: urllib3<3,>=1.21.1 in c:\\users\\zinii\\anaconda3\\envs\\pykeen_env\\lib\\site-packages (from requests->pykeen) (2.3.0)\n",
      "Requirement already satisfied: certifi>=2017.4.17 in c:\\users\\zinii\\anaconda3\\envs\\pykeen_env\\lib\\site-packages (from requests->pykeen) (2025.1.31)\n",
      "Requirement already satisfied: joblib>=1.2.0 in c:\\users\\zinii\\anaconda3\\envs\\pykeen_env\\lib\\site-packages (from scikit-learn->pykeen) (1.4.2)\n",
      "Requirement already satisfied: threadpoolctl>=3.1.0 in c:\\users\\zinii\\anaconda3\\envs\\pykeen_env\\lib\\site-packages (from scikit-learn->pykeen) (3.6.0)\n",
      "Requirement already satisfied: Mako in c:\\users\\zinii\\anaconda3\\envs\\pykeen_env\\lib\\site-packages (from alembic>=1.5.0->optuna>=2.0.0->pykeen) (1.3.9)\n",
      "Requirement already satisfied: six>=1.5 in c:\\users\\zinii\\anaconda3\\envs\\pykeen_env\\lib\\site-packages (from python-dateutil>=2.8.2->pandas>=1.0.0->pykeen) (1.17.0)\n",
      "Requirement already satisfied: greenlet!=0.4.17 in c:\\users\\zinii\\anaconda3\\envs\\pykeen_env\\lib\\site-packages (from sqlalchemy>=1.4.2->optuna>=2.0.0->pykeen) (3.1.1)\n",
      "Requirement already satisfied: mypy-extensions>=0.3.0 in c:\\users\\zinii\\anaconda3\\envs\\pykeen_env\\lib\\site-packages (from typing-inspect<1,>=0.4.0->dataclasses-json->pykeen) (1.0.0)\n",
      "Note: you may need to restart the kernel to use updated packages.\n"
     ]
    }
   ],
   "source": [
    "pip install pykeen torch"
   ]
  },
  {
   "cell_type": "markdown",
   "metadata": {},
   "source": [
    "# **Step 2 - Convertir le graphe RDF en format PyKEEN**"
   ]
  },
  {
   "cell_type": "code",
   "execution_count": 30,
   "metadata": {},
   "outputs": [
    {
     "name": "stderr",
     "output_type": "stream",
     "text": [
      "WARNING:pykeen.triples.triples_factory:Reconstructing all label-based triples. This is expensive and rarely needed.\n"
     ]
    },
    {
     "name": "stdout",
     "output_type": "stream",
     "text": [
      "Nombre de triplets : 308\n",
      "Quelques triplets :\n",
      "[['https://www.bbc.com/news/business'\n",
      "  'https://www.bbc.com/news/businessexport_to'\n",
      "  'https://www.bbc.com/news/businessUS']\n",
      " ['https://www.bbc.com/news/business'\n",
      "  'https://www.bbc.com/news/businessget_to'\n",
      "  'https://www.bbc.com/news/businessfront']\n",
      " ['https://www.bbc.com/news/businessAdministration'\n",
      "  'https://www.bbc.com/news/businesscontact_for'\n",
      "  'https://www.bbc.com/news/businesscomment']\n",
      " ['https://www.bbc.com/news/businessAlbanese'\n",
      "  'https://www.bbc.com/news/businesssay_on'\n",
      "  'https://www.bbc.com/news/businessThursday']\n",
      " ['https://www.bbc.com/news/businessAttention'\n",
      "  'https://www.bbc.com/news/businessturn_to'\n",
      "  'https://www.bbc.com/news/businessmarket']\n",
      " ['https://www.bbc.com/news/businessBangakya'\n",
      "  'https://www.bbc.com/news/businesstell'\n",
      "  'https://www.bbc.com/news/businessagency']\n",
      " ['https://www.bbc.com/news/businessBarclaysbank'\n",
      "  'https://www.bbc.com/news/businesssee'\n",
      "  'https://www.bbc.com/news/businessfall']\n",
      " ['https://www.bbc.com/news/businessBeijing'\n",
      "  'https://www.bbc.com/news/businessplace'\n",
      "  'https://www.bbc.com/news/businesscontrols']\n",
      " ['https://www.bbc.com/news/businessBeijing'\n",
      "  'https://www.bbc.com/news/businessplace_in'\n",
      "  'https://www.bbc.com/news/businessproduction']\n",
      " ['https://www.bbc.com/news/businessBeijing'\n",
      "  'https://www.bbc.com/news/businessplace_on'\n",
      "  'https://www.bbc.com/news/businesselements']\n",
      " ['https://www.bbc.com/news/businessBoulos'\n",
      "  'https://www.bbc.com/news/businessexpand_on'\n",
      "  'https://www.bbc.com/news/businessproposals']\n",
      " ['https://www.bbc.com/news/businessBrussels'\n",
      "  'https://www.bbc.com/news/businesscut'\n",
      "  'https://www.bbc.com/news/businesstariffs']\n",
      " ['https://www.bbc.com/news/businessButin'\n",
      "  'https://www.bbc.com/news/businessimport_from'\n",
      "  'https://www.bbc.com/news/businessterritory']\n",
      " ['https://www.bbc.com/news/businessCanada'\n",
      "  'https://www.bbc.com/news/businessapply'\n",
      "  'https://www.bbc.com/news/businesstariffs']\n",
      " ['https://www.bbc.com/news/businessCanada'\n",
      "  'https://www.bbc.com/news/businessapply_Unlike'\n",
      "  'https://www.bbc.com/news/businessUS']\n",
      " ['https://www.bbc.com/news/businessCanada'\n",
      "  'https://www.bbc.com/news/businesshit_with'\n",
      "  'https://www.bbc.com/news/businesstariffs']\n",
      " ['https://www.bbc.com/news/businessCanada'\n",
      "  'https://www.bbc.com/news/businessslap'\n",
      "  'https://www.bbc.com/news/businesstariff']\n",
      " ['https://www.bbc.com/news/businessCanada'\n",
      "  'https://www.bbc.com/news/businessslap_Like'\n",
      "  'https://www.bbc.com/news/businessUS']\n",
      " ['https://www.bbc.com/news/businessCanada'\n",
      "  'https://www.bbc.com/news/businessstand_for'\n",
      "  'https://www.bbc.com/news/businessitself']\n",
      " ['https://www.bbc.com/news/businessChina'\n",
      "  'https://www.bbc.com/news/businessfile_with'\n",
      "  'https://www.bbc.com/news/businessOrganization']\n",
      " ['https://www.bbc.com/news/businessChina'\n",
      "  'https://www.bbc.com/news/businesshit_against'\n",
      "  'https://www.bbc.com/news/businesstariffs']\n",
      " ['https://www.bbc.com/news/businessChina'\n",
      "  'https://www.bbc.com/news/businesshit_at'\n",
      "  'https://www.bbc.com/news/businesstaxes']\n",
      " ['https://www.bbc.com/news/businessChina'\n",
      "  'https://www.bbc.com/news/businesshit_with'\n",
      "  'https://www.bbc.com/news/businesstariff']\n",
      " ['https://www.bbc.com/news/businessChina'\n",
      "  'https://www.bbc.com/news/businesshit_with'\n",
      "  'https://www.bbc.com/news/businesstariffs']\n",
      " ['https://www.bbc.com/news/businessChina'\n",
      "  'https://www.bbc.com/news/businessimpose_from'\n",
      "  'https://www.bbc.com/news/businessApril']\n",
      " ['https://www.bbc.com/news/businessChina'\n",
      "  'https://www.bbc.com/news/businessimpose_on'\n",
      "  'https://www.bbc.com/news/businessgoods']\n",
      " ['https://www.bbc.com/news/businessChina'\n",
      "  'https://www.bbc.com/news/businessoppose'\n",
      "  'https://www.bbc.com/news/businessthis']\n",
      " ['https://www.bbc.com/news/businessChristina'\n",
      "  'https://www.bbc.com/news/businesssay_as'\n",
      "  'https://www.bbc.com/news/businesstears']\n",
      " ['https://www.bbc.com/news/businessCoffin'\n",
      "  'https://www.bbc.com/news/businessmake'\n",
      "  'https://www.bbc.com/news/businessjourney']\n",
      " ['https://www.bbc.com/news/businessCoffin'\n",
      "  'https://www.bbc.com/news/businessmake_to'\n",
      "  'https://www.bbc.com/news/businesswaters']\n",
      " ['https://www.bbc.com/news/businessCommission'\n",
      "  'https://www.bbc.com/news/businessdeal_with'\n",
      "  'https://www.bbc.com/news/businessmatters']\n",
      " ['https://www.bbc.com/news/businessCredit'\n",
      "  'https://www.bbc.com/news/businesssee'\n",
      "  'https://www.bbc.com/news/businesswebsite']\n",
      " ['https://www.bbc.com/news/businessDaimler'\n",
      "  'https://www.bbc.com/news/businessslip_by'\n",
      "  'https://www.bbc.com/news/business5']\n",
      " ['https://www.bbc.com/news/businessDelhi'\n",
      "  'https://www.bbc.com/news/businesssign'\n",
      "  'https://www.bbc.com/news/businessagreement']\n",
      " ['https://www.bbc.com/news/businessDepartment'\n",
      "  'https://www.bbc.com/news/businesssay_On'\n",
      "  'https://www.bbc.com/news/businessTuesday']\n",
      " ['https://www.bbc.com/news/businessEU'\n",
      "  'https://www.bbc.com/news/businessbite'\n",
      "  'https://www.bbc.com/news/businessbark']\n",
      " ['https://www.bbc.com/news/businessEU'\n",
      "  'https://www.bbc.com/news/businessbuy'\n",
      "  'https://www.bbc.com/news/businessgas']\n",
      " ['https://www.bbc.com/news/businessEU'\n",
      "  'https://www.bbc.com/news/businesshave'\n",
      "  'https://www.bbc.com/news/businessroom']\n",
      " ['https://www.bbc.com/news/businessEU'\n",
      "  'https://www.bbc.com/news/businessoffer'\n",
      "  'https://www.bbc.com/news/businessUS']\n",
      " ['https://www.bbc.com/news/businessEU'\n",
      "  'https://www.bbc.com/news/businessoffer'\n",
      "  'https://www.bbc.com/news/businesspresident']\n",
      " ['https://www.bbc.com/news/businessEU'\n",
      "  'https://www.bbc.com/news/businessoffer_after'\n",
      "  'https://www.bbc.com/news/businessthat']\n",
      " ['https://www.bbc.com/news/businessEU'\n",
      "  'https://www.bbc.com/news/businessoffer_in'\n",
      "  'https://www.bbc.com/news/businessnegotiation']\n",
      " ['https://www.bbc.com/news/businessEU'\n",
      "  'https://www.bbc.com/news/businessrespond_to'\n",
      "  'https://www.bbc.com/news/businesstariffs']\n",
      " ['https://www.bbc.com/news/businessErdogan'\n",
      "  'https://www.bbc.com/news/businessrise_from'\n",
      "  'https://www.bbc.com/news/businessbeginnings']\n",
      " ['https://www.bbc.com/news/businessEurope'\n",
      "  'https://www.bbc.com/news/businesshope_for'\n",
      "  'https://www.bbc.com/news/businessdeal']\n",
      " ['https://www.bbc.com/news/businessF-150s'\n",
      "  'https://www.bbc.com/news/businesshave'\n",
      "  'https://www.bbc.com/news/businessengines']\n",
      " ['https://www.bbc.com/news/businessF-150s'\n",
      "  'https://www.bbc.com/news/businesshave_For'\n",
      "  'https://www.bbc.com/news/businessexample']\n",
      " ['https://www.bbc.com/news/businessFTA'\n",
      "  'https://www.bbc.com/news/businesstalk_with'\n",
      "  'https://www.bbc.com/news/businessrange']\n",
      " ['https://www.bbc.com/news/businessFTSE'\n",
      "  'https://www.bbc.com/news/businessdrop_with'\n",
      "  'https://www.bbc.com/news/businesscompanies']\n",
      " ['https://www.bbc.com/news/businessFarrell'\n",
      "  'https://www.bbc.com/news/businesstell'\n",
      "  'https://www.bbc.com/news/businessCorporation']\n",
      " ['https://www.bbc.com/news/businessFear'\n",
      "  'https://www.bbc.com/news/businessrun_in'\n",
      "  'https://www.bbc.com/news/businessWindsor']\n",
      " ['https://www.bbc.com/news/businessFrance'\n",
      "  'https://www.bbc.com/news/businesscollate_at'\n",
      "  'https://www.bbc.com/news/business']\n",
      " ['https://www.bbc.com/news/businessFrance'\n",
      "  'https://www.bbc.com/news/businesscollate_in'\n",
      "  'https://www.bbc.com/news/businessresearch']\n",
      " ['https://www.bbc.com/news/businessHe'\n",
      "  'https://www.bbc.com/news/businessconvene'\n",
      "  'https://www.bbc.com/news/businessmeeting']\n",
      " ['https://www.bbc.com/news/businessHe'\n",
      "  'https://www.bbc.com/news/businesshave'\n",
      "  'https://www.bbc.com/news/businessinterests']\n",
      " ['https://www.bbc.com/news/businessHe'\n",
      "  'https://www.bbc.com/news/businesshave_in'\n",
      "  'https://www.bbc.com/news/businessAfrica']\n",
      " ['https://www.bbc.com/news/businessHouse'\n",
      "  'https://www.bbc.com/news/businessfire'\n",
      "  'https://www.bbc.com/news/businesschief']\n",
      " ['https://www.bbc.com/news/businessHouse'\n",
      "  'https://www.bbc.com/news/businesspublish'\n",
      "  'https://www.bbc.com/news/businessmethodology']\n",
      " ['https://www.bbc.com/news/businessHundreds'\n",
      "  'https://www.bbc.com/news/businesshold_at'\n",
      "  'https://www.bbc.com/news/businessmoment']\n",
      " ['https://www.bbc.com/news/businessHundreds'\n",
      "  'https://www.bbc.com/news/businesshold_in'\n",
      "  'https://www.bbc.com/news/businesspensions']\n",
      " ['https://www.bbc.com/news/businessI'\n",
      "  'https://www.bbc.com/news/businessspeak_to'\n",
      "  'https://www.bbc.com/news/businessmanufacturer']\n",
      " ['https://www.bbc.com/news/businessIMF'\n",
      "  'https://www.bbc.com/news/businesslook_into'\n",
      "  'https://www.bbc.com/news/businessimplications']\n",
      " ['https://www.bbc.com/news/businessIndia'\n",
      "  'https://www.bbc.com/news/businessexpand_beyond'\n",
      "  'https://www.bbc.com/news/businessUS']\n",
      " ['https://www.bbc.com/news/businessIndia'\n",
      "  'https://www.bbc.com/news/businessexport'\n",
      "  'https://www.bbc.com/news/business91bn']\n",
      " ['https://www.bbc.com/news/businessIndia'\n",
      "  'https://www.bbc.com/news/businessexport_in'\n",
      "  'https://www.bbc.com/news/businessgoods']\n",
      " ['https://www.bbc.com/news/businessIndia'\n",
      "  'https://www.bbc.com/news/businessexport_to'\n",
      "  'https://www.bbc.com/news/businessUS']\n",
      " ['https://www.bbc.com/news/businessIndia'\n",
      "  'https://www.bbc.com/news/businessfare_In'\n",
      "  'https://www.bbc.com/news/businessterms']\n",
      " ['https://www.bbc.com/news/businessIndia'\n",
      "  'https://www.bbc.com/news/businessfare_at'\n",
      "  'https://www.bbc.com/news/business']\n",
      " ['https://www.bbc.com/news/businessIndia'\n",
      "  'https://www.bbc.com/news/businessreduce'\n",
      "  'https://www.bbc.com/news/businesstariffs']\n",
      " ['https://www.bbc.com/news/businessIndia'\n",
      "  'https://www.bbc.com/news/businessreduce_on'\n",
      "  'https://www.bbc.com/news/businessgoods']\n",
      " ['https://www.bbc.com/news/businessIndia'\n",
      "  'https://www.bbc.com/news/businessshow'\n",
      "  'https://www.bbc.com/news/businessappetite']\n",
      " ['https://www.bbc.com/news/businessIndia'\n",
      "  'https://www.bbc.com/news/businessshow_In'\n",
      "  'https://www.bbc.com/news/businesscouple']\n",
      " ['https://www.bbc.com/news/businessInvestors'\n",
      "  'https://www.bbc.com/news/businessbuy_into'\n",
      "  'https://www.bbc.com/news/businessassets']\n",
      " ['https://www.bbc.com/news/businessIslands'\n",
      "  'https://www.bbc.com/news/businessvisit_in'\n",
      "  'https://www.bbc.com/news/businessdecade']\n",
      " ['https://www.bbc.com/news/businessIt'\n",
      "  'https://www.bbc.com/news/businesslose'\n",
      "  'https://www.bbc.com/news/businessquotas']\n",
      " ['https://www.bbc.com/news/businessIt'\n",
      "  'https://www.bbc.com/news/businessmake'\n",
      "  'https://www.bbc.com/news/business']\n",
      " ['https://www.bbc.com/news/businessIt'\n",
      "  'https://www.bbc.com/news/businesssell'\n",
      "  'https://www.bbc.com/news/businessgoods']\n",
      " ['https://www.bbc.com/news/businessKumar'\n",
      "  'https://www.bbc.com/news/businessdie_at'\n",
      "  'https://www.bbc.com/news/businessthreat']\n",
      " ['https://www.bbc.com/news/businessLammy'\n",
      "  'https://www.bbc.com/news/businessspeak_to'\n",
      "  'https://www.bbc.com/news/businessreporters']\n",
      " ['https://www.bbc.com/news/businessLeyen'\n",
      "  'https://www.bbc.com/news/businessclaim_including'\n",
      "  'https://www.bbc.com/news/businessstrength']\n",
      " ['https://www.bbc.com/news/businessMacron'\n",
      "  'https://www.bbc.com/news/businesscall'\n",
      "  'https://www.bbc.com/news/businessthem']\n",
      " ['https://www.bbc.com/news/businessMarkets'\n",
      "  'https://www.bbc.com/news/businessmix_as'\n",
      "  'https://www.bbc.com/news/businessbrace']\n",
      " ['https://www.bbc.com/news/businessMost'\n",
      "  'https://www.bbc.com/news/businesshappen_through'\n",
      "  'https://www.bbc.com/news/businessAmerica']\n",
      " ['https://www.bbc.com/news/businessNanji'\n",
      "  'https://www.bbc.com/news/businesspredict_with'\n",
      "  'https://www.bbc.com/news/businesstariff']\n",
      " ['https://www.bbc.com/news/businessNasdaq'\n",
      "  'https://www.bbc.com/news/businesssink_by'\n",
      "  'https://www.bbc.com/news/business']\n",
      " ['https://www.bbc.com/news/businessPoilievre'\n",
      "  'https://www.bbc.com/news/businesscall_for'\n",
      "  'https://www.bbc.com/news/businessremoval']\n",
      " ['https://www.bbc.com/news/businessShares'\n",
      "  'https://www.bbc.com/news/businessnosedive_in'\n",
      "  'https://www.bbc.com/news/businessresponse']\n",
      " ['https://www.bbc.com/news/businessShe'\n",
      "  'https://www.bbc.com/news/businesshave'\n",
      "  'https://www.bbc.com/news/businesschildren']\n",
      " ['https://www.bbc.com/news/businessSpain'\n",
      "  'https://www.bbc.com/news/businessexport'\n",
      "  'https://www.bbc.com/news/businesslot']\n",
      " ['https://www.bbc.com/news/businessSpain'\n",
      "  'https://www.bbc.com/news/businessexport_alongside'\n",
      "  'https://www.bbc.com/news/businesstonnes']\n",
      " ['https://www.bbc.com/news/businessSpain'\n",
      "  'https://www.bbc.com/news/businessexport_to'\n",
      "  'https://www.bbc.com/news/businessUS']\n",
      " ['https://www.bbc.com/news/businessThat'\n",
      "  'https://www.bbc.com/news/businesshave_at'\n",
      "  'https://www.bbc.com/news/businesstime']\n",
      " ['https://www.bbc.com/news/businessThat'\n",
      "  'https://www.bbc.com/news/businessimpact'\n",
      "  'https://www.bbc.com/news/businessconsumers']\n",
      " ['https://www.bbc.com/news/businessThis'\n",
      "  'https://www.bbc.com/news/businesstake'\n",
      "  'https://www.bbc.com/news/businesstime']\n",
      " ['https://www.bbc.com/news/businessThis'\n",
      "  'https://www.bbc.com/news/businessturn_into'\n",
      "  'https://www.bbc.com/news/businesscrash']\n",
      " ['https://www.bbc.com/news/businessTrump'\n",
      "  'https://www.bbc.com/news/businessannounce'\n",
      "  'https://www.bbc.com/news/businesstariffs']\n",
      " ['https://www.bbc.com/news/businessTrump'\n",
      "  'https://www.bbc.com/news/businessdeal'\n",
      "  'https://www.bbc.com/news/businessblow']\n",
      " ['https://www.bbc.com/news/businessTrump'\n",
      "  'https://www.bbc.com/news/businessdrop_since'\n",
      "  'https://www.bbc.com/news/business2020']\n",
      " ['https://www.bbc.com/news/businessTrump'\n",
      "  'https://www.bbc.com/news/businessimpose'\n",
      "  'https://www.bbc.com/news/businesstariffs']\n",
      " ['https://www.bbc.com/news/businessTrump'\n",
      "  'https://www.bbc.com/news/businessimpose_on'\n",
      "  'https://www.bbc.com/news/businessChina']\n",
      " ['https://www.bbc.com/news/businessTrump'\n",
      "  'https://www.bbc.com/news/businessraise'\n",
      "  'https://www.bbc.com/news/businesstariffs']\n",
      " ['https://www.bbc.com/news/businessTrump'\n",
      "  'https://www.bbc.com/news/businessslap'\n",
      "  'https://www.bbc.com/news/businesstariffs']\n",
      " ['https://www.bbc.com/news/businessTrump'\n",
      "  'https://www.bbc.com/news/businessspeak_on'\n",
      "  'https://www.bbc.com/news/businessOne']\n",
      " ['https://www.bbc.com/news/businessTrump'\n",
      "  'https://www.bbc.com/news/businessspeak_to'\n",
      "  'https://www.bbc.com/news/businessreporters']\n",
      " ['https://www.bbc.com/news/businessTrump'\n",
      "  'https://www.bbc.com/news/businesstell'\n",
      "  'https://www.bbc.com/news/businessreporters']\n",
      " ['https://www.bbc.com/news/businessTrump'\n",
      "  'https://www.bbc.com/news/businessunveil'\n",
      "  'https://www.bbc.com/news/businessscheme']\n",
      " ['https://www.bbc.com/news/businessTrump'\n",
      "  'https://www.bbc.com/news/businessunveil_in'\n",
      "  'https://www.bbc.com/news/businessretaliation']\n",
      " ['https://www.bbc.com/news/businessTrump'\n",
      "  'https://www.bbc.com/news/businessunveil_on'\n",
      "  'https://www.bbc.com/news/businessWednesday']\n",
      " ['https://www.bbc.com/news/businessUK'\n",
      "  'https://www.bbc.com/news/businessengage_in'\n",
      "  'https://www.bbc.com/news/businessdiscussions']\n",
      " ['https://www.bbc.com/news/businessUK'\n",
      "  'https://www.bbc.com/news/businessisworke_at'\n",
      "  'https://www.bbc.com/news/businesspaceto']\n",
      " ['https://www.bbc.com/news/businessUS'\n",
      "  'https://www.bbc.com/news/businessbuy_from'\n",
      "  'https://www.bbc.com/news/businessChina']\n",
      " ['https://www.bbc.com/news/businessUS'\n",
      "  'https://www.bbc.com/news/businesssell_to'\n",
      "  'https://www.bbc.com/news/businessEU']\n",
      " ['https://www.bbc.com/news/businessUnion'\n",
      "  'https://www.bbc.com/news/businessvow'\n",
      "  'https://www.bbc.com/news/businessresponse']\n",
      " ['https://www.bbc.com/news/businessVaishnav'\n",
      "  'https://www.bbc.com/news/businesstell'\n",
      "  'https://www.bbc.com/news/businessBBC']\n",
      " ['https://www.bbc.com/news/businessVehicles'\n",
      "  'https://www.bbc.com/news/businessface'\n",
      "  'https://www.bbc.com/news/businesstaxes']\n",
      " ['https://www.bbc.com/news/businessWashington'\n",
      "  'https://www.bbc.com/news/businessbring'\n",
      "  'https://www.bbc.com/news/businesstariffs']\n",
      " ['https://www.bbc.com/news/businessWe'\n",
      "  'https://www.bbc.com/news/businesshave'\n",
      "  'https://www.bbc.com/news/businessannouncements']\n",
      " ['https://www.bbc.com/news/businessWe'\n",
      "  'https://www.bbc.com/news/businesshave_in'\n",
      "  'https://www.bbc.com/news/businessmoments']\n",
      " ['https://www.bbc.com/news/businessWe'\n",
      "  'https://www.bbc.com/news/businessreview'\n",
      "  'https://www.bbc.com/news/businessproposal']\n",
      " ['https://www.bbc.com/news/businessWeve'\n",
      "  'https://www.bbc.com/news/businessget'\n",
      "  'https://www.bbc.com/news/businessresponse']\n",
      " ['https://www.bbc.com/news/businessWeve'\n",
      "  'https://www.bbc.com/news/businessget_on'\n",
      "  'https://www.bbc.com/news/businessChinas']\n",
      " ['https://www.bbc.com/news/businessYou'\n",
      "  'https://www.bbc.com/news/businesshear_about'\n",
      "  'https://www.bbc.com/news/businessagreement']\n",
      " ['https://www.bbc.com/news/businessadministration'\n",
      "  'https://www.bbc.com/news/businessrule'\n",
      "  'https://www.bbc.com/news/businesscountry']\n",
      " ['https://www.bbc.com/news/businessadministration'\n",
      "  'https://www.bbc.com/news/businesswant'\n",
      "  'https://www.bbc.com/news/businesscuts']\n",
      " ['https://www.bbc.com/news/businessannouncement'\n",
      "  'https://www.bbc.com/news/businessaffect'\n",
      "  'https://www.bbc.com/news/businessworkers']\n",
      " ['https://www.bbc.com/news/businessannouncement'\n",
      "  'https://www.bbc.com/news/businessaffect_in'\n",
      "  'https://www.bbc.com/news/businesscountries']\n",
      " ['https://www.bbc.com/news/businessannouncement'\n",
      "  'https://www.bbc.com/news/businesstrigger_on'\n",
      "  'https://www.bbc.com/news/businessThursday']\n",
      " ['https://www.bbc.com/news/businessannouncement'\n",
      "  'https://www.bbc.com/news/businesstrigger_since'\n",
      "  'https://www.bbc.com/news/business2020']\n",
      " ['https://www.bbc.com/news/businessbarriers'\n",
      "  'https://www.bbc.com/news/businessvary_from'\n",
      "  'https://www.bbc.com/news/businesscountry']\n",
      " ['https://www.bbc.com/news/businessbarriers'\n",
      "  'https://www.bbc.com/news/businessvary_to'\n",
      "  'https://www.bbc.com/news/businesscountry']\n",
      " ['https://www.bbc.com/news/businessbloc'\n",
      "  'https://www.bbc.com/news/businesstarget'\n",
      "  'https://www.bbc.com/news/businessservices']\n",
      " ['https://www.bbc.com/news/businessbroker'\n",
      "  'https://www.bbc.com/news/businesssay_to'\n",
      "  'https://www.bbc.com/news/businessme']\n",
      " ['https://www.bbc.com/news/businessbusinesses'\n",
      "  'https://www.bbc.com/news/businessface'\n",
      "  'https://www.bbc.com/news/businessperiod']\n",
      " ['https://www.bbc.com/news/businesscalculations'\n",
      "  'https://www.bbc.com/news/businessbase_on'\n",
      "  'https://www.bbc.com/news/businessdeficit']\n",
      " ['https://www.bbc.com/news/businesschannel'\n",
      "  'https://www.bbc.com/news/businessstart_on'\n",
      "  'https://www.bbc.com/news/businessMonday']\n",
      " ['https://www.bbc.com/news/businesscompanies'\n",
      "  'https://www.bbc.com/news/businessengage_in'\n",
      "  'https://www.bbc.com/news/businesscooperation']\n",
      " ['https://www.bbc.com/news/businesscompany'\n",
      "  'https://www.bbc.com/news/businesshalt_at'\n",
      "  'https://www.bbc.com/news/businessplant']\n",
      " ['https://www.bbc.com/news/businessconflict'\n",
      "  'https://www.bbc.com/news/businesstest'\n",
      "  'https://www.bbc.com/news/businessact']\n",
      " ['https://www.bbc.com/news/businesscountries'\n",
      "  'https://www.bbc.com/news/businessbring'\n",
      "  'https://www.bbc.com/news/businessmeasures']\n",
      " ['https://www.bbc.com/news/businesscountries'\n",
      "  'https://www.bbc.com/news/businessexpose_at'\n",
      "  'https://www.bbc.com/news/businesswhich']\n",
      " ['https://www.bbc.com/news/businesscountries'\n",
      "  'https://www.bbc.com/news/businessexpose_in'\n",
      "  'https://www.bbc.com/news/businessterms']\n",
      " ['https://www.bbc.com/news/businesscountries'\n",
      "  'https://www.bbc.com/news/businessexpose_to'\n",
      "  'https://www.bbc.com/news/businessUS']\n",
      " ['https://www.bbc.com/news/businesscountry'\n",
      "  'https://www.bbc.com/news/businesssell'\n",
      "  'https://www.bbc.com/news/businessall']\n",
      " ['https://www.bbc.com/news/businesscrash'\n",
      "  'https://www.bbc.com/news/businessuse_over'\n",
      "  'https://www.bbc.com/news/businessdecades']\n",
      " ['https://www.bbc.com/news/businessdeclines'\n",
      "  'https://www.bbc.com/news/businessadd_to'\n",
      "  'https://www.bbc.com/news/businessfalls']\n",
      " ['https://www.bbc.com/news/businessdifferential'\n",
      "  'https://www.bbc.com/news/businesslead'\n",
      "  'https://www.bbc.com/news/businessre']\n",
      " ['https://www.bbc.com/news/businessdifferential'\n",
      "  'https://www.bbc.com/news/businesslead_to'\n",
      "  'https://www.bbc.com/news/businessexport']\n",
      " ['https://www.bbc.com/news/businesseconomy'\n",
      "  'https://www.bbc.com/news/businessnavigate'\n",
      "  'https://www.bbc.com/news/businesstremors']\n",
      " ['https://www.bbc.com/news/businesseditor'\n",
      "  'https://www.bbc.com/news/businessthrow_in'\n",
      "  'https://www.bbc.com/news/businessair']\n",
      " ['https://www.bbc.com/news/businessevidence'\n",
      "  'https://www.bbc.com/news/businessbattle'\n",
      "  'https://www.bbc.com/news/businessrebels']\n",
      " ['https://www.bbc.com/news/businessfigures'\n",
      "  'https://www.bbc.com/news/businessbase_on'\n",
      "  'https://www.bbc.com/news/businesstariffs']\n",
      " ['https://www.bbc.com/news/businessfirm'\n",
      "  'https://www.bbc.com/news/businesstell'\n",
      "  'https://www.bbc.com/news/businessme']\n",
      " ['https://www.bbc.com/news/businessfutures'\n",
      "  'https://www.bbc.com/news/businesspoint_to'\n",
      "  'https://www.bbc.com/news/businessfall']\n",
      " ['https://www.bbc.com/news/businessgiant'\n",
      "  'https://www.bbc.com/news/businesshead_into'\n",
      "  'https://www.bbc.com/news/businessfuture']\n",
      " ['https://www.bbc.com/news/businessgoods'\n",
      "  'https://www.bbc.com/news/businesshit'\n",
      "  'https://www.bbc.com/news/businesshike']\n",
      " ['https://www.bbc.com/news/businessgovernment'\n",
      "  'https://www.bbc.com/news/businessadopt_Unlike'\n",
      "  'https://www.bbc.com/news/businessCanada']\n",
      " ['https://www.bbc.com/news/businessgovernment'\n",
      "  'https://www.bbc.com/news/businessneed'\n",
      "  'https://www.bbc.com/news/businessplan']\n",
      " ['https://www.bbc.com/news/businessgovernment'\n",
      "  'https://www.bbc.com/news/businessuse'\n",
      "  'https://www.bbc.com/news/businessannouncement']\n",
      " ['https://www.bbc.com/news/businessgroup'\n",
      "  'https://www.bbc.com/news/businessbroadcast_with'\n",
      "  'https://www.bbc.com/news/businesspermission']\n",
      " ['https://www.bbc.com/news/businesshandful'\n",
      "  'https://www.bbc.com/news/businesshit_in'\n",
      "  'https://www.bbc.com/news/businessaddition']\n",
      " ['https://www.bbc.com/news/businesshavent'\n",
      "  'https://www.bbc.com/news/businesssee_in'\n",
      "  'https://www.bbc.com/news/businessdecade']\n",
      " ['https://www.bbc.com/news/businesshe'\n",
      "  'https://www.bbc.com/news/businessspeak_on'\n",
      "  'https://www.bbc.com/news/businessFriday']\n",
      " ['https://www.bbc.com/news/businesshe'\n",
      "  'https://www.bbc.com/news/businessspeak_to'\n",
      "  'https://www.bbc.com/news/businesscounterparts']\n",
      " ['https://www.bbc.com/news/businesshe'\n",
      "  'https://www.bbc.com/news/businesstell'\n",
      "  'https://www.bbc.com/news/businessBBC']\n",
      " ['https://www.bbc.com/news/businesshe'\n",
      "  'https://www.bbc.com/news/businesswork_on'\n",
      "  'https://www.bbc.com/news/businessminerals']\n",
      " ['https://www.bbc.com/news/businesshead'\n",
      "  'https://www.bbc.com/news/businesswin'\n",
      "  'https://www.bbc.com/news/businessWoman']\n",
      " ['https://www.bbc.com/news/businesshes'\n",
      "  'https://www.bbc.com/news/businesslose_over'\n",
      "  'https://www.bbc.com/news/businessyears']\n",
      " ['https://www.bbc.com/news/businesshes'\n",
      "  'https://www.bbc.com/news/businesslose_to'\n",
      "  'https://www.bbc.com/news/businesscompanies']\n",
      " ['https://www.bbc.com/news/businesshes'\n",
      "  'https://www.bbc.com/news/businessworry_with'\n",
      "  'https://www.bbc.com/news/businessbikes']\n",
      " ['https://www.bbc.com/news/businesshikes'\n",
      "  'https://www.bbc.com/news/businessresult_in'\n",
      "  'https://www.bbc.com/news/businessgrowth']\n",
      " ['https://www.bbc.com/news/businessindex'\n",
      "  'https://www.bbc.com/news/businesssink_on'\n",
      "  'https://www.bbc.com/news/businessThursday']\n",
      " ['https://www.bbc.com/news/businessindustries'\n",
      "  'https://www.bbc.com/news/businesssee_as'\n",
      "  'https://www.bbc.com/news/businessvulnerable']\n",
      " ['https://www.bbc.com/news/businessisland'\n",
      "  'https://www.bbc.com/news/businessend_on'\n",
      "  'https://www.bbc.com/news/businesslist']\n",
      " ['https://www.bbc.com/news/businessisland'\n",
      "  'https://www.bbc.com/news/businessfind_on'\n",
      "  'https://www.bbc.com/news/businesslist']\n",
      " ['https://www.bbc.com/news/businessislands'\n",
      "  'https://www.bbc.com/news/businesslist_as'\n",
      "  'https://www.bbc.com/news/businessexample']\n",
      " ['https://www.bbc.com/news/businessit'\n",
      "  'https://www.bbc.com/news/businessadd_to'\n",
      "  'https://www.bbc.com/news/businesslist']\n",
      " ['https://www.bbc.com/news/businessit'\n",
      "  'https://www.bbc.com/news/businessadd_to'\n",
      "  'https://www.bbc.com/news/businessprice']\n",
      " ['https://www.bbc.com/news/businessit'\n",
      "  'https://www.bbc.com/news/businessbuy_from'\n",
      "  'https://www.bbc.com/news/businessChina']\n",
      " ['https://www.bbc.com/news/businessit'\n",
      "  'https://www.bbc.com/news/businessbuy_from'\n",
      "  'https://www.bbc.com/news/businessUS']\n",
      " ['https://www.bbc.com/news/businessit'\n",
      "  'https://www.bbc.com/news/businesscome_to'\n",
      "  'https://www.bbc.com/news/businessChina']\n",
      " ['https://www.bbc.com/news/businessit'\n",
      "  'https://www.bbc.com/news/businesscome_to'\n",
      "  'https://www.bbc.com/news/businessgoods']\n",
      " ['https://www.bbc.com/news/businessit'\n",
      "  'https://www.bbc.com/news/businesscome_to'\n",
      "  'https://www.bbc.com/news/businessservices']\n",
      " ['https://www.bbc.com/news/businessit'\n",
      "  'https://www.bbc.com/news/businessdeal_with'\n",
      "  'https://www.bbc.com/news/businessfallout']\n",
      " ['https://www.bbc.com/news/businessit'\n",
      "  'https://www.bbc.com/news/businessimpose_on'\n",
      "  'https://www.bbc.com/news/businessgoodsfrom']\n",
      " ['https://www.bbc.com/news/businessit'\n",
      "  'https://www.bbc.com/news/businessimposean_in'\n",
      "  'https://www.bbc.com/news/businessresponse']\n",
      " ['https://www.bbc.com/news/businessit'\n",
      "  'https://www.bbc.com/news/businessmanufacture_for'\n",
      "  'https://www.bbc.com/news/businessvehicles']\n",
      " ['https://www.bbc.com/news/businessit'\n",
      "  'https://www.bbc.com/news/businesspause'\n",
      "  'https://www.bbc.com/news/businessproduction']\n",
      " ['https://www.bbc.com/news/businessit'\n",
      "  'https://www.bbc.com/news/businesspause_at'\n",
      "  'https://www.bbc.com/news/businessplant']\n",
      " ['https://www.bbc.com/news/businessit'\n",
      "  'https://www.bbc.com/news/businessput_on'\n",
      "  'https://www.bbc.com/news/businesslist']\n",
      " ['https://www.bbc.com/news/businessit'\n",
      "  'https://www.bbc.com/news/businessraise'\n",
      "  'https://www.bbc.com/news/businessquestions']\n",
      " ['https://www.bbc.com/news/businessit'\n",
      "  'https://www.bbc.com/news/businessshut_as'\n",
      "  'https://www.bbc.com/news/businessresult']\n",
      " ['https://www.bbc.com/news/businessit'\n",
      "  'https://www.bbc.com/news/businesssteady_on'\n",
      "  'https://www.bbc.com/news/businessFriday']\n",
      " ['https://www.bbc.com/news/businessit'\n",
      "  'https://www.bbc.com/news/businesssweep_over'\n",
      "  'https://www.bbc.com/news/businessice']\n",
      " ['https://www.bbc.com/news/businessit'\n",
      "  'https://www.bbc.com/news/businesswean_following'\n",
      "  'https://www.bbc.com/news/businessinvasion']\n",
      " ['https://www.bbc.com/news/businessit'\n",
      "  'https://www.bbc.com/news/businesswean_off'\n",
      "  'https://www.bbc.com/news/businessgas']\n",
      " ['https://www.bbc.com/news/businessits'\n",
      "  'https://www.bbc.com/news/businesshit_with'\n",
      "  'https://www.bbc.com/news/businesstariff']\n",
      " ['https://www.bbc.com/news/businessleaders'\n",
      "  'https://www.bbc.com/news/businesscriticise_as'\n",
      "  'https://www.bbc.com/news/businessder']\n",
      " ['https://www.bbc.com/news/businessleaders'\n",
      "  'https://www.bbc.com/news/businesspropose'\n",
      "  'https://www.bbc.com/news/businesssolutions']\n",
      " ['https://www.bbc.com/news/businessleaders'\n",
      "  'https://www.bbc.com/news/businesspropose_On'\n",
      "  'https://www.bbc.com/news/businesstrail']\n",
      " ['https://www.bbc.com/news/businessleaders'\n",
      "  'https://www.bbc.com/news/businessreact_to'\n",
      "  'https://www.bbc.com/news/businessannouncement']\n",
      " ['https://www.bbc.com/news/businessleaders'\n",
      "  'https://www.bbc.com/news/businessstrike_with'\n",
      "  'https://www.bbc.com/news/businesspresidentnow']\n",
      " ['https://www.bbc.com/news/businessleverage'\n",
      "  'https://www.bbc.com/news/businesslie_in'\n",
      "  'https://www.bbc.com/news/businessservices']\n",
      " ['https://www.bbc.com/news/businessleverage'\n",
      "  'https://www.bbc.com/news/businesslie_like'\n",
      "  'https://www.bbc.com/news/businessbanks']\n",
      " ['https://www.bbc.com/news/businessmarket'\n",
      "  'https://www.bbc.com/news/businesslose'\n",
      "  'https://www.bbc.com/news/business']\n",
      " ['https://www.bbc.com/news/businessmarket'\n",
      "  'https://www.bbc.com/news/businesslose_By'\n",
      "  'https://www.bbc.com/news/businesscomparison']\n",
      " ['https://www.bbc.com/news/businessmarket'\n",
      "  'https://www.bbc.com/news/businesslose_In'\n",
      "  'https://www.bbc.com/news/business1929']\n",
      " ['https://www.bbc.com/news/businessmarket'\n",
      "  'https://www.bbc.com/news/businesslose_On'\n",
      "  'https://www.bbc.com/news/businessOctober']\n",
      " ['https://www.bbc.com/news/businessmarket'\n",
      "  'https://www.bbc.com/news/businesslose_in'\n",
      "  'https://www.bbc.com/news/businessday']\n",
      " ['https://www.bbc.com/news/businessmarket'\n",
      "  'https://www.bbc.com/news/businesslose_in'\n",
      "  'https://www.bbc.com/news/businessdays']\n",
      " ['https://www.bbc.com/news/businessmarket'\n",
      "  'https://www.bbc.com/news/businessstand_at'\n",
      "  'https://www.bbc.com/news/business']\n",
      " ['https://www.bbc.com/news/businessmarkets'\n",
      "  'https://www.bbc.com/news/businessflood_from'\n",
      "  'https://www.bbc.com/news/businesscountries']\n",
      " ['https://www.bbc.com/news/businessmarkets'\n",
      "  'https://www.bbc.com/news/businesshave'\n",
      "  'https://www.bbc.com/news/businessday']\n",
      " ['https://www.bbc.com/news/businessminister'\n",
      "  'https://www.bbc.com/news/businesstell'\n",
      "  'https://www.bbc.com/news/businessBBC']\n",
      " ['https://www.bbc.com/news/businessminister'\n",
      "  'https://www.bbc.com/news/businesstell'\n",
      "  'https://www.bbc.com/news/businessreporters']\n",
      " ['https://www.bbc.com/news/businessminister'\n",
      "  'https://www.bbc.com/news/businesstell_on'\n",
      "  'https://www.bbc.com/news/businessThursday']\n",
      " ['https://www.bbc.com/news/businessministers'\n",
      "  'https://www.bbc.com/news/businessmeet_in'\n",
      "  'https://www.bbc.com/news/businessBrussels']\n",
      " ['https://www.bbc.com/news/businessmove'\n",
      "  'https://www.bbc.com/news/businessban'\n",
      "  'https://www.bbc.com/news/businessexport']\n",
      " ['https://www.bbc.com/news/businessnegotiations'\n",
      "  'https://www.bbc.com/news/businesscarry_with'\n",
      "  'https://www.bbc.com/news/businesspartners']\n",
      " ['https://www.bbc.com/news/businessnumber'\n",
      "  'https://www.bbc.com/news/businessfall_by'\n",
      "  'https://www.bbc.com/news/businesssecond']\n",
      " ['https://www.bbc.com/news/businessofficials'\n",
      "  'https://www.bbc.com/news/businessdescribe_as'\n",
      "  'https://www.bbc.com/news/businessfreeloaders']\n",
      " ['https://www.bbc.com/news/businessoutposts'\n",
      "  'https://www.bbc.com/news/businessend_on'\n",
      "  'https://www.bbc.com/news/businesslist']\n",
      " ['https://www.bbc.com/news/businesspandemic'\n",
      "  'https://www.bbc.com/news/businesshit_in'\n",
      "  'https://www.bbc.com/news/business2020']\n",
      " ['https://www.bbc.com/news/businesspeople'\n",
      "  'https://www.bbc.com/news/businessventure_to'\n",
      "  'https://www.bbc.com/news/businessIsland']\n",
      " ['https://www.bbc.com/news/businessphone'\n",
      "  'https://www.bbc.com/news/businessgo_toBBCAfricacomfor'\n",
      "  'https://www.bbc.com/news/businessnews']\n",
      " ['https://www.bbc.com/news/businessplant'\n",
      "  'https://www.bbc.com/news/businessshut_like'\n",
      "  'https://www.bbc.com/news/businessStellantis']\n",
      " ['https://www.bbc.com/news/businessplayers'\n",
      "  'https://www.bbc.com/news/businessinvest_at'\n",
      "  'https://www.bbc.com/news/businesstime']\n",
      " ['https://www.bbc.com/news/businesspresident'\n",
      "  'https://www.bbc.com/news/businessagree_on'\n",
      "  'https://www.bbc.com/news/businesspath']\n",
      " ['https://www.bbc.com/news/businessprice'\n",
      "  'https://www.bbc.com/news/businessslump_from'\n",
      "  'https://www.bbc.com/news/business67']\n",
      " ['https://www.bbc.com/news/businessprice'\n",
      "  'https://www.bbc.com/news/businessslump_to'\n",
      "  'https://www.bbc.com/news/business65']\n",
      " ['https://www.bbc.com/news/businessrealities'\n",
      "  'https://www.bbc.com/news/businessthrow'\n",
      "  'https://www.bbc.com/news/businessupopportunities']\n",
      " ['https://www.bbc.com/news/businessrealities'\n",
      "  'https://www.bbc.com/news/businessthrow_for'\n",
      "  'https://www.bbc.com/news/businessIndia']\n",
      " ['https://www.bbc.com/news/businessregions'\n",
      "  'https://www.bbc.com/news/businesswork_For'\n",
      "  'https://www.bbc.com/news/businessdecades']\n",
      " ['https://www.bbc.com/news/businessregions'\n",
      "  'https://www.bbc.com/news/businesswork_across'\n",
      "  'https://www.bbc.com/news/businessborder']\n",
      " ['https://www.bbc.com/news/businessreporter'\n",
      "  'https://www.bbc.com/news/businessfall_After'\n",
      "  'https://www.bbc.com/news/businessstart']\n",
      " ['https://www.bbc.com/news/businessresponse'\n",
      "  'https://www.bbc.com/news/businesscoordinate_at'\n",
      "  'https://www.bbc.com/news/businessHQ']\n",
      " ['https://www.bbc.com/news/businessrises'\n",
      "  'https://www.bbc.com/news/businessaffect'\n",
      "  'https://www.bbc.com/news/businesspension']\n",
      " ['https://www.bbc.com/news/businesss'\n",
      "  'https://www.bbc.com/news/businessuse_as'\n",
      "  'https://www.bbc.com/news/businessexample']\n",
      " ['https://www.bbc.com/news/businessselling'\n",
      "  'https://www.bbc.com/news/businesscontinue_despite'\n",
      "  'https://www.bbc.com/news/businessinvestors']\n",
      " ['https://www.bbc.com/news/businessshares'\n",
      "  'https://www.bbc.com/news/businessplunge_by'\n",
      "  'https://www.bbc.com/news/business']\n",
      " ['https://www.bbc.com/news/businesssign'\n",
      "  'https://www.bbc.com/news/businesssee_on'\n",
      "  'https://www.bbc.com/news/businessJuly']\n",
      " ['https://www.bbc.com/news/businesssign'\n",
      "  'https://www.bbc.com/news/businesssee_outside'\n",
      "  'https://www.bbc.com/news/businessheadquarters']\n",
      " ['https://www.bbc.com/news/businesssome'\n",
      "  'https://www.bbc.com/news/businesssee'\n",
      "  'https://www.bbc.com/news/businessupsides']\n",
      " ['https://www.bbc.com/news/businesssteps'\n",
      "  'https://www.bbc.com/news/businesstie_to'\n",
      "  'https://www.bbc.com/news/businessconcerns']\n",
      " ['https://www.bbc.com/news/businesstalks'\n",
      "  'https://www.bbc.com/news/businessexpedite_as'\n",
      "  'https://www.bbc.com/news/businesscracks']\n",
      " ['https://www.bbc.com/news/businesstariff'\n",
      "  'https://www.bbc.com/news/businessapply_to'\n",
      "  'https://www.bbc.com/news/businesscomponents']\n",
      " ['https://www.bbc.com/news/businesstariff'\n",
      "  'https://www.bbc.com/news/businessimpose_on'\n",
      "  'https://www.bbc.com/news/businessIsland']\n",
      " ['https://www.bbc.com/news/businesstariff'\n",
      "  'https://www.bbc.com/news/businessreduce_For'\n",
      "  'https://www.bbc.com/news/businessCanada']\n",
      " ['https://www.bbc.com/news/businesstariff'\n",
      "  'https://www.bbc.com/news/businessreduce_for'\n",
      "  'https://www.bbc.com/news/businesscars']\n",
      " ['https://www.bbc.com/news/businesstariffs'\n",
      "  'https://www.bbc.com/news/businessapply_in'\n",
      "  'https://www.bbc.com/news/businesssector']\n",
      " ['https://www.bbc.com/news/businesstariffs'\n",
      "  'https://www.bbc.com/news/businessbase_on'\n",
      "  'https://www.bbc.com/news/businessdata']\n",
      " ['https://www.bbc.com/news/businesstariffs'\n",
      "  'https://www.bbc.com/news/businessfrustrate'\n",
      "  'https://www.bbc.com/news/businessleaders']\n",
      " ['https://www.bbc.com/news/businesstariffs'\n",
      "  'https://www.bbc.com/news/businessput'\n",
      "  'https://www.bbc.com/news/businessworld']\n",
      " ['https://www.bbc.com/news/businesstariffs'\n",
      "  'https://www.bbc.com/news/businessput_on'\n",
      "  'https://www.bbc.com/news/businessbrink']\n",
      " ['https://www.bbc.com/news/businesstariffs'\n",
      "  'https://www.bbc.com/news/businessremain_as'\n",
      "  'https://www.bbc.com/news/businessEurope']\n",
      " ['https://www.bbc.com/news/businesstariffs'\n",
      "  'https://www.bbc.com/news/businessrepresent_at'\n",
      "  'https://www.bbc.com/news/businesstime']\n",
      " ['https://www.bbc.com/news/businesstariffs'\n",
      "  'https://www.bbc.com/news/businessspark'\n",
      "  'https://www.bbc.com/news/businessoff']\n",
      " ['https://www.bbc.com/news/businesstariffs'\n",
      "  'https://www.bbc.com/news/businessspark_on'\n",
      "  'https://www.bbc.com/news/businessWednesday']\n",
      " ['https://www.bbc.com/news/businesstariffs'\n",
      "  'https://www.bbc.com/news/businesstrigger'\n",
      "  'https://www.bbc.com/news/businessslump']\n",
      " ['https://www.bbc.com/news/businesstariffs'\n",
      "  'https://www.bbc.com/news/businesstrigger_on'\n",
      "  'https://www.bbc.com/news/businessThursday']\n",
      " ['https://www.bbc.com/news/businessthat'\n",
      "  'https://www.bbc.com/news/businessbelieve_in'\n",
      "  'https://www.bbc.com/news/businesstrade']\n",
      " ['https://www.bbc.com/news/businessthat'\n",
      "  'https://www.bbc.com/news/businessbreak'\n",
      "  'https://www.bbc.com/news/businesspromise']\n",
      " ['https://www.bbc.com/news/businessthat'\n",
      "  'https://www.bbc.com/news/businessbuild_in'\n",
      "  'https://www.bbc.com/news/businessCanada']\n",
      " ['https://www.bbc.com/news/businessthat'\n",
      "  'https://www.bbc.com/news/businessbuild_with'\n",
      "  'https://www.bbc.com/news/businessparts']\n",
      " ['https://www.bbc.com/news/businessthat'\n",
      "  'https://www.bbc.com/news/businesscome_as'\n",
      "  'https://www.bbc.com/news/businessbit']\n",
      " ['https://www.bbc.com/news/businessthat'\n",
      "  'https://www.bbc.com/news/businessdistribute_in'\n",
      "  'https://www.bbc.com/news/businessAfrica']\n",
      " ['https://www.bbc.com/news/businessthat'\n",
      "  'https://www.bbc.com/news/businessecho_across'\n",
      "  'https://www.bbc.com/news/businessWindsor']\n",
      " ['https://www.bbc.com/news/businessthat'\n",
      "  'https://www.bbc.com/news/businessemerge_as'\n",
      "  'https://www.bbc.com/news/businessdumping']\n",
      " ['https://www.bbc.com/news/businessthat'\n",
      "  'https://www.bbc.com/news/businessexpose_to'\n",
      "  'https://www.bbc.com/news/businesstariffs']\n",
      " ['https://www.bbc.com/news/businessthat'\n",
      "  'https://www.bbc.com/news/businessget_around'\n",
      "  'https://www.bbc.com/news/businesssituation']\n",
      " ['https://www.bbc.com/news/businessthat'\n",
      "  'https://www.bbc.com/news/businesslead_to'\n",
      "  'https://www.bbc.com/news/businesswar']\n",
      " ['https://www.bbc.com/news/businessthat'\n",
      "  'https://www.bbc.com/news/businessmake_with'\n",
      "  'https://www.bbc.com/news/businesscomponents']\n",
      " ['https://www.bbc.com/news/businessthat'\n",
      "  'https://www.bbc.com/news/businessplague_for'\n",
      "  'https://www.bbc.com/news/businessyears']\n",
      " ['https://www.bbc.com/news/businessthat'\n",
      "  'https://www.bbc.com/news/businessproduce_in'\n",
      "  'https://www.bbc.com/news/businesscompliance']\n",
      " ['https://www.bbc.com/news/businessthat'\n",
      "  'https://www.bbc.com/news/businessuse_for'\n",
      "  'https://www.bbc.com/news/businesspurposes']\n",
      " ['https://www.bbc.com/news/businessthey'\n",
      "  'https://www.bbc.com/news/businessdivert_to'\n",
      "  'https://www.bbc.com/news/businessUK']\n",
      " ['https://www.bbc.com/news/businessthey'\n",
      "  'https://www.bbc.com/news/businessdo_to'\n",
      "  'https://www.bbc.com/news/businessTrump']\n",
      " ['https://www.bbc.com/news/businessthey'\n",
      "  'https://www.bbc.com/news/businesssee_as'\n",
      "  'https://www.bbc.com/news/businesscoercion']\n",
      " ['https://www.bbc.com/news/businesstheyre'\n",
      "  'https://www.bbc.com/news/businesstell'\n",
      "  'https://www.bbc.com/news/businessfactor']\n",
      " ['https://www.bbc.com/news/businesstheyre'\n",
      "  'https://www.bbc.com/news/businesstell_to'\n",
      "  'https://www.bbc.com/news/businessmake']\n",
      " ['https://www.bbc.com/news/businessthis'\n",
      "  'https://www.bbc.com/news/businessqualify_as'\n",
      "  'https://www.bbc.com/news/businesscrash']\n",
      " ['https://www.bbc.com/news/businessvalue'\n",
      "  'https://www.bbc.com/news/businessequal_in'\n",
      "  'https://www.bbc.com/news/businesscolumn']\n",
      " ['https://www.bbc.com/news/businesswe'\n",
      "  'https://www.bbc.com/news/businesschart'\n",
      "  'https://www.bbc.com/news/businesshistory']\n",
      " ['https://www.bbc.com/news/businesswe'\n",
      "  'https://www.bbc.com/news/businessend_in'\n",
      "  'https://www.bbc.com/news/businesssituation']\n",
      " ['https://www.bbc.com/news/businesswe'\n",
      "  'https://www.bbc.com/news/businessfind'\n",
      "  'https://www.bbc.com/news/businessdifference']\n",
      " ['https://www.bbc.com/news/businesswe'\n",
      "  'https://www.bbc.com/news/businessget'\n",
      "  'https://www.bbc.com/news/businessaccess']\n",
      " ['https://www.bbc.com/news/businesswe'\n",
      "  'https://www.bbc.com/news/businesssee_in'\n",
      "  'https://www.bbc.com/news/businessmarkets']\n",
      " ['https://www.bbc.com/news/businesswhat'\n",
      "  'https://www.bbc.com/news/businessknow_as'\n",
      "  'https://www.bbc.com/news/businesspension']\n",
      " ['https://www.bbc.com/news/businesswhat'\n",
      "  'https://www.bbc.com/news/businessuse_for'\n",
      "  'https://www.bbc.com/news/businessweeks']\n",
      " ['https://www.bbc.com/news/businesswhich'\n",
      "  'https://www.bbc.com/news/businessaccount_for'\n",
      "  'https://www.bbc.com/news/business']\n",
      " ['https://www.bbc.com/news/businesswhich'\n",
      "  'https://www.bbc.com/news/businessappear_in'\n",
      "  'https://www.bbc.com/news/businesscolumn']\n",
      " ['https://www.bbc.com/news/businesswhich'\n",
      "  'https://www.bbc.com/news/businessmeasure_against'\n",
      "  'https://www.bbc.com/news/businesspeers']\n",
      " ['https://www.bbc.com/news/businesswhich'\n",
      "  'https://www.bbc.com/news/businessopen_at'\n",
      "  'https://www.bbc.com/news/businessBST']\n",
      " ['https://www.bbc.com/news/businesswho'\n",
      "  'https://www.bbc.com/news/businessmeet_on'\n",
      "  'https://www.bbc.com/news/businessWednesday']\n",
      " ['https://www.bbc.com/news/businesswho'\n",
      "  'https://www.bbc.com/news/businessmeet_with'\n",
      "  'https://www.bbc.com/news/businessTrump']\n",
      " ['https://www.bbc.com/news/businesswho'\n",
      "  'https://www.bbc.com/news/businessserve_as'\n",
      "  'https://www.bbc.com/news/businessadviser']\n",
      " ['https://www.bbc.com/news/businesswho'\n",
      "  'https://www.bbc.com/news/businessserve_since'\n",
      "  'https://www.bbc.com/news/businessDecember']\n",
      " ['https://www.bbc.com/news/businesswho'\n",
      "  'https://www.bbc.com/news/businessspeak_on'\n",
      "  'https://www.bbc.com/news/businessThursday']\n",
      " ['https://www.bbc.com/news/businesswho'\n",
      "  'https://www.bbc.com/news/businessspeak_to'\n",
      "  'https://www.bbc.com/news/businessBBC']\n",
      " ['https://www.bbc.com/news/businesswho'\n",
      "  'https://www.bbc.com/news/businesswork_at'\n",
      "  'https://www.bbc.com/news/businessplant']\n",
      " ['https://www.bbc.com/news/businesswho'\n",
      "  'https://www.bbc.com/news/businesswork_for'\n",
      "  'https://www.bbc.com/news/businessdepartment']\n",
      " ['https://www.bbc.com/news/businesswho'\n",
      "  'https://www.bbc.com/news/businesswork_for'\n",
      "  'https://www.bbc.com/news/businessyears']\n",
      " ['https://www.bbc.com/news/businesswinners'\n",
      "  'https://www.bbc.com/news/businessaffect'\n",
      "  'https://www.bbc.com/news/businessme']\n",
      " ['https://www.bbc.com/news/businessyou'\n",
      "  'https://www.bbc.com/news/businessdivide'\n",
      "  'https://www.bbc.com/news/businessnumber']\n",
      " ['https://www.bbc.com/news/businessyou'\n",
      "  'https://www.bbc.com/news/businessdivide_by'\n",
      "  'https://www.bbc.com/news/businesstwo']\n",
      " ['https://www.bbc.com/news/businessyou'\n",
      "  'https://www.bbc.com/news/businesshave'\n",
      "  'https://www.bbc.com/news/businesstariff']\n",
      " ['https://www.bbc.com/news/businessyou'\n",
      "  'https://www.bbc.com/news/businessprice_in'\n",
      "  'https://www.bbc.com/news/businesscollapse']\n",
      " ['https://www.bbc.com/news/businessyou'\n",
      "  'https://www.bbc.com/news/businessscan_across'\n",
      "  'https://www.bbc.com/news/businesschart']\n",
      " ['https://www.bbc.com/news/businessyou'\n",
      "  'https://www.bbc.com/news/businesstake_into'\n",
      "  'https://www.bbc.com/news/businessaccount']]\n"
     ]
    }
   ],
   "source": [
    "from rdflib import Graph\n",
    "from pykeen.triples import TriplesFactory\n",
    "import numpy as np\n",
    "\n",
    "# Charger le graphe RDF\n",
    "g = Graph()\n",
    "g.parse(\"output/pipeline_bbc_news_business_graph.rdf\", format=\"xml\")\n",
    "\n",
    "# Extraire les triplets et convertir en array numpy\n",
    "triples = [(str(s), str(p), str(o)) for s, p, o in g]\n",
    "triples_array = np.array(triples)\n",
    "\n",
    "# Créer le TriplesFactory\n",
    "tf = TriplesFactory.from_labeled_triples(triples_array)\n",
    "\n",
    "# Vérification\n",
    "print(f\"Nombre de triplets : {tf.num_triples}\")\n",
    "print(\"Quelques triplets :\")\n",
    "print(tf.triples)"
   ]
  },
  {
   "cell_type": "markdown",
   "metadata": {},
   "source": [
    "# **Step 3 - Entraînement du modèle TransE avec PyKEEN**"
   ]
  },
  {
   "cell_type": "markdown",
   "metadata": {},
   "source": [
    "## 3.1 Split en training / validation / test"
   ]
  },
  {
   "cell_type": "markdown",
   "metadata": {},
   "source": [
    "On décide de faire un split 80/10/10. "
   ]
  },
  {
   "cell_type": "code",
   "execution_count": 34,
   "metadata": {},
   "outputs": [
    {
     "name": "stderr",
     "output_type": "stream",
     "text": [
      "WARNING:pykeen.triples.triples_factory:Reconstructing all label-based triples. This is expensive and rarely needed.\n"
     ]
    },
    {
     "name": "stdout",
     "output_type": "stream",
     "text": [
      "Training: 246\n",
      "Validation: 31\n",
      "Testing: 31\n"
     ]
    }
   ],
   "source": [
    "from pykeen.triples import TriplesFactory\n",
    "from sklearn.model_selection import train_test_split\n",
    "\n",
    "# Reconvertir les triples en liste (pour le split manuel)\n",
    "triples_list = tf.triples.tolist()\n",
    "\n",
    "# 80% training, 20% temp (val + test)\n",
    "train_triples, temp_triples = train_test_split(triples_list, test_size=0.2, random_state=42)\n",
    "\n",
    "# 50/50 sur le reste → 10% val, 10% test\n",
    "val_triples, test_triples = train_test_split(temp_triples, test_size=0.5, random_state=42)\n",
    "\n",
    "# Créer les TriplesFactory manuellement\n",
    "training = TriplesFactory.from_labeled_triples(np.array(train_triples))\n",
    "validation = TriplesFactory.from_labeled_triples(np.array(val_triples))\n",
    "testing = TriplesFactory.from_labeled_triples(np.array(test_triples))\n",
    "\n",
    "# Vérif\n",
    "print(f\"Training: {training.num_triples}\")\n",
    "print(f\"Validation: {validation.num_triples}\")\n",
    "print(f\"Testing: {testing.num_triples}\")"
   ]
  },
  {
   "cell_type": "markdown",
   "metadata": {},
   "source": [
    "## 3.2 Entraînement du modèle TransE"
   ]
  },
  {
   "cell_type": "code",
   "execution_count": 35,
   "metadata": {},
   "outputs": [
    {
     "name": "stderr",
     "output_type": "stream",
     "text": [
      "WARNING:pykeen.utils:No cuda devices were available. The model runs on CPU\n",
      "INFO:pykeen.pipeline.api:Using device: None\n"
     ]
    },
    {
     "name": "stderr",
     "output_type": "stream",
     "text": [
      "Training epochs on cpu: 100%|██████████| 100/100 [00:25<00:00,  3.92epoch/s, loss=0.0115, prev_loss=0.024]  \n",
      "WARNING:pykeen.utils:Using automatic batch size on device.type='cpu' can cause unexplained out-of-memory crashes. Therefore, we use a conservative small batch_size=32. Performance may be improved by explicitly specifying a larger batch size.\n",
      "Evaluating on cpu:   0%|          | 0.00/31.0 [00:00<?, ?triple/s]WARNING:torch_max_mem.api:Encountered tensors on device_types={'cpu'} while only ['cuda'] are considered safe for automatic memory utilization maximization. This may lead to undocumented crashes (but can be safe, too).\n",
      "Evaluating on cpu: 100%|██████████| 31.0/31.0 [00:00<00:00, 473triple/s]\n",
      "INFO:pykeen.evaluation.evaluator:Evaluation took 0.07s seconds\n"
     ]
    }
   ],
   "source": [
    "from pykeen.pipeline import pipeline\n",
    "\n",
    "results = pipeline(\n",
    "    training=training,\n",
    "    validation=validation,\n",
    "    testing=testing,\n",
    "    model='TransE',\n",
    "    model_kwargs=dict(embedding_dim=50),\n",
    "    training_kwargs=dict(batch_size=16),\n",
    "    epochs=100,\n",
    "    random_seed=42,\n",
    ")"
   ]
  },
  {
   "cell_type": "markdown",
   "metadata": {},
   "source": [
    "# **Step 4 - Evaluation et exploration**"
   ]
  },
  {
   "attachments": {
    "image.png": {
     "image/png": "[encoded data removed]"
    }
   },
   "cell_type": "markdown",
   "metadata": {},
   "source": [
    "![image.png](attachment:image.png)"
   ]
  },
  {
   "cell_type": "markdown",
   "metadata": {},
   "source": [
    "## 4.1 Similarité entre entités (cosine similarity)"
   ]
  },
  {
   "cell_type": "markdown",
   "metadata": {},
   "source": [
    "Cette étape compare les vecteurs d’entités pour trouver celles qui sont les plus proches dans l’espace vectoriel (après entraînement)."
   ]
  },
  {
   "cell_type": "code",
   "execution_count": 39,
   "metadata": {},
   "outputs": [],
   "source": [
    "from sklearn.metrics.pairwise import cosine_similarity\n",
    "import numpy as np\n",
    "\n",
    "# ✅ Récupérer les embeddings + mapping entités\n",
    "entity_embeddings = results.model.entity_representations[0]().detach().cpu().numpy()\n",
    "label_to_id = results.training.entity_labeling.label_to_id\n",
    "id_to_label = {v: k for k, v in label_to_id.items()}\n",
    "\n",
    "# 🔍 Fonction de recherche des entités les plus similaires\n",
    "def find_similar_entities_by_label(target_label, top_k=5):\n",
    "    if target_label not in label_to_id:\n",
    "        print(f\"❌ L'entité '{target_label}' n'existe pas dans ce graphe.\")\n",
    "        print(\"Voici quelques entités disponibles :\")\n",
    "        for label in list(label_to_id.keys())[:10]:\n",
    "            print(f\"- {label}\")\n",
    "        return\n",
    "\n",
    "    entity_id = label_to_id[target_label]\n",
    "    entity_vector = entity_embeddings[entity_id].reshape(1, -1)\n",
    "    similarities = cosine_similarity(entity_vector, entity_embeddings)\n",
    "    most_similar_ids = np.argsort(similarities[0])[-top_k-1:-1][::-1]\n",
    "\n",
    "    print(f\"\\nEntités les plus similaires à '{target_label}' :\")\n",
    "    for idx in most_similar_ids:\n",
    "        print(f\"- {id_to_label[idx]}\")"
   ]
  },
  {
   "cell_type": "markdown",
   "metadata": {},
   "source": [
    "Exemple d’utilisation : choisir une entité réellement présente"
   ]
  },
  {
   "cell_type": "code",
   "execution_count": 40,
   "metadata": {},
   "outputs": [
    {
     "name": "stdout",
     "output_type": "stream",
     "text": [
      "\n",
      "Entités les plus similaires à 'https://www.bbc.com/news/business' :\n",
      "- https://www.bbc.com/news/businessfront\n",
      "- https://www.bbc.com/news/businessmarket\n",
      "- https://www.bbc.com/news/businessfalls\n",
      "- https://www.bbc.com/news/businessAfrica\n",
      "- https://www.bbc.com/news/businessshares\n"
     ]
    }
   ],
   "source": [
    "# Tu peux remplacer cette ligne par une autre entité de ton graphe\n",
    "target_entity = list(label_to_id.keys())[0]  # Exemple : première entité du graphe\n",
    "\n",
    "find_similar_entities_by_label(target_entity)"
   ]
  },
  {
   "cell_type": "markdown",
   "metadata": {},
   "source": [
    "Notre modèle a compris que certaines entités comme businessfront, businessmarket, businessshares ou businessAfrica sont proches de la page principale https://www.bbc.com/news/business. \n",
    "\n",
    "Cela montre qu’il a bien capté des liens sémantiques entre des pages ou concepts liés au monde économique. Même si le graphe est construit automatiquement à partir d’articles, le modèle parvient à regrouper des entités qui partagent un contexte similaire, ce qui confirme que les embeddings ont du sens."
   ]
  },
  {
   "cell_type": "markdown",
   "metadata": {},
   "source": [
    "## 4.2 \tLink prediction"
   ]
  },
  {
   "cell_type": "markdown",
   "metadata": {},
   "source": [
    "### 4.2.1 Évaluation automatique"
   ]
  },
  {
   "cell_type": "markdown",
   "metadata": {},
   "source": [
    "Cette étape permet de dire si notre modèle est bon ou pas."
   ]
  },
  {
   "cell_type": "markdown",
   "metadata": {},
   "source": [
    "On utilise les métriques: \n",
    "- **Mean Rank**: Rang moyen du bon triplet parmi toutes les prédictions (plus c’est bas, mieux)\n",
    "- **MRR**: Moyenne de l’inverse du rang (plus c’est haut, mieux)\n",
    "- **Hits@k**: % de fois où la bonne réponse est dans le top-k résultats\n",
    "\n",
    "Ex : Hits@10 = 0.90 → le modèle trouve la bonne entité cible dans le top 10 90% du temps"
   ]
  },
  {
   "cell_type": "markdown",
   "metadata": {},
   "source": [
    "Quand on entraîne un modèle d’embedding sur un graphe (comme TransE), on veut vérifier :\n",
    "\n",
    "- S’il est capable de reconstruire les liens du graphe (ceux qu’on a appris),\n",
    "- S’il peut prédire des liens manquants, ce qu’on appelle Link Prediction.\n",
    "\n",
    "PyKEEN fait cette évaluation automatiquement via les métriques standards citées ci-dessus. "
   ]
  },
  {
   "cell_type": "code",
   "execution_count": 44,
   "metadata": {},
   "outputs": [
    {
     "name": "stdout",
     "output_type": "stream",
     "text": [
      "Clés disponibles dans metrics['both'] :\n",
      "dict_keys(['optimistic', 'realistic', 'pessimistic'])\n"
     ]
    }
   ],
   "source": [
    "metrics = results.metric_results.to_dict()\n",
    "print(\"Clés disponibles dans metrics['both'] :\")\n",
    "print(metrics.get(\"both\", {}).keys())"
   ]
  },
  {
   "cell_type": "code",
   "execution_count": 45,
   "metadata": {},
   "outputs": [
    {
     "name": "stdout",
     "output_type": "stream",
     "text": [
      "\n",
      "📊 Résultats pour le modèle TransE (réalistes) :\n",
      "- Mean Rank: 150.08\n",
      "- Mean Reciprocal Rank (MRR): 0.0067\n",
      "- Hits@1: 0.0000\n",
      "- Hits@3: 0.0161\n",
      "- Hits@10: 0.0161\n"
     ]
    }
   ],
   "source": [
    "def evaluate_model_realistic(results, model_name=\"TransE\"):\n",
    "    metrics = results.metric_results.to_dict()\n",
    "    realistic = metrics[\"both\"][\"realistic\"]\n",
    "\n",
    "    print(f\"\\n📊 Résultats pour le modèle {model_name} (réalistes) :\")\n",
    "    print(f\"- Mean Rank: {realistic['arithmetic_mean_rank']:.2f}\")\n",
    "    print(f\"- Mean Reciprocal Rank (MRR): {realistic['inverse_arithmetic_mean_rank']:.4f}\")\n",
    "    print(f\"- Hits@1: {realistic['hits_at_1']:.4f}\")\n",
    "    print(f\"- Hits@3: {realistic.get('hits_at_3', 0.0):.4f}\")\n",
    "    print(f\"- Hits@10: {realistic['hits_at_10']:.4f}\")\n",
    "\n",
    "evaluate_model_realistic(results)"
   ]
  },
  {
   "cell_type": "markdown",
   "metadata": {},
   "source": [
    "Notre modèle **TransE** obtient des résultats assez faibles sur ce graphe. La position moyenne de la bonne entité est autour de 150, ce qui montre qu’elle est rarement bien classée. Le MRR de 0.0067 confirme que le modèle ne place presque jamais la bonne réponse dans les premiers résultats. Il atteint un Hits@10 de seulement 1.6 %, ce qui indique qu’il peine à identifier les bonnes relations. Ces performances peuvent s’expliquer par le fait que le graphe est bruité, automatiquement construit, et que les relations manquent parfois de cohérence ou de régularité."
   ]
  },
  {
   "cell_type": "markdown",
   "metadata": {},
   "source": [
    "**LES RESULTATS SONT SUPER MAUVAIS !!!!!!!!**"
   ]
  },
  {
   "attachments": {
    "image.png": {
     "image/png": "[encoded data removed]"
    }
   },
   "cell_type": "markdown",
   "metadata": {},
   "source": [
    "![image.png](attachment:image.png)"
   ]
  },
  {
   "attachments": {
    "image.png": {
     "image/png": "[encoded data removed]"
    }
   },
   "cell_type": "markdown",
   "metadata": {},
   "source": [
    "![image.png](attachment:image.png)"
   ]
  },
  {
   "cell_type": "markdown",
   "metadata": {},
   "source": [
    "Est-ce que le problème peut venir d'un mauvais split ??? Oui en partie car:"
   ]
  },
  {
   "attachments": {
    "image.png": {
     "image/png": "[encoded data removed]"
    }
   },
   "cell_type": "markdown",
   "metadata": {},
   "source": [
    "![image.png](attachment:image.png)"
   ]
  },
  {
   "cell_type": "markdown",
   "metadata": {},
   "source": [
    "Pourquoi on a si peu de triplets (308) alors que le site BBC est immense ? Voila pourquoi:"
   ]
  },
  {
   "attachments": {
    "image.png": {
     "image/png": "[encoded data removed]"
    }
   },
   "cell_type": "markdown",
   "metadata": {},
   "source": [
    "![image.png](attachment:image.png)"
   ]
  },
  {
   "cell_type": "markdown",
   "metadata": {},
   "source": [
    "Conclusion: flemme d'améliorer mais jspr qu'il va pas nous enlever des points"
   ]
  },
  {
   "cell_type": "markdown",
   "metadata": {},
   "source": [
    "### 4.2.2 Link Prediction personnalisée"
   ]
  },
  {
   "cell_type": "markdown",
   "metadata": {},
   "source": [
    "C’est une étape super intéressante où tu choisis un head et une relation, et le modèle prédit les entités les plus probables comme tail."
   ]
  },
  {
   "cell_type": "code",
   "execution_count": 57,
   "metadata": {},
   "outputs": [
    {
     "name": "stdout",
     "output_type": "stream",
     "text": [
      "Exemples d'entités présentes :\n",
      "- https://www.bbc.com/news/business\n",
      "- https://www.bbc.com/news/business1929\n",
      "- https://www.bbc.com/news/business2020\n",
      "- https://www.bbc.com/news/business5\n",
      "- https://www.bbc.com/news/business65\n",
      "\n",
      "📊 Prédictions pour (https://www.bbc.com/news/business, https://www.bbc.com/news/businessadd_to, ?):\n"
     ]
    },
    {
     "data": {
      "text/html": [
       "<div>\n",
       "<style scoped>\n",
       "    .dataframe tbody tr th:only-of-type {\n",
       "        vertical-align: middle;\n",
       "    }\n",
       "\n",
       "    .dataframe tbody tr th {\n",
       "        vertical-align: top;\n",
       "    }\n",
       "\n",
       "    .dataframe thead th {\n",
       "        text-align: right;\n",
       "    }\n",
       "</style>\n",
       "<table border=\"1\" class=\"dataframe\">\n",
       "  <thead>\n",
       "    <tr style=\"text-align: right;\">\n",
       "      <th></th>\n",
       "      <th>tail_id</th>\n",
       "      <th>score</th>\n",
       "      <th>tail_label</th>\n",
       "    </tr>\n",
       "  </thead>\n",
       "  <tbody>\n",
       "    <tr>\n",
       "      <th>0</th>\n",
       "      <td>0</td>\n",
       "      <td>-5.370853</td>\n",
       "      <td>https://www.bbc.com/news/business</td>\n",
       "    </tr>\n",
       "    <tr>\n",
       "      <th>235</th>\n",
       "      <td>235</td>\n",
       "      <td>-8.640906</td>\n",
       "      <td>https://www.bbc.com/news/businessshares</td>\n",
       "    </tr>\n",
       "    <tr>\n",
       "      <th>136</th>\n",
       "      <td>136</td>\n",
       "      <td>-8.739779</td>\n",
       "      <td>https://www.bbc.com/news/businessfalls</td>\n",
       "    </tr>\n",
       "    <tr>\n",
       "      <th>222</th>\n",
       "      <td>222</td>\n",
       "      <td>-8.748531</td>\n",
       "      <td>https://www.bbc.com/news/businessreporters</td>\n",
       "    </tr>\n",
       "    <tr>\n",
       "      <th>105</th>\n",
       "      <td>105</td>\n",
       "      <td>-8.996119</td>\n",
       "      <td>https://www.bbc.com/news/businesscomparison</td>\n",
       "    </tr>\n",
       "    <tr>\n",
       "      <th>...</th>\n",
       "      <td>...</td>\n",
       "      <td>...</td>\n",
       "      <td>...</td>\n",
       "    </tr>\n",
       "    <tr>\n",
       "      <th>76</th>\n",
       "      <td>76</td>\n",
       "      <td>-12.091805</td>\n",
       "      <td>https://www.bbc.com/news/businessair</td>\n",
       "    </tr>\n",
       "    <tr>\n",
       "      <th>5</th>\n",
       "      <td>5</td>\n",
       "      <td>-12.166632</td>\n",
       "      <td>https://www.bbc.com/news/business67</td>\n",
       "    </tr>\n",
       "    <tr>\n",
       "      <th>266</th>\n",
       "      <td>266</td>\n",
       "      <td>-12.183168</td>\n",
       "      <td>https://www.bbc.com/news/businesswebsite</td>\n",
       "    </tr>\n",
       "    <tr>\n",
       "      <th>92</th>\n",
       "      <td>92</td>\n",
       "      <td>-12.237690</td>\n",
       "      <td>https://www.bbc.com/news/businessbroker</td>\n",
       "    </tr>\n",
       "    <tr>\n",
       "      <th>132</th>\n",
       "      <td>132</td>\n",
       "      <td>-12.315963</td>\n",
       "      <td>https://www.bbc.com/news/businessexport</td>\n",
       "    </tr>\n",
       "  </tbody>\n",
       "</table>\n",
       "<p>275 rows × 3 columns</p>\n",
       "</div>"
      ],
      "text/plain": [
       "     tail_id      score                                   tail_label\n",
       "0          0  -5.370853            https://www.bbc.com/news/business\n",
       "235      235  -8.640906      https://www.bbc.com/news/businessshares\n",
       "136      136  -8.739779       https://www.bbc.com/news/businessfalls\n",
       "222      222  -8.748531   https://www.bbc.com/news/businessreporters\n",
       "105      105  -8.996119  https://www.bbc.com/news/businesscomparison\n",
       "..       ...        ...                                          ...\n",
       "76        76 -12.091805         https://www.bbc.com/news/businessair\n",
       "5          5 -12.166632          https://www.bbc.com/news/business67\n",
       "266      266 -12.183168     https://www.bbc.com/news/businesswebsite\n",
       "92        92 -12.237690      https://www.bbc.com/news/businessbroker\n",
       "132      132 -12.315963      https://www.bbc.com/news/businessexport\n",
       "\n",
       "[275 rows x 3 columns]"
      ]
     },
     "metadata": {},
     "output_type": "display_data"
    }
   ],
   "source": [
    "from pykeen.predict import predict_target\n",
    "from IPython.display import display\n",
    "\n",
    "# ✅ Choisir une entité et une relation présentes dans ton graphe\n",
    "entity_labels = list(results.training.entity_labeling.label_to_id.keys())\n",
    "print(\"Exemples d'entités présentes :\")\n",
    "for label in entity_labels[:5]:\n",
    "    print(\"-\", label)\n",
    "\n",
    "# 💡 Tu peux en choisir une parmi celles affichées ci-dessus\n",
    "head_label = entity_labels[0]  # exemple : la première entité du graphe\n",
    "rel_label = list(results.training.relation_labeling.label_to_id.keys())[0]  # idem pour relation\n",
    "\n",
    "# ✅ Vérification\n",
    "if head_label not in results.training.entity_labeling.label_to_id:\n",
    "    print(f\"❌ Entité '{head_label}' absente du graphe.\")\n",
    "elif rel_label not in results.training.relation_labeling.label_to_id:\n",
    "    print(f\"❌ Relation '{rel_label}' absente du graphe.\")\n",
    "else:\n",
    "    # 🔮 Lancer la prédiction\n",
    "    predictions = predict_target(\n",
    "        model=results.model,\n",
    "        head=head_label,\n",
    "        relation=rel_label,\n",
    "        triples_factory=results.training\n",
    "    )\n",
    "\n",
    "    # 🧾 Résultats sous forme de DataFrame\n",
    "    df = predictions.df\n",
    "\n",
    "    print(f\"\\n📊 Prédictions pour ({head_label}, {rel_label}, ?):\")\n",
    "    display(df)"
   ]
  },
  {
   "cell_type": "markdown",
   "metadata": {},
   "source": [
    "La prédiction de liens a été réalisée à l'aide de la méthode predict_target introduite dans PyKEEN 1.11.0. Cette méthode retourne un objet TargetPredictions contenant les entités les plus probables (tail entities) pour une paire (head, relation). Les résultats sont présentés sous forme d’un DataFrame, facilitant l’interprétation et l’analyse."
   ]
  },
  {
   "cell_type": "markdown",
   "metadata": {},
   "source": [
    "Le modèle prédit qu’il est très probable que la page \"business\" soit liée à des concepts comme \"shares\", \"falls\", \"reporters\" ou encore \"comparison\", ce qui est logique dans un contexte économique. Il associe aussi cette entité à d’autres pages du même univers thématique. Cela montre que, malgré un graphe généré automatiquement et relativement bruité, le modèle parvient à capturer certaines régularités sémantiques entre les contenus liés au business et à l’actualité économique."
   ]
  },
  {
   "cell_type": "markdown",
   "metadata": {},
   "source": [
    "## 4.3 Visualisation des embeddings avec t-SNE"
   ]
  },
  {
   "cell_type": "markdown",
   "metadata": {},
   "source": [
    "Cette étape consiste à :\n",
    "\n",
    "- Extraire les vecteurs d’embedding des entités du modèle TransE,\n",
    "\n",
    "- Les projeter en 2D avec t-SNE,\n",
    "\n",
    "- Et les afficher sur un graphe avec leur nom."
   ]
  },
  {
   "cell_type": "code",
   "execution_count": 58,
   "metadata": {},
   "outputs": [
    {
     "name": "stdout",
     "output_type": "stream",
     "text": [
      "Requirement already satisfied: matplotlib in c:\\users\\zinii\\anaconda3\\envs\\pykeen_env\\lib\\site-packages (3.10.1)\n",
      "Requirement already satisfied: scikit-learn in c:\\users\\zinii\\anaconda3\\envs\\pykeen_env\\lib\\site-packages (1.6.1)\n",
      "Requirement already satisfied: contourpy>=1.0.1 in c:\\users\\zinii\\anaconda3\\envs\\pykeen_env\\lib\\site-packages (from matplotlib) (1.3.1)\n",
      "Requirement already satisfied: cycler>=0.10 in c:\\users\\zinii\\anaconda3\\envs\\pykeen_env\\lib\\site-packages (from matplotlib) (0.12.1)\n",
      "Requirement already satisfied: fonttools>=4.22.0 in c:\\users\\zinii\\anaconda3\\envs\\pykeen_env\\lib\\site-packages (from matplotlib) (4.56.0)\n",
      "Requirement already satisfied: kiwisolver>=1.3.1 in c:\\users\\zinii\\anaconda3\\envs\\pykeen_env\\lib\\site-packages (from matplotlib) (1.4.8)\n",
      "Requirement already satisfied: numpy>=1.23 in c:\\users\\zinii\\anaconda3\\envs\\pykeen_env\\lib\\site-packages (from matplotlib) (2.2.4)\n",
      "Requirement already satisfied: packaging>=20.0 in c:\\users\\zinii\\anaconda3\\envs\\pykeen_env\\lib\\site-packages (from matplotlib) (24.2)\n",
      "Requirement already satisfied: pillow>=8 in c:\\users\\zinii\\anaconda3\\envs\\pykeen_env\\lib\\site-packages (from matplotlib) (11.1.0)\n",
      "Requirement already satisfied: pyparsing>=2.3.1 in c:\\users\\zinii\\anaconda3\\envs\\pykeen_env\\lib\\site-packages (from matplotlib) (3.2.3)\n",
      "Requirement already satisfied: python-dateutil>=2.7 in c:\\users\\zinii\\anaconda3\\envs\\pykeen_env\\lib\\site-packages (from matplotlib) (2.9.0.post0)\n",
      "Requirement already satisfied: scipy>=1.6.0 in c:\\users\\zinii\\anaconda3\\envs\\pykeen_env\\lib\\site-packages (from scikit-learn) (1.15.2)\n",
      "Requirement already satisfied: joblib>=1.2.0 in c:\\users\\zinii\\anaconda3\\envs\\pykeen_env\\lib\\site-packages (from scikit-learn) (1.4.2)\n",
      "Requirement already satisfied: threadpoolctl>=3.1.0 in c:\\users\\zinii\\anaconda3\\envs\\pykeen_env\\lib\\site-packages (from scikit-learn) (3.6.0)\n",
      "Requirement already satisfied: six>=1.5 in c:\\users\\zinii\\anaconda3\\envs\\pykeen_env\\lib\\site-packages (from python-dateutil>=2.7->matplotlib) (1.17.0)\n",
      "Note: you may need to restart the kernel to use updated packages.\n"
     ]
    }
   ],
   "source": [
    "pip install matplotlib scikit-learn"
   ]
  },
  {
   "cell_type": "code",
   "execution_count": 60,
   "metadata": {},
   "outputs": [
    {
     "data": {
      "image/png": "[encoded data removed]",
      "text/plain": [
       "<Figure size 1400x900 with 1 Axes>"
      ]
     },
     "metadata": {},
     "output_type": "display_data"
    }
   ],
   "source": [
    "import numpy as np\n",
    "from sklearn.manifold import TSNE\n",
    "import matplotlib.pyplot as plt\n",
    "\n",
    "# 🎯 Extraire les embeddings des entités\n",
    "entity_embeddings = results.model.entity_representations[0]().detach().cpu().numpy()\n",
    "entity_labels = list(results.training.entity_labeling.label_to_id.keys())\n",
    "\n",
    "# 📉 Réduction de dimension (2D) avec t-SNE\n",
    "tsne = TSNE(n_components=2, random_state=42, perplexity=5)\n",
    "embeddings_2d = tsne.fit_transform(entity_embeddings)\n",
    "\n",
    "# 🎨 Visualisation\n",
    "plt.figure(figsize=(14, 9))\n",
    "for i, label in enumerate(entity_labels):\n",
    "    x, y = embeddings_2d[i]\n",
    "    plt.scatter(x, y, color='blue')\n",
    "    # ✅ Affichage plus propre : on enlève la partie trop longue de l'URL\n",
    "    label_clean = label.replace(\"https://www.bbc.com/news/business\", \"\")\n",
    "    plt.text(x + 1, y + 1, label_clean if label_clean else \"ROOT\", fontsize=8)\n",
    "\n",
    "plt.title(\"Visualisation des entités BBC (t-SNE sur les embeddings TransE)\")\n",
    "plt.grid(True)\n",
    "plt.show()"
   ]
  },
  {
   "cell_type": "markdown",
   "metadata": {},
   "source": [
    "Nous allons à présent faire exactement la même visualisation mais en version interactive avec Plotly, pour pouvoir zoomer, survoler et déplacer les points."
   ]
  },
  {
   "cell_type": "code",
   "execution_count": 61,
   "metadata": {},
   "outputs": [
    {
     "name": "stdout",
     "output_type": "stream",
     "text": [
      "Requirement already satisfied: plotly in c:\\users\\zinii\\anaconda3\\envs\\pykeen_env\\lib\\site-packages (6.0.1)\n",
      "Requirement already satisfied: narwhals>=1.15.1 in c:\\users\\zinii\\anaconda3\\envs\\pykeen_env\\lib\\site-packages (from plotly) (1.32.0)\n",
      "Requirement already satisfied: packaging in c:\\users\\zinii\\anaconda3\\envs\\pykeen_env\\lib\\site-packages (from plotly) (24.2)\n",
      "Note: you may need to restart the kernel to use updated packages.\n"
     ]
    }
   ],
   "source": [
    "pip install plotly"
   ]
  },
  {
   "cell_type": "code",
   "execution_count": 64,
   "metadata": {},
   "outputs": [
    {
     "data": {
      "application/vnd.plotly.v1+json": {
       "config": {
        "plotlyServerURL": "https://plot.ly"
       },
       "data": [
        {
         "hovertemplate": "<b>%{hovertext}</b><br><br>x=%{x}<br>y=%{y}<br>label=%{text}<extra></extra>",
         "hovertext": [
          "https://www.bbc.com/news/business",
          "https://www.bbc.com/news/business1929",
          "https://www.bbc.com/news/business2020",
          "https://www.bbc.com/news/business5",
          "https://www.bbc.com/news/business65",
          "https://www.bbc.com/news/business67",
          "https://www.bbc.com/news/businessAdministration",
          "https://www.bbc.com/news/businessAfrica",
          "https://www.bbc.com/news/businessAttention",
          "https://www.bbc.com/news/businessBBC",
          "https://www.bbc.com/news/businessBST",
          "https://www.bbc.com/news/businessBarclaysbank",
          "https://www.bbc.com/news/businessBeijing",
          "https://www.bbc.com/news/businessBoulos",
          "https://www.bbc.com/news/businessBrussels",
          "https://www.bbc.com/news/businessButin",
          "https://www.bbc.com/news/businessCanada",
          "https://www.bbc.com/news/businessChina",
          "https://www.bbc.com/news/businessChinas",
          "https://www.bbc.com/news/businessChristina",
          "https://www.bbc.com/news/businessCoffin",
          "https://www.bbc.com/news/businessCommission",
          "https://www.bbc.com/news/businessCorporation",
          "https://www.bbc.com/news/businessCredit",
          "https://www.bbc.com/news/businessDaimler",
          "https://www.bbc.com/news/businessDecember",
          "https://www.bbc.com/news/businessDepartment",
          "https://www.bbc.com/news/businessEU",
          "https://www.bbc.com/news/businessErdogan",
          "https://www.bbc.com/news/businessEurope",
          "https://www.bbc.com/news/businessFTA",
          "https://www.bbc.com/news/businessFTSE",
          "https://www.bbc.com/news/businessFarrell",
          "https://www.bbc.com/news/businessFear",
          "https://www.bbc.com/news/businessFrance",
          "https://www.bbc.com/news/businessFriday",
          "https://www.bbc.com/news/businessHQ",
          "https://www.bbc.com/news/businessHe",
          "https://www.bbc.com/news/businessHouse",
          "https://www.bbc.com/news/businessHundreds",
          "https://www.bbc.com/news/businessIMF",
          "https://www.bbc.com/news/businessIndia",
          "https://www.bbc.com/news/businessInvestors",
          "https://www.bbc.com/news/businessIsland",
          "https://www.bbc.com/news/businessIt",
          "https://www.bbc.com/news/businessLammy",
          "https://www.bbc.com/news/businessLeyen",
          "https://www.bbc.com/news/businessMacron",
          "https://www.bbc.com/news/businessMarkets",
          "https://www.bbc.com/news/businessMonday",
          "https://www.bbc.com/news/businessNanji",
          "https://www.bbc.com/news/businessOne",
          "https://www.bbc.com/news/businessOrganization",
          "https://www.bbc.com/news/businessPoilievre",
          "https://www.bbc.com/news/businessShares",
          "https://www.bbc.com/news/businessShe",
          "https://www.bbc.com/news/businessSpain",
          "https://www.bbc.com/news/businessThat",
          "https://www.bbc.com/news/businessThis",
          "https://www.bbc.com/news/businessThursday",
          "https://www.bbc.com/news/businessTrump",
          "https://www.bbc.com/news/businessTuesday",
          "https://www.bbc.com/news/businessUK",
          "https://www.bbc.com/news/businessUS",
          "https://www.bbc.com/news/businessUnion",
          "https://www.bbc.com/news/businessWashington",
          "https://www.bbc.com/news/businessWe",
          "https://www.bbc.com/news/businessWednesday",
          "https://www.bbc.com/news/businessWeve",
          "https://www.bbc.com/news/businessWindsor",
          "https://www.bbc.com/news/businessWoman",
          "https://www.bbc.com/news/businessYou",
          "https://www.bbc.com/news/businessaccount",
          "https://www.bbc.com/news/businessaddition",
          "https://www.bbc.com/news/businessadministration",
          "https://www.bbc.com/news/businessagreement",
          "https://www.bbc.com/news/businessair",
          "https://www.bbc.com/news/businessall",
          "https://www.bbc.com/news/businessannouncement",
          "https://www.bbc.com/news/businessannouncements",
          "https://www.bbc.com/news/businessappetite",
          "https://www.bbc.com/news/businessassets",
          "https://www.bbc.com/news/businessbanks",
          "https://www.bbc.com/news/businessbark",
          "https://www.bbc.com/news/businessbarriers",
          "https://www.bbc.com/news/businessbeginnings",
          "https://www.bbc.com/news/businessbit",
          "https://www.bbc.com/news/businessbloc",
          "https://www.bbc.com/news/businessblow",
          "https://www.bbc.com/news/businessborder",
          "https://www.bbc.com/news/businessbrace",
          "https://www.bbc.com/news/businessbrink",
          "https://www.bbc.com/news/businessbroker",
          "https://www.bbc.com/news/businessbusinesses",
          "https://www.bbc.com/news/businesscalculations",
          "https://www.bbc.com/news/businesscars",
          "https://www.bbc.com/news/businesschannel",
          "https://www.bbc.com/news/businesschart",
          "https://www.bbc.com/news/businesschief",
          "https://www.bbc.com/news/businesschildren",
          "https://www.bbc.com/news/businesscoercion",
          "https://www.bbc.com/news/businesscolumn",
          "https://www.bbc.com/news/businesscomment",
          "https://www.bbc.com/news/businesscompanies",
          "https://www.bbc.com/news/businesscompany",
          "https://www.bbc.com/news/businesscomparison",
          "https://www.bbc.com/news/businesscompliance",
          "https://www.bbc.com/news/businesscomponents",
          "https://www.bbc.com/news/businesscooperation",
          "https://www.bbc.com/news/businesscounterparts",
          "https://www.bbc.com/news/businesscountries",
          "https://www.bbc.com/news/businesscountry",
          "https://www.bbc.com/news/businesscouple",
          "https://www.bbc.com/news/businesscracks",
          "https://www.bbc.com/news/businesscrash",
          "https://www.bbc.com/news/businesscuts",
          "https://www.bbc.com/news/businessdata",
          "https://www.bbc.com/news/businessday",
          "https://www.bbc.com/news/businessdays",
          "https://www.bbc.com/news/businessdeal",
          "https://www.bbc.com/news/businessdecade",
          "https://www.bbc.com/news/businessdecades",
          "https://www.bbc.com/news/businessdeclines",
          "https://www.bbc.com/news/businessdeficit",
          "https://www.bbc.com/news/businessdepartment",
          "https://www.bbc.com/news/businessdifference",
          "https://www.bbc.com/news/businessdifferential",
          "https://www.bbc.com/news/businessdumping",
          "https://www.bbc.com/news/businesseconomy",
          "https://www.bbc.com/news/businesseditor",
          "https://www.bbc.com/news/businessevidence",
          "https://www.bbc.com/news/businessexample",
          "https://www.bbc.com/news/businessexport",
          "https://www.bbc.com/news/businessfactor",
          "https://www.bbc.com/news/businessfall",
          "https://www.bbc.com/news/businessfallout",
          "https://www.bbc.com/news/businessfalls",
          "https://www.bbc.com/news/businessfigures",
          "https://www.bbc.com/news/businessfirm",
          "https://www.bbc.com/news/businessfreeloaders",
          "https://www.bbc.com/news/businessfront",
          "https://www.bbc.com/news/businessfuture",
          "https://www.bbc.com/news/businessfutures",
          "https://www.bbc.com/news/businessgas",
          "https://www.bbc.com/news/businessgiant",
          "https://www.bbc.com/news/businessgoods",
          "https://www.bbc.com/news/businessgoodsfrom",
          "https://www.bbc.com/news/businessgovernment",
          "https://www.bbc.com/news/businessgrowth",
          "https://www.bbc.com/news/businesshandful",
          "https://www.bbc.com/news/businesshavent",
          "https://www.bbc.com/news/businesshe",
          "https://www.bbc.com/news/businesshead",
          "https://www.bbc.com/news/businessheadquarters",
          "https://www.bbc.com/news/businesshes",
          "https://www.bbc.com/news/businesshike",
          "https://www.bbc.com/news/businesshikes",
          "https://www.bbc.com/news/businesshistory",
          "https://www.bbc.com/news/businessice",
          "https://www.bbc.com/news/businessimplications",
          "https://www.bbc.com/news/businessindex",
          "https://www.bbc.com/news/businessindustries",
          "https://www.bbc.com/news/businessinterests",
          "https://www.bbc.com/news/businessinvasion",
          "https://www.bbc.com/news/businessinvestors",
          "https://www.bbc.com/news/businessisland",
          "https://www.bbc.com/news/businessislands",
          "https://www.bbc.com/news/businessit",
          "https://www.bbc.com/news/businessitself",
          "https://www.bbc.com/news/businessjourney",
          "https://www.bbc.com/news/businessleaders",
          "https://www.bbc.com/news/businessleverage",
          "https://www.bbc.com/news/businesslist",
          "https://www.bbc.com/news/businesslot",
          "https://www.bbc.com/news/businessmake",
          "https://www.bbc.com/news/businessmarket",
          "https://www.bbc.com/news/businessmarkets",
          "https://www.bbc.com/news/businessmatters",
          "https://www.bbc.com/news/businessme",
          "https://www.bbc.com/news/businessmeasures",
          "https://www.bbc.com/news/businessmeeting",
          "https://www.bbc.com/news/businessminister",
          "https://www.bbc.com/news/businessministers",
          "https://www.bbc.com/news/businessmoment",
          "https://www.bbc.com/news/businessmoments",
          "https://www.bbc.com/news/businessmove",
          "https://www.bbc.com/news/businessnegotiation",
          "https://www.bbc.com/news/businessnegotiations",
          "https://www.bbc.com/news/businessnews",
          "https://www.bbc.com/news/businessnumber",
          "https://www.bbc.com/news/businessoff",
          "https://www.bbc.com/news/businessofficials",
          "https://www.bbc.com/news/businessoutposts",
          "https://www.bbc.com/news/businesspaceto",
          "https://www.bbc.com/news/businesspandemic",
          "https://www.bbc.com/news/businesspartners",
          "https://www.bbc.com/news/businessparts",
          "https://www.bbc.com/news/businesspeers",
          "https://www.bbc.com/news/businesspension",
          "https://www.bbc.com/news/businesspensions",
          "https://www.bbc.com/news/businesspeople",
          "https://www.bbc.com/news/businessperiod",
          "https://www.bbc.com/news/businessphone",
          "https://www.bbc.com/news/businessplan",
          "https://www.bbc.com/news/businessplant",
          "https://www.bbc.com/news/businessplayers",
          "https://www.bbc.com/news/businesspresident",
          "https://www.bbc.com/news/businesspresidentnow",
          "https://www.bbc.com/news/businessprice",
          "https://www.bbc.com/news/businessproduction",
          "https://www.bbc.com/news/businesspromise",
          "https://www.bbc.com/news/businessproposal",
          "https://www.bbc.com/news/businessproposals",
          "https://www.bbc.com/news/businesspurposes",
          "https://www.bbc.com/news/businessquestions",
          "https://www.bbc.com/news/businessquotas",
          "https://www.bbc.com/news/businessrange",
          "https://www.bbc.com/news/businessrealities",
          "https://www.bbc.com/news/businessrebels",
          "https://www.bbc.com/news/businessregions",
          "https://www.bbc.com/news/businessremoval",
          "https://www.bbc.com/news/businessreporter",
          "https://www.bbc.com/news/businessreporters",
          "https://www.bbc.com/news/businessresearch",
          "https://www.bbc.com/news/businessresponse",
          "https://www.bbc.com/news/businessresult",
          "https://www.bbc.com/news/businessretaliation",
          "https://www.bbc.com/news/businessrises",
          "https://www.bbc.com/news/businessroom",
          "https://www.bbc.com/news/businesss",
          "https://www.bbc.com/news/businessscheme",
          "https://www.bbc.com/news/businesssecond",
          "https://www.bbc.com/news/businesssector",
          "https://www.bbc.com/news/businessselling",
          "https://www.bbc.com/news/businessservices",
          "https://www.bbc.com/news/businessshares",
          "https://www.bbc.com/news/businesssign",
          "https://www.bbc.com/news/businesssituation",
          "https://www.bbc.com/news/businessslump",
          "https://www.bbc.com/news/businesssome",
          "https://www.bbc.com/news/businessstart",
          "https://www.bbc.com/news/businessstrength",
          "https://www.bbc.com/news/businesstalks",
          "https://www.bbc.com/news/businesstariff",
          "https://www.bbc.com/news/businesstariffs",
          "https://www.bbc.com/news/businesstaxes",
          "https://www.bbc.com/news/businesstears",
          "https://www.bbc.com/news/businessterms",
          "https://www.bbc.com/news/businessterritory",
          "https://www.bbc.com/news/businessthat",
          "https://www.bbc.com/news/businessthem",
          "https://www.bbc.com/news/businessthey",
          "https://www.bbc.com/news/businesstheyre",
          "https://www.bbc.com/news/businessthis",
          "https://www.bbc.com/news/businesstime",
          "https://www.bbc.com/news/businesstonnes",
          "https://www.bbc.com/news/businesstremors",
          "https://www.bbc.com/news/businesstwo",
          "https://www.bbc.com/news/businessupopportunities",
          "https://www.bbc.com/news/businessupsides",
          "https://www.bbc.com/news/businessvalue",
          "https://www.bbc.com/news/businessvehicles",
          "https://www.bbc.com/news/businessvulnerable",
          "https://www.bbc.com/news/businesswar",
          "https://www.bbc.com/news/businesswaters",
          "https://www.bbc.com/news/businesswe",
          "https://www.bbc.com/news/businesswebsite",
          "https://www.bbc.com/news/businessweeks",
          "https://www.bbc.com/news/businesswhat",
          "https://www.bbc.com/news/businesswhich",
          "https://www.bbc.com/news/businesswho",
          "https://www.bbc.com/news/businesswinners",
          "https://www.bbc.com/news/businessworkers",
          "https://www.bbc.com/news/businessyears",
          "https://www.bbc.com/news/businessyou"
         ],
         "legendgroup": "",
         "marker": {
          "color": "blue",
          "size": 6,
          "symbol": "circle"
         },
         "mode": "markers+text",
         "name": "",
         "orientation": "v",
         "showlegend": false,
         "text": [
          "ROOT",
          "1929",
          "2020",
          "5",
          "65",
          "67",
          "Administration",
          "Africa",
          "Attention",
          "BBC",
          "BST",
          "Barclaysbank",
          "Beijing",
          "Boulos",
          "Brussels",
          "Butin",
          "Canada",
          "China",
          "Chinas",
          "Christina",
          "Coffin",
          "Commission",
          "Corporation",
          "Credit",
          "Daimler",
          "December",
          "Department",
          "EU",
          "Erdogan",
          "Europe",
          "FTA",
          "FTSE",
          "Farrell",
          "Fear",
          "France",
          "Friday",
          "HQ",
          "He",
          "House",
          "Hundreds",
          "IMF",
          "India",
          "Investors",
          "Island",
          "It",
          "Lammy",
          "Leyen",
          "Macron",
          "Markets",
          "Monday",
          "Nanji",
          "One",
          "Organization",
          "Poilievre",
          "Shares",
          "She",
          "Spain",
          "That",
          "This",
          "Thursday",
          "Trump",
          "Tuesday",
          "UK",
          "US",
          "Union",
          "Washington",
          "We",
          "Wednesday",
          "Weve",
          "Windsor",
          "Woman",
          "You",
          "account",
          "addition",
          "administration",
          "agreement",
          "air",
          "all",
          "announcement",
          "announcements",
          "appetite",
          "assets",
          "banks",
          "bark",
          "barriers",
          "beginnings",
          "bit",
          "bloc",
          "blow",
          "border",
          "brace",
          "brink",
          "broker",
          "businesses",
          "calculations",
          "cars",
          "channel",
          "chart",
          "chief",
          "children",
          "coercion",
          "column",
          "comment",
          "companies",
          "company",
          "comparison",
          "compliance",
          "components",
          "cooperation",
          "counterparts",
          "countries",
          "country",
          "couple",
          "cracks",
          "crash",
          "cuts",
          "data",
          "day",
          "days",
          "deal",
          "decade",
          "decades",
          "declines",
          "deficit",
          "department",
          "difference",
          "differential",
          "dumping",
          "economy",
          "editor",
          "evidence",
          "example",
          "export",
          "factor",
          "fall",
          "fallout",
          "falls",
          "figures",
          "firm",
          "freeloaders",
          "front",
          "future",
          "futures",
          "gas",
          "giant",
          "goods",
          "goodsfrom",
          "government",
          "growth",
          "handful",
          "havent",
          "he",
          "head",
          "headquarters",
          "hes",
          "hike",
          "hikes",
          "history",
          "ice",
          "implications",
          "index",
          "industries",
          "interests",
          "invasion",
          "investors",
          "island",
          "islands",
          "it",
          "itself",
          "journey",
          "leaders",
          "leverage",
          "list",
          "lot",
          "make",
          "market",
          "markets",
          "matters",
          "me",
          "measures",
          "meeting",
          "minister",
          "ministers",
          "moment",
          "moments",
          "move",
          "negotiation",
          "negotiations",
          "news",
          "number",
          "off",
          "officials",
          "outposts",
          "paceto",
          "pandemic",
          "partners",
          "parts",
          "peers",
          "pension",
          "pensions",
          "people",
          "period",
          "phone",
          "plan",
          "plant",
          "players",
          "president",
          "presidentnow",
          "price",
          "production",
          "promise",
          "proposal",
          "proposals",
          "purposes",
          "questions",
          "quotas",
          "range",
          "realities",
          "rebels",
          "regions",
          "removal",
          "reporter",
          "reporters",
          "research",
          "response",
          "result",
          "retaliation",
          "rises",
          "room",
          "s",
          "scheme",
          "second",
          "sector",
          "selling",
          "services",
          "shares",
          "sign",
          "situation",
          "slump",
          "some",
          "start",
          "strength",
          "talks",
          "tariff",
          "tariffs",
          "taxes",
          "tears",
          "terms",
          "territory",
          "that",
          "them",
          "they",
          "theyre",
          "this",
          "time",
          "tonnes",
          "tremors",
          "two",
          "upopportunities",
          "upsides",
          "value",
          "vehicles",
          "vulnerable",
          "war",
          "waters",
          "we",
          "website",
          "weeks",
          "what",
          "which",
          "who",
          "winners",
          "workers",
          "years",
          "you"
         ],
         "textposition": "top center",
         "type": "scatter",
         "x": {
          "bdata": "LumVwfE6JEIgUUvA7ZDJPe5LVsEYJpjBS8s9QEABOUHTb1bAL5HvQZbUAL+RzBDBMuFgQmY+kcG+7GLAPVrzQDIg78DhiI1BYfmwwVz/JEKi2rTBcH8PQubFrUHHEmNB4UczQPidocEz83ZBLuHiQeqkb8J8ZazB4X0dwtQlg8G3GyNCGnpBwvatBEEb7XFARYWpQYyqGEDlPTtB/gP1QetOMMLt+UpBBeuiv0U9w0EzsLFBPdA1wSi+90GJCnhBrW4RwpIcPEHKcTNAmgr5QYeytsDfFZ5BDPGbwaajosDqypTBqPf9QDNl90Hvk7hBZvW2QYmDGkETsgFCa54xQRKryUGBCB3B5jBWwKHNrkGgoNA/SqENQg5SBEJvSIvB8c6GQS5SN8IzcApCtAiNwaPBX0JUi1FBo8v5wVMGVsCBu8nAxCX1QZYqGUG78jfCfA1IQWmJREHiJkfAzNtiQjbvlkE9satBWH1MwWX/xUEGRyfByZl5wdVwOMJt+XvBru9IQDaLKUGtgMvBZbOtwASwOcHZs69BNzCMvRer8MHTgu1BwgKlQKVXgUHtSHRBHvyxv+1VLkLm0IjB6EdCQdAWkEHFEjbC/S/qQfy4g0FaYyrAKDVNwRjNtkFJSRXCAqDrwbblyEHF2PS+fFofwq1OCcAmCWRBwyYTQsYuL0IouGFBAKCuwdBCDMLeqWzCPbkXQgDPBEFbJ+vBahK/QVYpYcAxQBHBoVXrQRPmJUJpYaDBDRPWQcI548FkQ91BZx7gQbRfoEDhiltBh57FwRd9EcINiDXCCpbCwcPt/D8P1qZBdfYVQtLi7cH1WaRBLmYIwUc/DELIl8DBl3lgwUszO8CkdFvB3zWjwT5Wv8FmL8rBNvauwPnUCEL11JRAX5gvQFIdwcG47mFBy/bGwLdhikC7LKjBtAzQQOoqVcHDxwZC5iSywehr9cFiLbbBq4aTQWrXwUE93LlBoerYwZ8N2UBE7KJBHBHJQBpEH0JsNZBAqsIjwhyhdUBUNs/Bw2AXwhGnjcHiA6jB1+ghQv9ngEBInItBRJsdwXLOoMFxmQbCK7o+wOTfGkJJoHq/gyAvwtDPO8KmK/PB3PgRwj6bO8FWlCDC/dzDQEYdOcHb2xjAFrbbv0aJZcAg+izClck3QRdVJcIGDgHCapPbQd1liUEr3UvCJdl2QW+fQ8ECs0fBN78jwFdyLcF/eRXBYfxbwbyZM8Ihr/lB/rfCP92vNkLdfALCoYmEwKOLxsHyLhJCJCinwYjcB0KMHptBpa2iP9A+5cHj6AbCAQFIwV0BDsEe9JRBkJsKwrwor0HR7EPBTTaTQDTQo0G52ghCASETQexjp8HcN0xBrxsLwtiJqEFdt/DAXVlzQcSQnEHv1thB+VHNQFEWc8FTm+dA61Jpwv+FgUGwGWFBMO6jwamVosHEVh/Ccz63QY83JUIHEC5Cn+dDv1iq70A=",
          "dtype": "f4"
         },
         "xaxis": "x",
         "y": {
          "bdata": "4QtIv4Fn4MGOFfNBI+s9wuLlHEKNuYRBSz5Iws8g6T8o4UjAioC9QMzkLcJ+1oPB7iGlwRyD80DmEfO+zluhwREnPcHRAwdCLmInQsECgcHPe+fBkmf7QX03LEK5EaNBFtW5Qc1sNMIgczLCPW/ewS2ykUF7dY3Bv0Ybwf0qLcGAhNTBsOQSQb4wEcK9YeLA+iZJQuNYycEsDYHAGL0HwUrOUUEnsNHB4TEhQb62yUEY2H5BOBkcwkuXHMFqWn3B8NDzQYnFaMLoeapBSzI9wP+KA0JGrDhCPs0RQThZckFlz2LBXysbwlgNTb4v4L9AQ2y0QXli2kGO1PO+J9DMwd/GBkGPUdJBGWuGQCpPqUHDaUTC2WYkwtox20Ede45B9Ex0we0hrUH8MIFBbwqcQb0nnMFIcoPAAS7HwWxNP0BljZfBw0rCwMNCn0CS83fB2ZyiPc5CuUFNtZLAfoizwejBDMKeZ7fAwnzuwa+i0kEIwxhC9BS/waJY20BfaBbBaT6KQGKFasKAJebAt5qCQfozW0CAmw7Cp4UpwlQSkcEfEBPC4+cfQoXnL0EC00JB1A4Iwkk5CsFYkUPBThnTv86HCsImnSZBLXjaQTIJE0FRqNPBM45pwHfry8HnlPBBYzsjQoVNzsFVMAvCriWRQV20ocFUKdbB74YDQkI1Q8GFjYRBD/TZwfMoqME8l4lB2BQGQhV+v8CG7LpA1BuBwcxg00BgcORByqwZPyVuasFFmJK//t0YwhAEi0EgUe/BoV8QwgFaRcFeKYPB3jYdQlIhCj+hJ6VBpUwhQja+sMHSvDFCR8+lQccih8GDI0FC+nAOQmLjlEHk6PVBemi1wYPw/UGxOWtBheocwpx5zkH3yu5BAHyVQYugJMJxLBPBD96fQUS8hsDhGS/CWU02wYAFJsG4goPBVYkZQugsg780y/S/pTYRwKZYIkIbGgBCXlCoQWC41EDhMulBQVLrQcyyBsJEItTAouQgwvthssGWrkNByMx+wVYTXUCgCxbBDLbbPw9dqkFiIxTCdqnDwZXAoj+wa/hBlQkpQuS9IEHbCtQ/OE8BwnR5a8HJiV5B9/GDwTe9D0H1KYxBl4OBvx4zHELVUk/BN2EMQfgh0EFwVEhBGojKwRdG4sF9CY1BeorEQQdSk0HCpBRAWAUAwsC6OEKhmBxBhStiP1Pjrz+iZAvCcS8GwZ43IMLW/C1CofyswYBTjMEnUPJA/egAQjFyS8GWL45BeAgcwUfer8BXj6BBtUXRwfQE1EG0tjrBw0C6wRg81EBQXsPBZVObwH8jykGhoAlCadPIwWVFcMFp1xDCQZEkQb15aMHN/g5CPx8OwlQ8LkKLqyzC1KmSQUvRZ0F+j5PB2+sKQmlxCsG4egjCL85swRhlgkFS6uJAiz6AQer22cG/G5dBk6gmwkH6LsKLKYbB+gCJQTg178ELR/DACpIBQjl+FUI=",
          "dtype": "f4"
         },
         "yaxis": "y"
        }
       ],
       "layout": {
        "height": 800,
        "hoverlabel": {
         "font": {
          "size": 12
         }
        },
        "legend": {
         "tracegroupgap": 0
        },
        "margin": {
         "b": 20,
         "l": 20,
         "r": 20,
         "t": 50
        },
        "showlegend": false,
        "template": {
         "data": {
          "bar": [
           {
            "error_x": {
             "color": "#2a3f5f"
            },
            "error_y": {
             "color": "#2a3f5f"
            },
            "marker": {
             "line": {
              "color": "#E5ECF6",
              "width": 0.5
             },
             "pattern": {
              "fillmode": "overlay",
              "size": 10,
              "solidity": 0.2
             }
            },
            "type": "bar"
           }
          ],
          "barpolar": [
           {
            "marker": {
             "line": {
              "color": "#E5ECF6",
              "width": 0.5
             },
             "pattern": {
              "fillmode": "overlay",
              "size": 10,
              "solidity": 0.2
             }
            },
            "type": "barpolar"
           }
          ],
          "carpet": [
           {
            "aaxis": {
             "endlinecolor": "#2a3f5f",
             "gridcolor": "white",
             "linecolor": "white",
             "minorgridcolor": "white",
             "startlinecolor": "#2a3f5f"
            },
            "baxis": {
             "endlinecolor": "#2a3f5f",
             "gridcolor": "white",
             "linecolor": "white",
             "minorgridcolor": "white",
             "startlinecolor": "#2a3f5f"
            },
            "type": "carpet"
           }
          ],
          "choropleth": [
           {
            "colorbar": {
             "outlinewidth": 0,
             "ticks": ""
            },
            "type": "choropleth"
           }
          ],
          "contour": [
           {
            "colorbar": {
             "outlinewidth": 0,
             "ticks": ""
            },
            "colorscale": [
             [
              0,
              "#0d0887"
             ],
             [
              0.1111111111111111,
              "#46039f"
             ],
             [
              0.2222222222222222,
              "#7201a8"
             ],
             [
              0.3333333333333333,
              "#9c179e"
             ],
             [
              0.4444444444444444,
              "#bd3786"
             ],
             [
              0.5555555555555556,
              "#d8576b"
             ],
             [
              0.6666666666666666,
              "#ed7953"
             ],
             [
              0.7777777777777778,
              "#fb9f3a"
             ],
             [
              0.8888888888888888,
              "#fdca26"
             ],
             [
              1,
              "#f0f921"
             ]
            ],
            "type": "contour"
           }
          ],
          "contourcarpet": [
           {
            "colorbar": {
             "outlinewidth": 0,
             "ticks": ""
            },
            "type": "contourcarpet"
           }
          ],
          "heatmap": [
           {
            "colorbar": {
             "outlinewidth": 0,
             "ticks": ""
            },
            "colorscale": [
             [
              0,
              "#0d0887"
             ],
             [
              0.1111111111111111,
              "#46039f"
             ],
             [
              0.2222222222222222,
              "#7201a8"
             ],
             [
              0.3333333333333333,
              "#9c179e"
             ],
             [
              0.4444444444444444,
              "#bd3786"
             ],
             [
              0.5555555555555556,
              "#d8576b"
             ],
             [
              0.6666666666666666,
              "#ed7953"
             ],
             [
              0.7777777777777778,
              "#fb9f3a"
             ],
             [
              0.8888888888888888,
              "#fdca26"
             ],
             [
              1,
              "#f0f921"
             ]
            ],
            "type": "heatmap"
           }
          ],
          "histogram": [
           {
            "marker": {
             "pattern": {
              "fillmode": "overlay",
              "size": 10,
              "solidity": 0.2
             }
            },
            "type": "histogram"
           }
          ],
          "histogram2d": [
           {
            "colorbar": {
             "outlinewidth": 0,
             "ticks": ""
            },
            "colorscale": [
             [
              0,
              "#0d0887"
             ],
             [
              0.1111111111111111,
              "#46039f"
             ],
             [
              0.2222222222222222,
              "#7201a8"
             ],
             [
              0.3333333333333333,
              "#9c179e"
             ],
             [
              0.4444444444444444,
              "#bd3786"
             ],
             [
              0.5555555555555556,
              "#d8576b"
             ],
             [
              0.6666666666666666,
              "#ed7953"
             ],
             [
              0.7777777777777778,
              "#fb9f3a"
             ],
             [
              0.8888888888888888,
              "#fdca26"
             ],
             [
              1,
              "#f0f921"
             ]
            ],
            "type": "histogram2d"
           }
          ],
          "histogram2dcontour": [
           {
            "colorbar": {
             "outlinewidth": 0,
             "ticks": ""
            },
            "colorscale": [
             [
              0,
              "#0d0887"
             ],
             [
              0.1111111111111111,
              "#46039f"
             ],
             [
              0.2222222222222222,
              "#7201a8"
             ],
             [
              0.3333333333333333,
              "#9c179e"
             ],
             [
              0.4444444444444444,
              "#bd3786"
             ],
             [
              0.5555555555555556,
              "#d8576b"
             ],
             [
              0.6666666666666666,
              "#ed7953"
             ],
             [
              0.7777777777777778,
              "#fb9f3a"
             ],
             [
              0.8888888888888888,
              "#fdca26"
             ],
             [
              1,
              "#f0f921"
             ]
            ],
            "type": "histogram2dcontour"
           }
          ],
          "mesh3d": [
           {
            "colorbar": {
             "outlinewidth": 0,
             "ticks": ""
            },
            "type": "mesh3d"
           }
          ],
          "parcoords": [
           {
            "line": {
             "colorbar": {
              "outlinewidth": 0,
              "ticks": ""
             }
            },
            "type": "parcoords"
           }
          ],
          "pie": [
           {
            "automargin": true,
            "type": "pie"
           }
          ],
          "scatter": [
           {
            "fillpattern": {
             "fillmode": "overlay",
             "size": 10,
             "solidity": 0.2
            },
            "type": "scatter"
           }
          ],
          "scatter3d": [
           {
            "line": {
             "colorbar": {
              "outlinewidth": 0,
              "ticks": ""
             }
            },
            "marker": {
             "colorbar": {
              "outlinewidth": 0,
              "ticks": ""
             }
            },
            "type": "scatter3d"
           }
          ],
          "scattercarpet": [
           {
            "marker": {
             "colorbar": {
              "outlinewidth": 0,
              "ticks": ""
             }
            },
            "type": "scattercarpet"
           }
          ],
          "scattergeo": [
           {
            "marker": {
             "colorbar": {
              "outlinewidth": 0,
              "ticks": ""
             }
            },
            "type": "scattergeo"
           }
          ],
          "scattergl": [
           {
            "marker": {
             "colorbar": {
              "outlinewidth": 0,
              "ticks": ""
             }
            },
            "type": "scattergl"
           }
          ],
          "scattermap": [
           {
            "marker": {
             "colorbar": {
              "outlinewidth": 0,
              "ticks": ""
             }
            },
            "type": "scattermap"
           }
          ],
          "scattermapbox": [
           {
            "marker": {
             "colorbar": {
              "outlinewidth": 0,
              "ticks": ""
             }
            },
            "type": "scattermapbox"
           }
          ],
          "scatterpolar": [
           {
            "marker": {
             "colorbar": {
              "outlinewidth": 0,
              "ticks": ""
             }
            },
            "type": "scatterpolar"
           }
          ],
          "scatterpolargl": [
           {
            "marker": {
             "colorbar": {
              "outlinewidth": 0,
              "ticks": ""
             }
            },
            "type": "scatterpolargl"
           }
          ],
          "scatterternary": [
           {
            "marker": {
             "colorbar": {
              "outlinewidth": 0,
              "ticks": ""
             }
            },
            "type": "scatterternary"
           }
          ],
          "surface": [
           {
            "colorbar": {
             "outlinewidth": 0,
             "ticks": ""
            },
            "colorscale": [
             [
              0,
              "#0d0887"
             ],
             [
              0.1111111111111111,
              "#46039f"
             ],
             [
              0.2222222222222222,
              "#7201a8"
             ],
             [
              0.3333333333333333,
              "#9c179e"
             ],
             [
              0.4444444444444444,
              "#bd3786"
             ],
             [
              0.5555555555555556,
              "#d8576b"
             ],
             [
              0.6666666666666666,
              "#ed7953"
             ],
             [
              0.7777777777777778,
              "#fb9f3a"
             ],
             [
              0.8888888888888888,
              "#fdca26"
             ],
             [
              1,
              "#f0f921"
             ]
            ],
            "type": "surface"
           }
          ],
          "table": [
           {
            "cells": {
             "fill": {
              "color": "#EBF0F8"
             },
             "line": {
              "color": "white"
             }
            },
            "header": {
             "fill": {
              "color": "#C8D4E3"
             },
             "line": {
              "color": "white"
             }
            },
            "type": "table"
           }
          ]
         },
         "layout": {
          "annotationdefaults": {
           "arrowcolor": "#2a3f5f",
           "arrowhead": 0,
           "arrowwidth": 1
          },
          "autotypenumbers": "strict",
          "coloraxis": {
           "colorbar": {
            "outlinewidth": 0,
            "ticks": ""
           }
          },
          "colorscale": {
           "diverging": [
            [
             0,
             "#8e0152"
            ],
            [
             0.1,
             "#c51b7d"
            ],
            [
             0.2,
             "#de77ae"
            ],
            [
             0.3,
             "#f1b6da"
            ],
            [
             0.4,
             "#fde0ef"
            ],
            [
             0.5,
             "#f7f7f7"
            ],
            [
             0.6,
             "#e6f5d0"
            ],
            [
             0.7,
             "#b8e186"
            ],
            [
             0.8,
             "#7fbc41"
            ],
            [
             0.9,
             "#4d9221"
            ],
            [
             1,
             "#276419"
            ]
           ],
           "sequential": [
            [
             0,
             "#0d0887"
            ],
            [
             0.1111111111111111,
             "#46039f"
            ],
            [
             0.2222222222222222,
             "#7201a8"
            ],
            [
             0.3333333333333333,
             "#9c179e"
            ],
            [
             0.4444444444444444,
             "#bd3786"
            ],
            [
             0.5555555555555556,
             "#d8576b"
            ],
            [
             0.6666666666666666,
             "#ed7953"
            ],
            [
             0.7777777777777778,
             "#fb9f3a"
            ],
            [
             0.8888888888888888,
             "#fdca26"
            ],
            [
             1,
             "#f0f921"
            ]
           ],
           "sequentialminus": [
            [
             0,
             "#0d0887"
            ],
            [
             0.1111111111111111,
             "#46039f"
            ],
            [
             0.2222222222222222,
             "#7201a8"
            ],
            [
             0.3333333333333333,
             "#9c179e"
            ],
            [
             0.4444444444444444,
             "#bd3786"
            ],
            [
             0.5555555555555556,
             "#d8576b"
            ],
            [
             0.6666666666666666,
             "#ed7953"
            ],
            [
             0.7777777777777778,
             "#fb9f3a"
            ],
            [
             0.8888888888888888,
             "#fdca26"
            ],
            [
             1,
             "#f0f921"
            ]
           ]
          },
          "colorway": [
           "#636efa",
           "#EF553B",
           "#00cc96",
           "#ab63fa",
           "#FFA15A",
           "#19d3f3",
           "#FF6692",
           "#B6E880",
           "#FF97FF",
           "#FECB52"
          ],
          "font": {
           "color": "#2a3f5f"
          },
          "geo": {
           "bgcolor": "white",
           "lakecolor": "white",
           "landcolor": "#E5ECF6",
           "showlakes": true,
           "showland": true,
           "subunitcolor": "white"
          },
          "hoverlabel": {
           "align": "left"
          },
          "hovermode": "closest",
          "mapbox": {
           "style": "light"
          },
          "paper_bgcolor": "white",
          "plot_bgcolor": "#E5ECF6",
          "polar": {
           "angularaxis": {
            "gridcolor": "white",
            "linecolor": "white",
            "ticks": ""
           },
           "bgcolor": "#E5ECF6",
           "radialaxis": {
            "gridcolor": "white",
            "linecolor": "white",
            "ticks": ""
           }
          },
          "scene": {
           "xaxis": {
            "backgroundcolor": "#E5ECF6",
            "gridcolor": "white",
            "gridwidth": 2,
            "linecolor": "white",
            "showbackground": true,
            "ticks": "",
            "zerolinecolor": "white"
           },
           "yaxis": {
            "backgroundcolor": "#E5ECF6",
            "gridcolor": "white",
            "gridwidth": 2,
            "linecolor": "white",
            "showbackground": true,
            "ticks": "",
            "zerolinecolor": "white"
           },
           "zaxis": {
            "backgroundcolor": "#E5ECF6",
            "gridcolor": "white",
            "gridwidth": 2,
            "linecolor": "white",
            "showbackground": true,
            "ticks": "",
            "zerolinecolor": "white"
           }
          },
          "shapedefaults": {
           "line": {
            "color": "#2a3f5f"
           }
          },
          "ternary": {
           "aaxis": {
            "gridcolor": "white",
            "linecolor": "white",
            "ticks": ""
           },
           "baxis": {
            "gridcolor": "white",
            "linecolor": "white",
            "ticks": ""
           },
           "bgcolor": "#E5ECF6",
           "caxis": {
            "gridcolor": "white",
            "linecolor": "white",
            "ticks": ""
           }
          },
          "title": {
           "x": 0.05
          },
          "xaxis": {
           "automargin": true,
           "gridcolor": "white",
           "linecolor": "white",
           "ticks": "",
           "title": {
            "standoff": 15
           },
           "zerolinecolor": "white",
           "zerolinewidth": 2
          },
          "yaxis": {
           "automargin": true,
           "gridcolor": "white",
           "linecolor": "white",
           "ticks": "",
           "title": {
            "standoff": 15
           },
           "zerolinecolor": "white",
           "zerolinewidth": 2
          }
         }
        },
        "title": {
         "text": "t-SNE des entités BBC (interactive, amélioré)"
        },
        "width": 1100,
        "xaxis": {
         "anchor": "y",
         "domain": [
          0,
          1
         ],
         "title": {
          "text": "x"
         }
        },
        "yaxis": {
         "anchor": "x",
         "domain": [
          0,
          1
         ],
         "title": {
          "text": "y"
         }
        }
       }
      }
     },
     "metadata": {},
     "output_type": "display_data"
    }
   ],
   "source": [
    "import numpy as np\n",
    "from sklearn.manifold import TSNE\n",
    "import plotly.express as px\n",
    "import pandas as pd\n",
    "\n",
    "# 📦 Embeddings & labels\n",
    "entity_embeddings = results.model.entity_representations[0]().detach().cpu().numpy()\n",
    "entity_labels = list(results.training.entity_labeling.label_to_id.keys())\n",
    "\n",
    "# 🔠 Nettoyage des labels\n",
    "labels_clean = [\n",
    "    label.replace(\"https://www.bbc.com/news/business\", \"\") or \"ROOT\"\n",
    "    for label in entity_labels\n",
    "]\n",
    "\n",
    "# 📉 t-SNE\n",
    "tsne = TSNE(n_components=2, random_state=42, perplexity=5)\n",
    "embeddings_2d = tsne.fit_transform(entity_embeddings)\n",
    "\n",
    "# 📊 DataFrame\n",
    "df_plot = pd.DataFrame({\n",
    "    'x': embeddings_2d[:, 0],\n",
    "    'y': embeddings_2d[:, 1],\n",
    "    'label': labels_clean,\n",
    "    'full_url': entity_labels  # pour hover info complète\n",
    "})\n",
    "\n",
    "# 🎨 Plotly interactive + améliorations\n",
    "fig = px.scatter(\n",
    "    df_plot,\n",
    "    x='x', y='y',\n",
    "    hover_name='full_url',  # affichage complet au survol\n",
    "    text='label',\n",
    "    title=\"t-SNE des entités BBC (interactive, amélioré)\"\n",
    ")\n",
    "\n",
    "# 🔧 Mise en page lisible\n",
    "fig.update_traces(\n",
    "    textposition='top center',\n",
    "    marker=dict(size=6, color='blue')\n",
    ")\n",
    "fig.update_layout(\n",
    "    height=800,\n",
    "    width=1100,\n",
    "    showlegend=False,\n",
    "    hoverlabel=dict(font_size=12),\n",
    "    margin=dict(l=20, r=20, t=50, b=20)\n",
    ")\n",
    "\n",
    "fig.show()"
   ]
  },
  {
   "cell_type": "markdown",
   "metadata": {},
   "source": [
    "Le graphique t-SNE montre que les entités extraites du site BBC se regroupent par thématique. On voit par exemple que des termes liés à l’économie comme market, investors, falls ou shares apparaissent proches les uns des autres. D'autres zones rassemblent des entités géopolitiques ou liées à des organisations comme EU, China, administration, government ou IMF. Cela suggère que le modèle TransE a appris à représenter les entités selon leur contexte sémantique dans le graphe RDF, même si le graphe reste relativement bruité et automatique. Ce genre de visualisation est utile pour comprendre comment les entités sont structurées et perçues par le modèle."
   ]
  }
 ],
 "metadata": {
  "kernelspec": {
   "display_name": "pykeen_env",
   "language": "python",
   "name": "python3"
  },
  "language_info": {
   "codemirror_mode": {
    "name": "ipython",
    "version": 3
   },
   "file_extension": ".py",
   "mimetype": "text/x-python",
   "name": "python",
   "nbconvert_exporter": "python",
   "pygments_lexer": "ipython3",
   "version": "3.10.16"
  }
 },
 "nbformat": 4,
 "nbformat_minor": 2
}
